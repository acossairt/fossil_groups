{
 "cells": [
  {
   "cell_type": "markdown",
   "metadata": {},
   "source": [
    "### Magic Timing"
   ]
  },
  {
   "cell_type": "code",
   "execution_count": 1,
   "metadata": {},
   "outputs": [],
   "source": [
    "import numpy as np\n",
    "import matplotlib.pyplot as plt"
   ]
  },
  {
   "cell_type": "code",
   "execution_count": 9,
   "metadata": {},
   "outputs": [
    {
     "name": "stdout",
     "output_type": "stream",
     "text": [
      "245 ms ± 3.89 ms per loop (mean ± std. dev. of 7 runs, 1 loop each)\n"
     ]
    }
   ],
   "source": [
    "%%timeit\n",
    "total = 0\n",
    "for i in range(1000):\n",
    "    for j in range(1000):\n",
    "        total += i * (-1) ** j"
   ]
  },
  {
   "cell_type": "code",
   "execution_count": null,
   "metadata": {},
   "outputs": [],
   "source": []
  },
  {
   "cell_type": "code",
   "execution_count": null,
   "metadata": {},
   "outputs": [],
   "source": [
    "    alpha_list = []\n",
    "    \n",
    "    # Change z_values to lookback times\n",
    "    cosmo = FlatLambdaCDM(H0=67.66, Om0=0.310)\n",
    "    lookback_times = np.array(cosmo.lookback_time(timesteps))\n",
    "    age = float(cosmo.age(0) / u.Gyr)\n",
    "    ages_list = [age for i in np.arange(len(lookback_times[0]))]\n",
    "    times = [ages_list - lt for lt in lookback_times]\n",
    "    \n",
    "    # Loop through each halo\n",
    "    for i in np.arange(len(masses)):\n",
    "        \n",
    "        # Mask up, friends!\n",
    "        mask = (masses[i] > 10**12)\n",
    "        masses_masked = np.array(masses)[i][mask]\n",
    "        times_masked = times[i][mask]\n",
    "        main_prog_list[i] = np.append(main_prog_list[i], np.zeros(101 - len(main_prog_list[i])))[mask]\n",
    "        \n",
    "        # Calculate alphas\n",
    "        t_B = times_masked[0:(len(masses_masked) - 1)]\n",
    "        M_B = masses_masked[0:(len(masses_masked) - 1)]\n",
    "        t_A = times_masked[1:]\n",
    "        M_A = masses_masked[1:]\n",
    "        alpha = (t_B + t_A) * (M_B - M_A) / ((t_B - t_A)*(M_B + M_A))\n",
    "        alpha_std = alpha[np.isnan(alpha) == False]\n",
    "        alpha_list.append(alpha_std)\n",
    "\n",
    "    return alpha_list"
   ]
  }
 ],
 "metadata": {
  "kernelspec": {
   "display_name": "Python 3",
   "language": "python",
   "name": "python3"
  },
  "language_info": {
   "codemirror_mode": {
    "name": "ipython",
    "version": 3
   },
   "file_extension": ".py",
   "mimetype": "text/x-python",
   "name": "python",
   "nbconvert_exporter": "python",
   "pygments_lexer": "ipython3",
   "version": "3.8.3"
  }
 },
 "nbformat": 4,
 "nbformat_minor": 4
}
