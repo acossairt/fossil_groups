{
 "cells": [
  {
   "cell_type": "markdown",
   "id": "aggregate-poster",
   "metadata": {},
   "source": [
    "# Full Stats, Haccytrees, Abundances\n",
    "This notebook will be like a combination of Haccytrees.ipynb and LJ-Full_Fossil_Groups.ipynb. After this one is finished, those notebooks may be cleaned up or deleted"
   ]
  },
  {
   "cell_type": "markdown",
   "id": "extreme-paradise",
   "metadata": {},
   "source": [
    "## Set Up"
   ]
  },
  {
   "cell_type": "code",
   "execution_count": 1,
   "id": "sexual-prayer",
   "metadata": {},
   "outputs": [
    {
     "name": "stdout",
     "output_type": "stream",
     "text": [
      "pyfftw not available, using numpy fft\n"
     ]
    }
   ],
   "source": [
    "import haccytrees.mergertrees\n",
    "import h5py\n",
    "import numpy as np\n",
    "import numba\n",
    "import scipy\n",
    "import seaborn as sns\n",
    "import matplotlib.pyplot as plt\n",
    "from matplotlib.pyplot import cm\n",
    "from matplotlib.lines import Line2D\n",
    "import matplotlib.colors as mcolors\n",
    "import matplotlib.patches as mpatches\n",
    "import pandas as pd\n",
    "from astropy.cosmology import FlatLambdaCDM\n",
    "import astropy.units as u\n",
    "from itertools import groupby\n",
    "from matplotlib.ticker import ScalarFormatter\n",
    "%load_ext line_profiler\n",
    "%reload_ext autoreload\n",
    "%autoreload 1\n",
    "%aimport help_func_haccytrees\n",
    "\n",
    "plt.rcParams.update({\n",
    "    \"text.usetex\": True,\n",
    "    'font.size': 13,\n",
    "    \"figure.figsize\": (5.25, 3.5),#(6.25, 4.25), #(6.25, 3.75)\n",
    "    \"patch.linewidth\": 1\n",
    "})"
   ]
  },
  {
   "cell_type": "code",
   "execution_count": 2,
   "id": "loved-symposium",
   "metadata": {},
   "outputs": [
    {
     "name": "stdout",
     "output_type": "stream",
     "text": [
      "CPU times: user 36.7 s, sys: 53 s, total: 1min 29s\n",
      "Wall time: 2min 9s\n"
     ]
    }
   ],
   "source": [
    "%%time\n",
    "with h5py.File(\"/data/a/cpac/mbuehlmann/LastJourney/forest/z0_catalog.hdf5\", \"r\") as f:\n",
    "    data = {\n",
    "        k: d[:] for k, d in f.items()\n",
    "    }\n",
    "s = np.argsort(data['tree_node_index'])\n",
    "data = {k: data[k][s] for k in data.keys()} # all halos at z=0 above a certain mass threshold"
   ]
  },
  {
   "cell_type": "code",
   "execution_count": 3,
   "id": "assisted-portsmouth",
   "metadata": {},
   "outputs": [
    {
     "name": "stdout",
     "output_type": "stream",
     "text": [
      "CPU times: user 30.5 s, sys: 37.6 s, total: 1min 8s\n",
      "Wall time: 1min 8s\n"
     ]
    }
   ],
   "source": [
    "%%time\n",
    "fg_forest_lm5, fg_progenitor_array_lm5 = haccytrees.mergertrees.read_forest(\n",
    "    \"/data/a/cpac/mbuehlmann/LastJourney/forest/fg_forest.hdf5\",\n",
    "    'LastJourney',\n",
    "    mass_threshold=5e11\n",
    ")"
   ]
  },
  {
   "cell_type": "markdown",
   "id": "activated-hammer",
   "metadata": {},
   "source": [
    "#### What is `data`?\n",
    "`data` is a dictionary containing only the halo information we are interested in (i.e. just at $z=0$). Use `data.keys()` to see what's inside. You can treat `data` largely like you treated `forest`: i.e. to get a `key` for a specific subset of halos, use `data['key_name'][halo_idx]`.\n",
    "On the fossil groups side, the equivalent of `data` is `fg_catalog`, which consists only of $z=0$ information for halos we have previously identified as fossil groups. We create `fg_catalog` from `fg_forest.hdf5` below."
   ]
  },
  {
   "cell_type": "code",
   "execution_count": 4,
   "id": "equal-spirit",
   "metadata": {},
   "outputs": [
    {
     "data": {
      "text/plain": [
       "dict_keys(['delta+1_rsoft0.0', 'delta+1_rsoft1.0', 'delta+1_rsoft10.0', 'delta+1_rsoft2.0', 'delta+1_rsoft4.0', 'filenum', 'index', 'sig_rsoft_0.0', 'sig_rsoft_1.0', 'sig_rsoft_10.0', 'sig_rsoft_2.0', 'sig_rsoft_4.0', 'sod_halo_cdelta', 'sod_halo_cdelta_accum', 'sod_halo_cdelta_peak', 'tree_node_index', 'tree_node_mass', 'x', 'xoff_com', 'xoff_fof', 'xoff_sod', 'y', 'z'])"
      ]
     },
     "execution_count": 4,
     "metadata": {},
     "output_type": "execute_result"
    }
   ],
   "source": [
    "data.keys()"
   ]
  },
  {
   "cell_type": "code",
   "execution_count": 39,
   "id": "boring-figure",
   "metadata": {},
   "outputs": [
    {
     "name": "stdout",
     "output_type": "stream",
     "text": [
      "{'branch_size': array([492, 626, 722, ..., 688, 495, 846], dtype=int32), 'desc_node_index': array([-1, -1, -1, ..., -1, -1, -1]), 'fof_halo_center_x': array([  33.078995,   28.99692 ,   10.355293, ..., 3374.1975  ,\n",
      "       3378.541   , 3351.8428  ], dtype=float32), 'fof_halo_center_y': array([  23.300694,   27.697847,   34.30774 , ..., 3376.977   ,\n",
      "       3382.3665  , 3348.0195  ], dtype=float32), 'fof_halo_center_z': array([ 105.93779,   86.71628,  100.24692, ..., 3367.3103 , 3230.039  ,\n",
      "       3360.602  ], dtype=float32), 'fof_halo_count': array([4456, 4510, 4583, ..., 6411, 4017, 7019], dtype=int32), 'fof_halo_mass': array([1.2108718e+13, 1.2255457e+13, 1.2453827e+13, ..., 1.7421227e+13,\n",
      "       1.0915781e+13, 1.9073405e+13], dtype=float32), 'fof_halo_tag': array([  15954258774,   10983351053,    6128350018, ..., 1233857027989,\n",
      "       1239752876002, 1226804393354]), 'snapnum': array([100, 100, 100, ..., 100, 100, 100], dtype=int16), 'sod_halo_cdelta': array([8.462209 , 6.3451595, 4.4222775, ..., 6.588391 , 5.5796223,\n",
      "       8.443644 ], dtype=float32), 'sod_halo_cdelta_accum': array([9.177768 , 6.2364492, 4.3618846, ..., 6.6179843, 5.683897 ,\n",
      "       6.8777146], dtype=float32), 'sod_halo_cdelta_error': array([0.46916482, 0.34766948, 0.24493301, ..., 0.29573664, 0.34074765,\n",
      "       0.32769993], dtype=float32), 'sod_halo_cdelta_peak': array([13.374466 ,  4.966181 ,  5.017578 , ...,  8.232884 ,  6.846864 ,\n",
      "        5.0842443], dtype=float32), 'sod_halo_count': array([4076, 3836, 4328, ..., 5774, 3554, 6960]), 'sod_halo_mass': array([1.1076107e+13, 1.0423932e+13, 1.1760891e+13, ..., 1.5690245e+13,\n",
      "       9.6576261e+12, 1.8913077e+13], dtype=float32), 'sod_halo_radius': array([0.36264226, 0.35527912, 0.36986026, ..., 0.40715522, 0.34674045,\n",
      "       0.43331617], dtype=float32), 'tree_node_index': array([2247296214057883559, 2247296214057887040, 2247296214057887193, ...,\n",
      "       2247577684739649806, 2247577684739653051, 2247577684739654115]), 'tree_node_mass': array([1.2108718e+13, 1.2255457e+13, 1.2453827e+13, ..., 1.7421227e+13,\n",
      "       1.0915781e+13, 1.9073405e+13], dtype=float32), 'xoff_com': array([0.04212785, 0.07893627, 0.02121589, ..., 0.03337496, 0.03398705,\n",
      "       0.01718212], dtype=float32), 'xoff_fof': array([0.03698058, 0.0802163 , 0.06464212, ..., 0.0363899 , 0.04795136,\n",
      "       0.03427636], dtype=float32), 'xoff_sod': array([0.00641049, 0.02845566, 0.0512589 , ..., 0.00436534, 0.02978942,\n",
      "       0.01762895], dtype=float32), 'scale_factor': array([1., 1., 1., ..., 1., 1., 1.]), 'descendant_idx': array([-1, -1, -1, ..., -1, -1, -1]), 'progenitor_count': array([1, 1, 1, ..., 1, 1, 1], dtype=uint32), 'progenitor_offset': array([       0,       74,      143, ..., 91239631, 91239754, 91239839],\n",
      "      dtype=uint64), 'halo_index': array([       0,       75,      145, ..., 92192843, 92192967, 92193053])} \n",
      "\n",
      "{'branch_size': array([492, 626, 722, ..., 688, 495, 846], dtype=int32), 'desc_node_index': array([-1, -1, -1, ..., -1, -1, -1]), 'fof_halo_center_x': array([  33.078995,   28.99692 ,   10.355293, ..., 3374.1975  ,\n",
      "       3378.541   , 3351.8428  ], dtype=float32), 'fof_halo_center_y': array([  23.300694,   27.697847,   34.30774 , ..., 3376.977   ,\n",
      "       3382.3665  , 3348.0195  ], dtype=float32), 'fof_halo_center_z': array([ 105.93779,   86.71628,  100.24692, ..., 3367.3103 , 3230.039  ,\n",
      "       3360.602  ], dtype=float32), 'fof_halo_count': array([4456, 4510, 4583, ..., 6411, 4017, 7019], dtype=int32), 'fof_halo_mass': array([1.2108718e+13, 1.2255457e+13, 1.2453827e+13, ..., 1.7421227e+13,\n",
      "       1.0915781e+13, 1.9073405e+13], dtype=float32), 'fof_halo_tag': array([  15954258774,   10983351053,    6128350018, ..., 1233857027989,\n",
      "       1239752876002, 1226804393354]), 'snapnum': array([100, 100, 100, ..., 100, 100, 100], dtype=int16), 'sod_halo_cdelta': array([8.462209 , 6.3451595, 4.4222775, ..., 6.588391 , 5.5796223,\n",
      "       8.443644 ], dtype=float32), 'sod_halo_cdelta_accum': array([9.177768 , 6.2364492, 4.3618846, ..., 6.6179843, 5.683897 ,\n",
      "       6.8777146], dtype=float32), 'sod_halo_cdelta_error': array([0.46916482, 0.34766948, 0.24493301, ..., 0.29573664, 0.34074765,\n",
      "       0.32769993], dtype=float32), 'sod_halo_cdelta_peak': array([13.374466 ,  4.966181 ,  5.017578 , ...,  8.232884 ,  6.846864 ,\n",
      "        5.0842443], dtype=float32), 'sod_halo_count': array([4076, 3836, 4328, ..., 5774, 3554, 6960]), 'sod_halo_mass': array([1.1076107e+13, 1.0423932e+13, 1.1760891e+13, ..., 1.5690245e+13,\n",
      "       9.6576261e+12, 1.8913077e+13], dtype=float32), 'sod_halo_radius': array([0.36264226, 0.35527912, 0.36986026, ..., 0.40715522, 0.34674045,\n",
      "       0.43331617], dtype=float32), 'tree_node_index': array([2247296214057883559, 2247296214057887040, 2247296214057887193, ...,\n",
      "       2247577684739649806, 2247577684739653051, 2247577684739654115]), 'tree_node_mass': array([1.2108718e+13, 1.2255457e+13, 1.2453827e+13, ..., 1.7421227e+13,\n",
      "       1.0915781e+13, 1.9073405e+13], dtype=float32), 'xoff_com': array([0.04212785, 0.07893627, 0.02121589, ..., 0.03337496, 0.03398705,\n",
      "       0.01718212], dtype=float32), 'xoff_fof': array([0.03698058, 0.0802163 , 0.06464212, ..., 0.0363899 , 0.04795136,\n",
      "       0.03427636], dtype=float32), 'xoff_sod': array([0.00641049, 0.02845566, 0.0512589 , ..., 0.00436534, 0.02978942,\n",
      "       0.01762895], dtype=float32), 'scale_factor': array([1., 1., 1., ..., 1., 1., 1.]), 'descendant_idx': array([-1, -1, -1, ..., -1, -1, -1]), 'progenitor_count': array([1, 1, 1, ..., 1, 1, 1], dtype=uint32), 'progenitor_offset': array([       0,       74,      143, ..., 91239631, 91239754, 91239839],\n",
      "      dtype=uint64), 'halo_index': array([       0,       75,      145, ..., 92192843, 92192967, 92193053])}\n",
      "CPU times: user 2.72 s, sys: 64.4 ms, total: 2.79 s\n",
      "Wall time: 2.78 s\n"
     ]
    }
   ],
   "source": [
    "%%time\n",
    "mask_z0 = fg_forest_lm5['snapnum'] == 100\n",
    "fg_catalog_lm5 = {k: fg_forest_lm5[k][mask_z0] for k in fg_forest_lm5.keys()} # forest data at z=0 # Why is this different from `assign_fgs()`?\n",
    "print(fg_catalog_lm5, \"\\n\")\n",
    "s = np.argsort(fg_catalog_lm5['tree_node_index']) # How is this being sorted exactly?\n",
    "fg_catalog_lm5 = {k: fg_catalog_lm5[k][s] for k in fg_catalog_lm5.keys()}\n",
    "print(fg_catalog_lm5)"
   ]
  },
  {
   "cell_type": "code",
   "execution_count": 9,
   "id": "chemical-rainbow",
   "metadata": {},
   "outputs": [
    {
     "name": "stdout",
     "output_type": "stream",
     "text": [
      "CPU times: user 17.6 s, sys: 20.3 s, total: 37.8 s\n",
      "Wall time: 37.8 s\n"
     ]
    }
   ],
   "source": [
    "%%time\n",
    "fg_forest_lm3, fg_progenitor_array_lm3 = haccytrees.mergertrees.read_forest(\n",
    "    \"/data/a/cpac/mbuehlmann/LastJourney/forest/fg_forest_lm3e11.hdf5\",\n",
    "    'LastJourney',\n",
    "    mass_threshold=3e11\n",
    ")\n",
    "\n",
    "fg_forest_lm15, fg_progenitor_array_lm15 = haccytrees.mergertrees.read_forest(\n",
    "    \"/data/a/cpac/mbuehlmann/LastJourney/forest/fg_forest_lm1.5e11.hdf5\",\n",
    "    'LastJourney',\n",
    "    mass_threshold=1.5*10**11\n",
    ")\n",
    "\n",
    "mask_z0 = fg_forest_lm3['snapnum'] == 100\n",
    "fg_catalog_lm3 = {k: fg_forest_lm3[k][mask_z0] for k in fg_forest_lm3.keys()} # forest data at z=0\n",
    "s = np.argsort(fg_catalog_lm3['tree_node_index']) # Why do we need this sorting?\n",
    "fg_catalog_lm3 = {k: fg_catalog_lm3[k][s] for k in fg_catalog_lm3.keys()}\n",
    "\n",
    "mask_z0 = fg_forest_lm15['snapnum'] == 100\n",
    "fg_catalog_lm15 = {k: fg_forest_lm15[k][mask_z0] for k in fg_forest_lm15.keys()} # forest data at z=0\n",
    "s = np.argsort(fg_catalog_lm15['tree_node_index']) # Why do we need this sorting?\n",
    "fg_catalog_lm15 = {k: fg_catalog_lm15[k][s] for k in fg_catalog_lm15.keys()}"
   ]
  },
  {
   "cell_type": "code",
   "execution_count": 7,
   "id": "lesser-mattress",
   "metadata": {},
   "outputs": [],
   "source": [
    "# To create an index of fossil groups\n",
    "# (Is this what allows you to go between data and fgs?)\n",
    "@numba.jit(nopython=True)\n",
    "def assign_fgs(full_tn_index, fg_tn_index): # Why is this so complicated just to produce 'index'? I guess it's actually not the same as 'index'\n",
    "    n_full = len(full_tn_index)\n",
    "    n_fg = len(fg_tn_index)\n",
    "    c_full_idx = 0\n",
    "    c_fg_idx = 0\n",
    "    fg_index = np.empty(n_fg, dtype=np.int64)\n",
    "    fg_index[:] = -1\n",
    "    while c_full_idx < n_full and c_fg_idx < n_fg:\n",
    "        if full_tn_index[c_full_idx] == fg_tn_index[c_fg_idx]:\n",
    "            fg_index[c_fg_idx] = c_full_idx\n",
    "            c_fg_idx += 1\n",
    "        else:\n",
    "            c_full_idx += 1\n",
    "    return fg_index\n",
    "#fg_idx = assign_fgs(data['tree_node_index'], fg_catalog['tree_node_index'])\n",
    "#all_halos_idx = data['index'] # Wrong lol"
   ]
  },
  {
   "cell_type": "code",
   "execution_count": 7,
   "id": "international-nothing",
   "metadata": {},
   "outputs": [
    {
     "name": "stdout",
     "output_type": "stream",
     "text": [
      "953215\n"
     ]
    }
   ],
   "source": [
    "print(len(fg_catalog['tree_node_mass'][(fg_catalog['tree_node_mass'] > 10**13) & (fg_catalog['tree_node_mass'] < 10**14)]))"
   ]
  },
  {
   "cell_type": "code",
   "execution_count": 6,
   "id": "interim-failing",
   "metadata": {},
   "outputs": [
    {
     "name": "stdout",
     "output_type": "stream",
     "text": [
      "dict_keys(['branch_size', 'desc_node_index', 'fof_halo_center_x', 'fof_halo_center_y', 'fof_halo_center_z', 'fof_halo_count', 'fof_halo_mass', 'fof_halo_tag', 'snapnum', 'sod_halo_cdelta', 'sod_halo_cdelta_accum', 'sod_halo_cdelta_error', 'sod_halo_cdelta_peak', 'sod_halo_count', 'sod_halo_mass', 'sod_halo_radius', 'tree_node_index', 'tree_node_mass', 'xoff_com', 'xoff_fof', 'xoff_sod', 'scale_factor', 'descendant_idx', 'progenitor_count', 'progenitor_offset', 'halo_index'])\n"
     ]
    }
   ],
   "source": [
    "print(fg_catalog_lm5.keys())"
   ]
  },
  {
   "cell_type": "markdown",
   "id": "increased-colon",
   "metadata": {},
   "source": [
    "### Mass Matching/Narrow Bins"
   ]
  },
  {
   "cell_type": "code",
   "execution_count": 44,
   "id": "anticipated-alexander",
   "metadata": {},
   "outputs": [],
   "source": [
    "halo_masks = help_func_haccytrees.make_masks(data, pre_masked_z0 = True)\n",
    "fg_masks_lm5 = help_func_haccytrees.make_masks(fg_forest_lm5)\n",
    "#print(fg_masks_lm5[0][0:100])\n",
    "#fg_masks_lm51 = help_func_haccytrees.make_masks(fg_catalog_lm5, pre_masked_z0 = True) # previously this was forest? Will that be a problem? # I think catalog is just a forest at z = 0\n",
    "#print(fg_masks_lm51[0][0:100])\n",
    "#fg_masks_lm3 = help_func_haccytrees.make_masks(fg_catalog_lm3, pre_masked_z0 = True)\n",
    "#fg_masks_lm15 = help_func_haccytrees.make_masks(fg_catalog_lm15, pre_masked_z0 = True)"
   ]
  },
  {
   "cell_type": "markdown",
   "id": "underlying-southeast",
   "metadata": {},
   "source": [
    "### Create random sample (to give to Michael!)\n",
    "Here's how we created the random sample. It is built to include three narrow mass bins (same as the default bins in `make_masks()` and in each mass bin, there should be as many halos (random) as there are total number of fossils in that halo (as calculated from the `fg_forest`)"
   ]
  },
  {
   "cell_type": "code",
   "execution_count": 42,
   "id": "corresponding-bridge",
   "metadata": {},
   "outputs": [
    {
     "ename": "NameError",
     "evalue": "name 'mbin_thin_13_0' is not defined",
     "output_type": "error",
     "traceback": [
      "\u001b[0;31m---------------------------------------------------------------------------\u001b[0m",
      "\u001b[0;31mNameError\u001b[0m                                 Traceback (most recent call last)",
      "\u001b[0;32m<ipython-input-42-89e09caa9f26>\u001b[0m in \u001b[0;36m<module>\u001b[0;34m\u001b[0m\n\u001b[1;32m      3\u001b[0m \u001b[0midx\u001b[0m \u001b[0;34m=\u001b[0m \u001b[0;34m[\u001b[0m\u001b[0;34m]\u001b[0m\u001b[0;34m\u001b[0m\u001b[0;34m\u001b[0m\u001b[0m\n\u001b[1;32m      4\u001b[0m \u001b[0mfile\u001b[0m \u001b[0;34m=\u001b[0m \u001b[0;34m[\u001b[0m\u001b[0;34m]\u001b[0m\u001b[0;34m\u001b[0m\u001b[0;34m\u001b[0m\u001b[0m\n\u001b[0;32m----> 5\u001b[0;31m \u001b[0;32mfor\u001b[0m \u001b[0mthis_bin\u001b[0m \u001b[0;32min\u001b[0m \u001b[0;34m[\u001b[0m\u001b[0mmbin_thin_13_0\u001b[0m\u001b[0;34m,\u001b[0m \u001b[0mmbin_thin_13_3\u001b[0m\u001b[0;34m,\u001b[0m \u001b[0mmbin_thin_13_6\u001b[0m\u001b[0;34m]\u001b[0m\u001b[0;34m:\u001b[0m\u001b[0;34m\u001b[0m\u001b[0;34m\u001b[0m\u001b[0m\n\u001b[0m\u001b[1;32m      6\u001b[0m     \u001b[0mbin_mask\u001b[0m \u001b[0;34m=\u001b[0m \u001b[0;34m(\u001b[0m\u001b[0mdata\u001b[0m\u001b[0;34m[\u001b[0m\u001b[0;34m'tree_node_mass'\u001b[0m\u001b[0;34m]\u001b[0m \u001b[0;34m>\u001b[0m \u001b[0mthis_bin\u001b[0m\u001b[0;34m[\u001b[0m\u001b[0;36m0\u001b[0m\u001b[0;34m]\u001b[0m\u001b[0;34m)\u001b[0m \u001b[0;34m&\u001b[0m \u001b[0;34m(\u001b[0m\u001b[0mdata\u001b[0m\u001b[0;34m[\u001b[0m\u001b[0;34m'tree_node_mass'\u001b[0m\u001b[0;34m]\u001b[0m \u001b[0;34m<\u001b[0m \u001b[0mthis_bin\u001b[0m\u001b[0;34m[\u001b[0m\u001b[0;36m1\u001b[0m\u001b[0;34m]\u001b[0m\u001b[0;34m)\u001b[0m\u001b[0;34m\u001b[0m\u001b[0;34m\u001b[0m\u001b[0m\n\u001b[1;32m      7\u001b[0m     \u001b[0mbin_mask_idx\u001b[0m\u001b[0;34m,\u001b[0m \u001b[0;34m=\u001b[0m \u001b[0mnp\u001b[0m\u001b[0;34m.\u001b[0m\u001b[0mnonzero\u001b[0m\u001b[0;34m(\u001b[0m\u001b[0mbin_mask\u001b[0m\u001b[0;34m)\u001b[0m\u001b[0;34m\u001b[0m\u001b[0;34m\u001b[0m\u001b[0m\n",
      "\u001b[0;31mNameError\u001b[0m: name 'mbin_thin_13_0' is not defined"
     ]
    }
   ],
   "source": [
    "tn_idx = []\n",
    "mass = []\n",
    "idx = []\n",
    "file = []\n",
    "for this_bin in [mbin_thin_13_0, mbin_thin_13_3, mbin_thin_13_6]:\n",
    "    bin_mask = (data['tree_node_mass'] > this_bin[0]) & (data['tree_node_mass'] < this_bin[1])\n",
    "    bin_mask_idx, = np.nonzero(bin_mask)\n",
    "    n_fgs = len(fg_idx[(fg_catalog['tree_node_mass'] > this_bin[0]) & (fg_catalog['tree_node_mass'] < this_bin[1])])\n",
    "    random_sample_mask = np.random.choice(bin_mask_idx, n_fgs, replace = False)\n",
    "    \n",
    "    tn_idx.append(data['tree_node_index'][random_sample_mask])\n",
    "    mass.append(data['tree_node_mass'][random_sample_mask])\n",
    "    idx.append(data['index'][random_sample_mask])\n",
    "    file.append(data['filenum'][random_sample_mask])\n",
    "    \n",
    "create_file = False\n",
    "if create_file:\n",
    "    with h5py.File('random_sample.h5', 'w') as f:\n",
    "        f.create_dataset('tree_node_index', data=np.concatenate(tn_idx))\n",
    "        f.create_dataset('tree_node_mass', data=np.concatenate(mass))\n",
    "        f.create_dataset('index', data=np.concatenate(idx))\n",
    "        f.create_dataset('file', data=np.concatenate(file))"
   ]
  },
  {
   "cell_type": "code",
   "execution_count": 51,
   "id": "successful-alarm",
   "metadata": {},
   "outputs": [
    {
     "name": "stdout",
     "output_type": "stream",
     "text": [
      "<KeysViewHDF5 ['file', 'index', 'tree_node_index', 'tree_node_mass']>\n",
      "307993\n"
     ]
    }
   ],
   "source": [
    "with h5py.File('random_sample.h5', 'r') as hf: # 'r' = read\n",
    "    print(hf.keys())\n",
    "    print(len(hf['tree_node_index']))"
   ]
  },
  {
   "cell_type": "markdown",
   "id": "enabling-baker",
   "metadata": {},
   "source": [
    "## Abundances"
   ]
  },
  {
   "cell_type": "code",
   "execution_count": 5,
   "id": "violent-qatar",
   "metadata": {},
   "outputs": [],
   "source": [
    "def calc_Poisson_errors(A, B): #for function f=A/B\n",
    "    return np.sqrt(A/B**2 + A**2/B**3)"
   ]
  },
  {
   "cell_type": "code",
   "execution_count": 7,
   "id": "weighted-project",
   "metadata": {},
   "outputs": [
    {
     "data": {
      "image/png": "[encoded data removed]",
      "text/plain": [
       "<Figure size 419.76x252 with 1 Axes>"
      ]
     },
     "metadata": {
      "needs_background": "light"
     },
     "output_type": "display_data"
    }
   ],
   "source": [
    "plt.rcParams.update({\n",
    "    'font.size': 14,\n",
    "    \"figure.figsize\": (5.83, 3.5), #(5.2, 3.13), #(5.4, 3.25), #(5.83, 3.5),#(6.25, 4.25), #(6.25, 3.75)\n",
    "})\n",
    "\n",
    "# Load in the fg fraction data\n",
    "mystery_bus = np.load('/data/a/cpac/mbuehlmann/LastJourney/forest/fg_forest_fractions.npz')\n",
    "\n",
    "# Prep for plotting\n",
    "fig, ax = plt.subplots()\n",
    "dexes = np.logspace(13, 14, 21)\n",
    "bin_centers = (dexes[:-1] + dexes[1:]) / 2\n",
    "linestyles = [\"--\", \"-\", \":\"]\n",
    "ls_labels = [r\"$z_{LLM}>0.8$\", r\"$z_{LLM}>1.0$\", r\"$z_{LLM}>1.2$\"] # Could also get from 'lm_masses', but that's more work\n",
    "colors = [\"violet\", \"mediumorchid\", \"indigo\"]\n",
    "c_labels = [r\"$1.5\\times 10^{11}$\", r\"$3\\times 10^{11}$\", r\"$5\\times 10^{11}$\"] # h^{-1}\\mathrm{M}_{\\odot}\n",
    "\n",
    "for i, this_z_cutoff in enumerate(mystery_bus['fg_fraction']): # loop over z-cutoffs (linestyles)\n",
    "    for j, this_lm_thresh in enumerate(this_z_cutoff): # loop over llm mass thresholds (colors)\n",
    "        errors = calc_Poisson_errors(mystery_bus['fg_counts'][i][j], mystery_bus['al_counts'])\n",
    "        #print(errors)\n",
    "        label = c_labels[j] if i==1 else None\n",
    "        ax.errorbar(bin_centers, this_lm_thresh, yerr =  errors, marker = '.', label = label, color = colors[j], linestyle = linestyles[i])\n",
    "\n",
    "legend1 = ax.legend(loc = \"upper center\", frameon = False, ncol = 3, bbox_to_anchor=(0.5, 1.3), title = r\"$M_\\mathrm{LM} \\; [h^{-1} \\mathrm{M}_\\odot]$\") # Using lines instead of patches here, because I want to show error bars\n",
    "\n",
    "# Legend for z-cutoffs (linestyles)\n",
    "fake_lines2 = [ax.plot([],[], linestyle = this_linestyle, c = 'k')[0] for this_linestyle in linestyles]\n",
    "ax.legend(handles = fake_lines2, labels = ls_labels, loc = \"upper right\", frameon = False)\n",
    "#ax.legend(handles = fake_lines2, labels = ls_labels, loc = \"upper center\", frameon = False, ncol = 3, bbox_to_anchor=(0.45, 1.25))\n",
    "ax.add_artist(legend1)\n",
    "\n",
    "# Cosmetics\n",
    "ax.set_xscale(\"log\")\n",
    "ax.set_yscale(\"log\")\n",
    "ax.set_ylim(bottom = 1e-5)\n",
    "ax.set_xlabel(r\"$M_\\mathrm{FoF}$ $[h^{-1} \\mathrm{M}_{\\odot}]$\")\n",
    "ax.set_ylabel(\"$n_{FGs} / n_{halos}$\") # How to indicate this is the total?\n",
    "plt.tight_layout()\n",
    "fig.savefig(\"full_lj_plots/fg_fractions_by_bin_log-log.pdf\", bbox_inches='tight', pad_inches=0)"
   ]
  },
  {
   "cell_type": "markdown",
   "id": "directed-compensation",
   "metadata": {},
   "source": [
    "## Old Way"
   ]
  },
  {
   "cell_type": "code",
   "execution_count": 70,
   "id": "moved-solution",
   "metadata": {},
   "outputs": [
    {
     "data": {
      "image/png": "[encoded data removed]",
      "text/plain": [
       "<Figure size 468x288 with 1 Axes>"
      ]
     },
     "metadata": {
      "needs_background": "light"
     },
     "output_type": "display_data"
    }
   ],
   "source": [
    "bin_centers = (dexes[:-1] + dexes[1:]) / 2\n",
    "fig, ax = plt.subplots(figsize = (6.5,4))\n",
    "#cmap = plt.color_palette(\"rocket\")\n",
    "#colors = [\"#B98CD9\", \"#5D3A9B\", \"#3C1C4A\"]\n",
    "#colors = [\"violet\", \"mediumorchid\", \"purple\"]\n",
    "colors = [\"violet\", \"mediumorchid\", \"indigo\"]\n",
    "labels = [r\"$M_{LM} = 1.5\\times 10^{11}$ $[h^{-1}\\mathrm{M}_{\\odot}]$\", r\"$M_{LM} = 3\\times 10^{11}$ $[h^{-1}\\mathrm{M}_{\\odot}]$\", r\"$M_{LM} = 5\\times 10^{11}$ $[h^{-1}\\mathrm{M}_{\\odot}]$\"] # h^{-1}\\mathrm{M}_{\\odot}\n",
    "for i, (fractions, errors) in enumerate(zip(fractions_by_bin, errors_by_bin)):\n",
    "    ax.errorbar(bin_centers, fractions, yerr =  errors, marker = '.', label = labels[i], color = colors[i])\n",
    "ax.set_xscale(\"log\")\n",
    "ax.set_yscale(\"log\")\n",
    "ax.set_ylim(bottom = 1e-5)\n",
    "ax.set_xlabel(r\"$M_\\mathrm{FoF}$ $[h^{-1} \\mathrm{M}_{\\odot}]$\")\n",
    "ax.set_ylabel(\"FG fraction\")\n",
    "ax.legend(frameon = False) # title = r\"mass threshold $(h^{-1} \\mathrm{M}_{\\odot})$\"\n",
    "#fig.savefig(\"full_lj_plots/fg_fractions_by_bin.png\")\n",
    "plt.tight_layout()\n",
    "#fig.savefig(\"full_lj_plots/fg_fractions_by_bin_log-log.png\", bbox_inches='tight', pad_inches=0)"
   ]
  },
  {
   "cell_type": "markdown",
   "id": "adjusted-hardwood",
   "metadata": {},
   "source": [
    "### Abundances by thirds"
   ]
  },
  {
   "cell_type": "code",
   "execution_count": 13,
   "id": "engaged-fashion",
   "metadata": {},
   "outputs": [
    {
     "name": "stdout",
     "output_type": "stream",
     "text": [
      "Bin edges:  [13.         13.15356712 13.39051353 14.        ]\n",
      "Halo counts by bin:  [5273458, 5276279, 5275927]\n",
      "FG counts by bin:    [624726, 282177, 46312]\n",
      "Fractions by bin:    [0.1184661  0.0534803  0.00877798]\n",
      "Total halos:     15825664\n",
      "Total fgs:       953215\n",
      "Total fraction:  0.06023222785470486\n",
      "Error:           0.01750959656383597\n"
     ]
    }
   ],
   "source": [
    "mass_mask = (data['tree_node_mass'] > 1e13) & (data['tree_node_mass'] < 1e14)\n",
    "sorted_idx = np.argsort(data['tree_node_mass'][mass_mask])\n",
    "mass_onethird = np.quantile(data['tree_node_mass'][mass_mask][sorted_idx], 1/3) # Huh, comes up with a slightly different value? Ohhh cause the other version rounds (why?)\n",
    "mass_twothirds = np.quantile(data['tree_node_mass'][mass_mask][sorted_idx], 2/3)\n",
    "thirds = [1e13, mass_onethird, mass_twothirds, 1e14]\n",
    "print(\"Bin edges: \", np.log10(thirds))\n",
    "\n",
    "bins_by_thirds = [[thirds[i], thirds[i+1]] for i in range(len(thirds) - 1)]\n",
    "thirds_masks = make_masks(data, bins_by_thirds)\n",
    "fg_thirds_masks = make_masks(fg_catalog_lm5, bins_by_thirds)\n",
    "\n",
    "print(\"Halo counts by bin: \", [len(mask[mask]) for mask in thirds_masks])\n",
    "print(\"FG counts by bin:   \", [len(mask[mask]) for mask in fg_thirds_masks])\n",
    "print(\"Fractions by bin:   \", np.array([len(mask[mask]) for mask in fg_thirds_masks]) / np.array([len(mask[mask]) for mask in thirds_masks]))\n",
    "\n",
    "halo_sum = 0\n",
    "fg_sum = 0\n",
    "for halo_mask, fg_mask in zip(thirds_masks, fg_thirds_masks):\n",
    "    halo_sum += len(halo_mask[halo_mask])\n",
    "    fg_sum += len(fg_mask[fg_mask])\n",
    "    \n",
    "print(\"Total halos:    \", halo_sum)\n",
    "print(\"Total fgs:      \", fg_sum)\n",
    "print(\"Total fraction: \", fg_sum / halo_sum)\n",
    "print(\"Error:          \", calc_Poisson_errors(halo_sum, fg_sum))"
   ]
  },
  {
   "cell_type": "markdown",
   "id": "parental-klein",
   "metadata": {},
   "source": [
    "### Abundances in narrow mass bins"
   ]
  },
  {
   "cell_type": "code",
   "execution_count": 58,
   "id": "honest-flesh",
   "metadata": {},
   "outputs": [
    {
     "name": "stdout",
     "output_type": "stream",
     "text": [
      "Halo counts by bin:          [1919589, 975970, 474295]\n",
      "Halo error:                  [1385.4923312671203, 987.9119393954098, 688.6907869283573]\n",
      "FG counts by bin:            [269358, 36181, 2454]\n",
      "FG error:                    [518.9971098185423, 190.21303845951255, 49.53786430600334]\n",
      "FG fractions by bin:         [0.14032066 0.03707184 0.005174  ]\n",
      "FG frac uncertainty by bin:  [0.00028872 0.00019848 0.00010472]\n",
      "qh counts by bin:            [30077, 294, 0]\n",
      "qh fractions by bin:         [0.1116618  0.00812581 0.        ]\n",
      "qh frac uncertainty by bin:  [0.00067885 0.00047583 0.        ]\n"
     ]
    }
   ],
   "source": [
    "halo_counts = [len(mask[mask]) for mask in halo_masks]\n",
    "fg_counts = [len(mask[mask]) for mask in fg_masks_lm5]\n",
    "fraction = np.array(fg_counts) / np.array(halo_counts)\n",
    "qh_counts = []\n",
    "for this_mask in fg_masks_lm5:\n",
    "    target_idx = np.nonzero(this_mask)[0]\n",
    "    my_forest = fg_forest_lm5 # Make sure this is the same as what you fed to `make_masks()`\n",
    "    my_progenitor_array = fg_progenitor_array_lm5\n",
    "    mainbranch_index, mainbranch_masses = help_func_haccytrees.get_branches(target_idx, my_forest)\n",
    "    mainbranch_mergers = help_func_haccytrees.get_mainbranch_mergers(my_forest, my_progenitor_array, mainbranch_index)\n",
    "    major_mergers = help_func_haccytrees.get_major_mergers(mainbranch_mergers)\n",
    "    lmm_redshifts = help_func_haccytrees.get_lmms(major_mergers)\n",
    "    fgs, rugs, mrich = help_func_haccytrees.find_specials(my_forest, mainbranch_index, major_mergers, lmm_redshifts, target_idx)\n",
    "    qh_counts.append(len(rugs))\n",
    "    \n",
    "qh_fraction = np.array(qh_counts) / np.array(fg_counts)\n",
    "\n",
    "halo_std = [count**(1/2) for count in halo_counts]\n",
    "fg_std = [count**(1/2) for count in fg_counts]\n",
    "fraction_error = calc_Poisson_errors(np.array(fg_counts), np.array(halo_counts))\n",
    "qh_fraction_error = calc_Poisson_errors(np.array(qh_counts), np.array(fg_counts))\n",
    "\n",
    "print(\"Halo counts by bin:         \", halo_counts)\n",
    "print(\"Halo error:                 \", halo_std)\n",
    "print(\"FG counts by bin:           \", fg_counts)\n",
    "print(\"FG error:                   \", fg_std)\n",
    "print(\"FG fractions by bin:        \", fraction)\n",
    "print(\"FG frac uncertainty by bin: \", fraction_error)\n",
    "print(\"qh counts by bin:           \", qh_counts)\n",
    "print(\"qh fractions by bin:        \", qh_fraction)\n",
    "print(\"qh frac uncertainty by bin: \", qh_fraction_error)"
   ]
  },
  {
   "cell_type": "code",
   "execution_count": 59,
   "id": "competitive-cheese",
   "metadata": {},
   "outputs": [
    {
     "name": "stdout",
     "output_type": "stream",
     "text": [
      "0.06023222785470486\n",
      "6.352343784405087e-05\n",
      "6e-05\n",
      "0.06294592510608835\n",
      "0.0002649378222069446\n"
     ]
    }
   ],
   "source": [
    "# In total\n",
    "total_fgs = 953215\n",
    "total_halos = 15825664\n",
    "print(total_fgs / total_halos)\n",
    "total_fraction_error = calc_Poisson_errors(total_fgs, total_halos)\n",
    "print(total_fraction_error)\n",
    "print(0.006 * 10**(-2))\n",
    "\n",
    "my_forest = fg_forest_lm5 # Make sure this is the same as what you fed to `make_masks()`\n",
    "my_progenitor_array = fg_progenitor_array_lm5\n",
    "target_idx = help_func_haccytrees.find_halos(my_forest, [1e13, 1e14])\n",
    "mainbranch_index, mainbranch_masses = help_func_haccytrees.get_branches(target_idx, my_forest)\n",
    "mainbranch_mergers = help_func_haccytrees.get_mainbranch_mergers(my_forest, my_progenitor_array, mainbranch_index)\n",
    "major_mergers = help_func_haccytrees.get_major_mergers(mainbranch_mergers)\n",
    "lmm_redshifts = help_func_haccytrees.get_lmms(major_mergers)\n",
    "fgs, rugs, mrich = help_func_haccytrees.find_specials(my_forest, mainbranch_index, major_mergers, lmm_redshifts, target_idx)\n",
    "total_qh = len(rugs)\n",
    "\n",
    "qh_fraction = np.array(total_qh) / np.array(total_fgs)\n",
    "qh_fraction_error = calc_Poisson_errors(np.array(total_qh), np.array(total_fgs))\n",
    "print(qh_fraction)\n",
    "print(qh_fraction_error)"
   ]
  }
 ],
 "metadata": {
  "kernelspec": {
   "display_name": "fossil_groups_env",
   "language": "python",
   "name": "fossil_groups_env"
  },
  "language_info": {
   "codemirror_mode": {
    "name": "ipython",
    "version": 3
   },
   "file_extension": ".py",
   "mimetype": "text/x-python",
   "name": "python",
   "nbconvert_exporter": "python",
   "pygments_lexer": "ipython3",
   "version": "3.7.9"
  }
 },
 "nbformat": 4,
 "nbformat_minor": 5
}
