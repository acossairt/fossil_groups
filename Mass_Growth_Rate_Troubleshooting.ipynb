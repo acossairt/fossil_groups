{
 "cells": [
  {
   "cell_type": "markdown",
   "metadata": {},
   "source": [
    "### Mass Growth Rate: Troubleshooting"
   ]
  },
  {
   "cell_type": "code",
   "execution_count": 1,
   "metadata": {},
   "outputs": [],
   "source": [
    "import numpy as np\n",
    "import matplotlib.pyplot as plt\n",
    "from matplotlib.pyplot import cm\n",
    "from matplotlib.lines import Line2D\n",
    "import pandas as pd\n",
    "from astropy.cosmology import FlatLambdaCDM\n",
    "import astropy.units as u\n",
    "from itertools import groupby\n",
    "from matplotlib.ticker import ScalarFormatter\n",
    "%reload_ext autoreload\n",
    "%autoreload 1\n",
    "%aimport help_func"
   ]
  },
  {
   "cell_type": "code",
   "execution_count": 2,
   "metadata": {},
   "outputs": [],
   "source": [
    "forest_table = pd.read_hdf('/data/a/cpac/aurora/reducedtrees0.h5', 'ft')\n",
    "with open(\"/data/a/cpac/xinliu/reducedtrees/progenitor_idx0.txt\") as f:\n",
    "    progenitor_idx = [[int(p) for p in s.strip().split(\" \")] if s.strip() != \"\" else [] for s in f]"
   ]
  },
  {
   "cell_type": "code",
   "execution_count": 3,
   "metadata": {},
   "outputs": [],
   "source": [
    "n = 10\n",
    "snap = 99 \n",
    "snap2 = 98\n",
    "snap3 = 97\n",
    "mm_thresh1 = 1/10\n",
    "mm_thresh2 = 0.3\n",
    "norm = np.int(2.7*10**9)\n",
    "xaxis = 'z_nums'\n",
    "extremum = ''\n",
    "my_range = [10**13, 10**14]\n",
    "my_range_str = [\"{:.2e}\".format(my_range[0]), \"{:.2e}\".format(my_range[1])]\n",
    "#bins = [10**9.5, 10**10.5, 10**11.5, 10**12.5, 10**13.5, 10**14.5]\n",
    "small_bins = [10**11.5, 10**12.5, 10**13.5, 10**14.5]\n",
    "large_bins = [10**9.5, 10**10.5, 10**11.5, 10**12.5, 10**13.5, 10**14.5]\n",
    "rangel_bins = [1*10**11, 1.5*10**11, 2.3*10**11, 3.5*10**11, 5.3*10**11, 8.1*10**11, 1.2*10**12, 1.9*10**12, 2.8*10**12, 4.3*10**12, 6.6*10**12, 1*10**13]\n",
    "rangel_bins2 = np.concatenate(([rangel_bins[0] - 0.25*10**11], [(rangel_bins[i] + rangel_bins[i+1]) / 2 for i in np.arange(len(rangel_bins) -1)], [rangel_bins[-1] + 3.4*10**13]), axis = 0)\n",
    "norm_tf = True\n",
    "avg_tf = True\n",
    "# Convert snapshots to redshifts\n",
    "redshifts = np.flip(np.array([10.044, 9.8065, 9.5789, 9.3608, 9.1515, 8.7573, 8.5714, 8.3925, 8.0541, 7.8938, 7.7391, 7.4454, 7.3058, 7.04, 6.9134, 6.6718, 6.5564, 6.3358, 6.1277, 6.028, 5.8367, 5.6556, 5.4839, 5.3208, 5.2422, 5.0909, 4.9467, 4.7429, 4.6145, 4.4918, 4.3743, 4.2618, 4.1015, 4.00, 3.8551, 3.763, 3.6313, 3.5475, 3.4273, 3.3133, 3.205, 3.102, 3.0361, 2.9412, 2.8506, 2.7361, 2.6545, 2.5765, 2.4775, 2.4068, 2.3168, 2.2524, 2.1703, 2.0923, 2.018, 1.9472, 1.8797, 1.7994, 1.7384, 1.68, 1.6104, 1.5443, 1.4938, 1.4334, 1.3759, 1.321, 1.2584, 1.2088, 1.152, 1.1069, 1.0552, 1.006, 0.9591, 0.9143, 0.8646, 0.824, 0.7788, 0.7358, 0.6948, 0.6557, 0.6184, 0.5777, 0.5391, 0.5022, 0.4714, 0.4337, 0.4017, 0.3636, 0.3347, 0.3035, 0.2705, 0.2423, 0.2123, 0.1837, 0.1538, 0.1279, 0.1008, 0.0749, 0.0502, 0.0245, 0.00]))"
   ]
  },
  {
   "cell_type": "markdown",
   "metadata": {},
   "source": [
    "#### Run for just one bin (multiple halos)"
   ]
  },
  {
   "cell_type": "code",
   "execution_count": 31,
   "metadata": {},
   "outputs": [],
   "source": [
    "# Find some halos in a range\n",
    "range1 = [10**11, 10**13]\n",
    "halo_idx = help_func.find_halos(forest_table, snap, mass_range = range1)"
   ]
  },
  {
   "cell_type": "code",
   "execution_count": 32,
   "metadata": {},
   "outputs": [
    {
     "data": {
      "text/plain": [
       "34993"
      ]
     },
     "execution_count": 32,
     "metadata": {},
     "output_type": "execute_result"
    }
   ],
   "source": [
    "len(halo_idx)"
   ]
  },
  {
   "cell_type": "code",
   "execution_count": 33,
   "metadata": {},
   "outputs": [],
   "source": [
    "# Track their evolution\n",
    "timesteps, masses, main_prog_list, maj_mergers = help_func.track_evol_multiple(halo_idx, redshifts, progenitor_idx, forest_table, x_axis = 'z_nums')"
   ]
  },
  {
   "cell_type": "code",
   "execution_count": 36,
   "metadata": {},
   "outputs": [
    {
     "name": "stdout",
     "output_type": "stream",
     "text": [
      " "
     ]
    },
    {
     "data": {
      "text/plain": [
       "         701032 function calls (631021 primitive calls) in 1.333 seconds\n",
       "\n",
       "   Ordered by: internal time\n",
       "\n",
       "   ncalls  tottime  percall  cumtime  percall filename:lineno(function)\n",
       "        3    0.460    0.153    0.546    0.182 core.py:1959(_flat_age)\n",
       "        1    0.316    0.316    1.313    1.313 help_func.py:568(calc_mass_growth_rate)\n",
       "        1    0.181    0.181    0.181    0.181 help_func.py:576(<listcomp>)\n",
       "105003/34999    0.063    0.000    0.250    0.000 {built-in method numpy.core._multiarray_umath.implement_array_function}\n",
       "    70012    0.042    0.000    0.042    0.000 {built-in method numpy.array}\n",
       "    34993    0.036    0.000    0.188    0.000 function_base.py:4616(append)\n",
       "        6    0.032    0.005    0.047    0.008 scimath.py:183(sqrt)\n",
       "       11    0.024    0.002    0.024    0.002 {function Quantity.__array_ufunc__ at 0x7f612d8ef430}\n",
       "    34993    0.024    0.000    0.024    0.000 {built-in method numpy.zeros}\n",
       "    34993    0.022    0.000    0.053    0.000 fromnumeric.py:1705(ravel)\n",
       "        1    0.020    0.020    1.333    1.333 <string>:1(<module>)\n",
       "    34993    0.017    0.000    0.057    0.000 <__array_function__ internals>:2(concatenate)\n",
       "    34993    0.016    0.000    0.223    0.000 <__array_function__ internals>:2(append)\n",
       "    69986    0.014    0.000    0.027    0.000 _asarray.py:86(asanyarray)\n",
       "    34993    0.014    0.000    0.081    0.000 <__array_function__ internals>:2(ravel)\n",
       "    34993    0.014    0.000    0.014    0.000 {method 'ravel' of 'numpy.ndarray' objects}\n",
       "        6    0.009    0.001    0.015    0.002 scimath.py:97(_fix_real_lt_zero)\n",
       "        6    0.006    0.001    0.006    0.001 type_check.py:247(isreal)\n",
       "    35113    0.004    0.000    0.004    0.000 {built-in method builtins.isinstance}\n",
       "    35042    0.004    0.000    0.004    0.000 {built-in method builtins.len}\n",
       "    34993    0.004    0.000    0.004    0.000 function_base.py:4612(_append_dispatcher)\n",
       "    34993    0.004    0.000    0.004    0.000 fromnumeric.py:1701(_ravel_dispatcher)\n",
       "    34993    0.004    0.000    0.004    0.000 multiarray.py:143(concatenate)\n",
       "    35015    0.003    0.000    0.003    0.000 {method 'append' of 'list' objects}\n",
       "        1    0.001    0.001    0.553    0.553 core.py:2035(_flat_lookback_time)\n",
       "        6    0.000    0.000    0.000    0.000 {method 'reduce' of 'numpy.ufunc' objects}\n",
       "        1    0.000    0.000    0.001    0.001 core.py:144(__init__)\n",
       "       11    0.000    0.000    0.025    0.002 quantity.py:434(__array_ufunc__)\n",
       "        8    0.000    0.000    0.000    0.000 core.py:2126(_expand_and_gather)\n",
       "       11    0.000    0.000    0.000    0.000 converters.py:125(converters_and_unit)\n",
       "        6    0.000    0.000    0.019    0.003 quantity.py:934(__mul__)\n",
       "        5    0.000    0.000    0.000    0.000 quantity.py:290(__new__)\n",
       "       82    0.000    0.000    0.000    0.000 {built-in method builtins.getattr}\n",
       "       13    0.000    0.000    0.000    0.000 quantity.py:547(_new_view)\n",
       "        1    0.000    0.000    1.333    1.333 {built-in method builtins.exec}\n",
       "       39    0.000    0.000    0.000    0.000 {method 'view' of 'numpy.ndarray' objects}\n",
       "       20    0.000    0.000    0.000    0.000 quantity.py:691(to_value)\n",
       "        9    0.000    0.000    0.000    0.000 core.py:2051(__init__)\n",
       "        6    0.000    0.000    0.000    0.000 fromnumeric.py:70(_wrapreduction)\n",
       "    22/17    0.000    0.000    0.000    0.000 core.py:2173(decompose)\n",
       "        8    0.000    0.000    0.000    0.000 core.py:645(__div__)\n",
       "        5    0.000    0.000    0.001    0.000 quantity.py:961(__truediv__)\n",
       "       21    0.000    0.000    0.000    0.000 core.py:2127(add_unit)\n",
       "       13    0.000    0.000    0.000    0.000 core.py:2192(is_unity)\n",
       "       35    0.000    0.000    0.000    0.000 quantity.py:405(__array_finalize__)\n",
       "      2/1    0.000    0.000    0.000    0.000 constant.py:34(wrapper)\n",
       "        6    0.000    0.000    0.000    0.000 fromnumeric.py:2249(any)\n",
       "       11    0.000    0.000    0.000    0.000 quantity.py:488(_result_as_quantity)\n",
       "       30    0.000    0.000    0.000    0.000 quantity.py:748(unit)\n",
       "       22    0.000    0.000    0.000    0.000 quantity.py:612(_set_unit)\n",
       "        5    0.000    0.000    0.000    0.000 {method 'any' of 'numpy.generic' objects}\n",
       "       24    0.000    0.000    0.000    0.000 core.py:1998(__hash__)\n",
       "        1    0.000    0.000    0.000    0.000 help_func.py:575(<listcomp>)\n",
       "       11    0.000    0.000    0.000    0.000 {built-in method builtins.any}\n",
       "        6    0.000    0.000    0.000    0.000 helpers.py:213(helper_multiplication)\n",
       "       13    0.000    0.000    0.000    0.000 core.py:1609(name)\n",
       "        6    0.000    0.000    0.047    0.008 <__array_function__ internals>:2(sqrt)\n",
       "       11    0.000    0.000    0.000    0.000 {built-in method builtins.hasattr}\n",
       "        8    0.000    0.000    0.000    0.000 misc.py:37(isiterable)\n",
       "        1    0.000    0.000    0.001    0.001 core.py:2169(__init__)\n",
       "        8    0.000    0.000    0.000    0.000 {method 'sort' of 'list' objects}\n",
       "        6    0.000    0.000    0.001    0.000 <__array_function__ internals>:2(any)\n",
       "       11    0.000    0.000    0.000    0.000 converters.py:163(<listcomp>)\n",
       "        1    0.000    0.000    0.001    0.001 core.py:1635(__init__)\n",
       "       11    0.000    0.000    0.000    0.000 core.py:1801(__call__)\n",
       "        2    0.000    0.000    0.000    0.000 core.py:920(_to)\n",
       "        6    0.000    0.000    0.000    0.000 core.py:683(__mul__)\n",
       "       30    0.000    0.000    0.000    0.000 core.py:732(__hash__)\n",
       "      7/6    0.000    0.000    0.000    0.000 core.py:1992(decompose)\n",
       "        9    0.000    0.000    0.000    0.000 utils.py:170(sanitize_scale)\n",
       "        2    0.000    0.000    0.000    0.000 core.py:1995(is_unity)\n",
       "        2    0.000    0.000    0.000    0.000 decorators.py:752(__get__)\n",
       "       19    0.000    0.000    0.000    0.000 utils.py:271(resolve_fractions)\n",
       "        4    0.000    0.000    0.000    0.000 helpers.py:217(helper_division)\n",
       "       10    0.000    0.000    0.000    0.000 utils.py:160(is_effectively_unity)\n",
       "        8    0.000    0.000    0.000    0.000 {built-in method builtins.iter}\n",
       "        3    0.000    0.000    0.000    0.000 quantity.py:954(__rmul__)\n",
       "        6    0.000    0.000    0.000    0.000 type_check.py:167(imag)\n",
       "       24    0.000    0.000    0.000    0.000 core.py:2112(bases)\n",
       "       13    0.000    0.000    0.000    0.000 core.py:2161(<lambda>)\n",
       "        6    0.000    0.000    0.000    0.000 <__array_function__ internals>:2(imag)\n",
       "        5    0.000    0.000    0.000    0.000 _methods.py:53(_any)\n",
       "        8    0.000    0.000    0.000    0.000 utils.py:226(validate_power)\n",
       "        7    0.000    0.000    0.021    0.003 _asarray.py:14(asarray)\n",
       "        6    0.000    0.000    0.006    0.001 <__array_function__ internals>:2(isreal)\n",
       "       20    0.000    0.000    0.000    0.000 helpers.py:21(_d)\n",
       "        1    0.000    0.000    0.000    0.000 core.py:953(to)\n",
       "        2    0.000    0.000    0.000    0.000 constant.py:179(system)\n",
       "       33    0.000    0.000    0.000    0.000 converters.py:168(<genexpr>)\n",
       "        1    0.000    0.000    0.000    0.000 core.py:899(<lambda>)\n",
       "        6    0.000    0.000    0.000    0.000 fromnumeric.py:71(<dictcomp>)\n",
       "        1    0.000    0.000    0.000    0.000 {method 'astype' of 'numpy.ndarray' objects}\n",
       "        1    0.000    0.000    0.000    0.000 {built-in method numpy.arange}\n",
       "        8    0.000    0.000    0.000    0.000 core.py:2160(<listcomp>)\n",
       "        1    0.000    0.000    0.000    0.000 core.py:1662(_optimize_flat_norad)\n",
       "        3    0.000    0.000    0.000    0.000 core.py:2064(<listcomp>)\n",
       "        1    0.000    0.000    0.000    0.000 core.py:2082(<listcomp>)\n",
       "        1    0.000    0.000    0.000    0.000 quantity.py:656(_to_value)\n",
       "        1    0.000    0.000    0.000    0.000 quantity.py:663(to)\n",
       "       14    0.000    0.000    0.000    0.000 {method 'items' of 'dict' objects}\n",
       "        1    0.000    0.000    0.000    0.000 core.py:890(_get_converter)\n",
       "       16    0.000    0.000    0.000    0.000 core.py:2105(scale)\n",
       "        2    0.000    0.000    0.000    0.000 constant.py:155(name)\n",
       "       13    0.000    0.000    0.000    0.000 {method 'get' of 'dict' objects}\n",
       "        8    0.000    0.000    0.000    0.000 core.py:2163(<listcomp>)\n",
       "        1    0.000    0.000    0.000    0.000 core.py:1485(is_unity)\n",
       "        1    0.000    0.000    0.000    0.000 core.py:1113(age)\n",
       "        1    0.000    0.000    0.000    0.000 constant.py:135(__quantity_subclass__)\n",
       "        6    0.000    0.000    0.000    0.000 scimath.py:179(_unary_dispatcher)\n",
       "        6    0.000    0.000    0.000    0.000 type_check.py:206(_is_type_dispatcher)\n",
       "        1    0.000    0.000    0.000    0.000 quantity.py:1071(__float__)\n",
       "        1    0.000    0.000    0.000    0.000 core.py:641(__pow__)\n",
       "        8    0.000    0.000    0.000    0.000 core.py:2164(<listcomp>)\n",
       "        1    0.000    0.000    0.553    0.553 core.py:1034(lookback_time)\n",
       "        2    0.000    0.000    0.000    0.000 quantity.py:786(isscalar)\n",
       "        2    0.000    0.000    0.000    0.000 {built-in method builtins.all}\n",
       "        1    0.000    0.000    0.000    0.000 core.py:586(powers)\n",
       "        1    0.000    0.000    0.000    0.000 {built-in method math.floor}\n",
       "        6    0.000    0.000    0.000    0.000 fromnumeric.py:2245(_any_dispatcher)\n",
       "        7    0.000    0.000    0.000    0.000 core.py:2119(powers)\n",
       "        1    0.000    0.000    0.000    0.000 {method 'copy' of 'numpy.ndarray' objects}\n",
       "        6    0.000    0.000    0.000    0.000 type_check.py:163(_imag_dispatcher)\n",
       "        2    0.000    0.000    0.000    0.000 core.py:1707(decompose)\n",
       "        1    0.000    0.000    0.000    0.000 core.py:2360(_condition_arg)\n",
       "        3    0.000    0.000    0.000    0.000 core.py:946(<genexpr>)\n",
       "        3    0.000    0.000    0.000    0.000 quantity.py:529(__quantity_subclass__)\n",
       "        1    0.000    0.000    0.000    0.000 {method 'disable' of '_lsprof.Profiler' objects}\n",
       "        1    0.000    0.000    0.000    0.000 core.py:579(bases)\n",
       "        1    0.000    0.000    0.000    0.000 helpers.py:45(get_converters_and_unit)\n",
       "        2    0.000    0.000    0.000    0.000 {method 'lower' of 'str' objects}\n",
       "        1    0.000    0.000    0.000    0.000 {built-in method _operator.mul}\n",
       "        1    0.000    0.000    0.000    0.000 core.py:572(scale)"
      ]
     },
     "metadata": {},
     "output_type": "display_data"
    }
   ],
   "source": [
    "# Calculate the alphas\n",
    "%prun alphas = help_func.calc_mass_growth_rate(timesteps, masses, main_prog_list, progenitor_idx, forest_table)"
   ]
  },
  {
   "cell_type": "code",
   "execution_count": 14,
   "metadata": {},
   "outputs": [
    {
     "data": {
      "text/plain": [
       "264"
      ]
     },
     "execution_count": 14,
     "metadata": {},
     "output_type": "execute_result"
    }
   ],
   "source": [
    "len(alphas)"
   ]
  },
  {
   "cell_type": "code",
   "execution_count": 18,
   "metadata": {},
   "outputs": [
    {
     "data": {
      "image/png": "[encoded data removed]",
      "text/plain": [
       "<Figure size 432x288 with 1 Axes>"
      ]
     },
     "metadata": {
      "needs_background": "light"
     },
     "output_type": "display_data"
    }
   ],
   "source": [
    "# Plot them\n",
    "a = help_func.plot_distrib(alphas, \"Mass Growth Rate\", \"alpha\", zoom = False)"
   ]
  },
  {
   "cell_type": "markdown",
   "metadata": {},
   "source": [
    "#### Attempt with Bins"
   ]
  },
  {
   "cell_type": "code",
   "execution_count": 21,
   "metadata": {},
   "outputs": [
    {
     "name": "stdout",
     "output_type": "stream",
     "text": [
      "CPU times: user 86 ms, sys: 10.3 ms, total: 96.3 ms\n",
      "Wall time: 38.2 ms\n"
     ]
    }
   ],
   "source": [
    "# Find some halos and put them in bins\n",
    "%time bin_halo_idx = help_func.bin_halos(forest_table, snap, large_bins)"
   ]
  },
  {
   "cell_type": "code",
   "execution_count": 22,
   "metadata": {},
   "outputs": [
    {
     "name": "stdout",
     "output_type": "stream",
     "text": [
      "CPU times: user 2min 23s, sys: 3.15 s, total: 2min 27s\n",
      "Wall time: 2min 23s\n"
     ]
    }
   ],
   "source": [
    "# Track their evolution\n",
    "%time timesteps, masses, main_prog_list, maj_mergers = help_func.track_evol_binned(bin_halo_idx, large_bins, redshifts, progenitor_idx, forest_table, x_axis = 'z_nums')"
   ]
  },
  {
   "cell_type": "code",
   "execution_count": 24,
   "metadata": {},
   "outputs": [
    {
     "name": "stdout",
     "output_type": "stream",
     "text": [
      "\n",
      "In Calc Mass_Growth_Rate\n",
      "\n",
      "In Calc Mass_Growth_Rate\n"
     ]
    },
    {
     "ename": "KeyboardInterrupt",
     "evalue": "",
     "output_type": "error",
     "traceback": [
      "\u001b[0;31m---------------------------------------------------------------------------\u001b[0m",
      "\u001b[0;31mKeyboardInterrupt\u001b[0m                         Traceback (most recent call last)",
      "\u001b[0;32m<timed exec>\u001b[0m in \u001b[0;36m<module>\u001b[0;34m\u001b[0m\n",
      "\u001b[0;32m/data/a/cpac/aurora/help_func.py\u001b[0m in \u001b[0;36mcalc_BINNED_mass_growth_rate\u001b[0;34m(timesteps, masses, main_prog_list, prog_idx, forest_tbl)\u001b[0m\n\u001b[1;32m    607\u001b[0m \u001b[0;32mdef\u001b[0m \u001b[0mcalc_BINNED_mass_growth_rate\u001b[0m\u001b[0;34m(\u001b[0m\u001b[0mtimesteps\u001b[0m\u001b[0;34m,\u001b[0m \u001b[0mmasses\u001b[0m\u001b[0;34m,\u001b[0m \u001b[0mmain_prog_list\u001b[0m\u001b[0;34m,\u001b[0m \u001b[0mprog_idx\u001b[0m\u001b[0;34m,\u001b[0m \u001b[0mforest_tbl\u001b[0m\u001b[0;34m)\u001b[0m\u001b[0;34m:\u001b[0m\u001b[0;34m\u001b[0m\u001b[0;34m\u001b[0m\u001b[0m\n\u001b[1;32m    608\u001b[0m \u001b[0;34m\u001b[0m\u001b[0m\n\u001b[0;32m--> 609\u001b[0;31m     \u001b[0mtotal_alpha_list\u001b[0m \u001b[0;34m=\u001b[0m \u001b[0;34m[\u001b[0m\u001b[0mcalc_mass_growth_rate\u001b[0m\u001b[0;34m(\u001b[0m\u001b[0mtimesteps\u001b[0m\u001b[0;34m[\u001b[0m\u001b[0mi\u001b[0m\u001b[0;34m]\u001b[0m\u001b[0;34m,\u001b[0m \u001b[0mmasses\u001b[0m\u001b[0;34m[\u001b[0m\u001b[0mi\u001b[0m\u001b[0;34m]\u001b[0m\u001b[0;34m,\u001b[0m \u001b[0mmain_prog_list\u001b[0m\u001b[0;34m[\u001b[0m\u001b[0mi\u001b[0m\u001b[0;34m]\u001b[0m\u001b[0;34m,\u001b[0m \u001b[0mprog_idx\u001b[0m\u001b[0;34m,\u001b[0m \u001b[0mforest_tbl\u001b[0m\u001b[0;34m)\u001b[0m \u001b[0;32mfor\u001b[0m \u001b[0mi\u001b[0m \u001b[0;32min\u001b[0m \u001b[0mnp\u001b[0m\u001b[0;34m.\u001b[0m\u001b[0marange\u001b[0m\u001b[0;34m(\u001b[0m\u001b[0mlen\u001b[0m\u001b[0;34m(\u001b[0m\u001b[0mtimesteps\u001b[0m\u001b[0;34m)\u001b[0m\u001b[0;34m)\u001b[0m\u001b[0;34m]\u001b[0m\u001b[0;34m\u001b[0m\u001b[0;34m\u001b[0m\u001b[0m\n\u001b[0m\u001b[1;32m    610\u001b[0m     \u001b[0;32mreturn\u001b[0m \u001b[0mtotal_alpha_list\u001b[0m\u001b[0;34m\u001b[0m\u001b[0;34m\u001b[0m\u001b[0m\n\u001b[1;32m    611\u001b[0m \u001b[0;34m\u001b[0m\u001b[0m\n",
      "\u001b[0;32m/data/a/cpac/aurora/help_func.py\u001b[0m in \u001b[0;36m<listcomp>\u001b[0;34m(.0)\u001b[0m\n\u001b[1;32m    607\u001b[0m \u001b[0;32mdef\u001b[0m \u001b[0mcalc_BINNED_mass_growth_rate\u001b[0m\u001b[0;34m(\u001b[0m\u001b[0mtimesteps\u001b[0m\u001b[0;34m,\u001b[0m \u001b[0mmasses\u001b[0m\u001b[0;34m,\u001b[0m \u001b[0mmain_prog_list\u001b[0m\u001b[0;34m,\u001b[0m \u001b[0mprog_idx\u001b[0m\u001b[0;34m,\u001b[0m \u001b[0mforest_tbl\u001b[0m\u001b[0;34m)\u001b[0m\u001b[0;34m:\u001b[0m\u001b[0;34m\u001b[0m\u001b[0;34m\u001b[0m\u001b[0m\n\u001b[1;32m    608\u001b[0m \u001b[0;34m\u001b[0m\u001b[0m\n\u001b[0;32m--> 609\u001b[0;31m     \u001b[0mtotal_alpha_list\u001b[0m \u001b[0;34m=\u001b[0m \u001b[0;34m[\u001b[0m\u001b[0mcalc_mass_growth_rate\u001b[0m\u001b[0;34m(\u001b[0m\u001b[0mtimesteps\u001b[0m\u001b[0;34m[\u001b[0m\u001b[0mi\u001b[0m\u001b[0;34m]\u001b[0m\u001b[0;34m,\u001b[0m \u001b[0mmasses\u001b[0m\u001b[0;34m[\u001b[0m\u001b[0mi\u001b[0m\u001b[0;34m]\u001b[0m\u001b[0;34m,\u001b[0m \u001b[0mmain_prog_list\u001b[0m\u001b[0;34m[\u001b[0m\u001b[0mi\u001b[0m\u001b[0;34m]\u001b[0m\u001b[0;34m,\u001b[0m \u001b[0mprog_idx\u001b[0m\u001b[0;34m,\u001b[0m \u001b[0mforest_tbl\u001b[0m\u001b[0;34m)\u001b[0m \u001b[0;32mfor\u001b[0m \u001b[0mi\u001b[0m \u001b[0;32min\u001b[0m \u001b[0mnp\u001b[0m\u001b[0;34m.\u001b[0m\u001b[0marange\u001b[0m\u001b[0;34m(\u001b[0m\u001b[0mlen\u001b[0m\u001b[0;34m(\u001b[0m\u001b[0mtimesteps\u001b[0m\u001b[0;34m)\u001b[0m\u001b[0;34m)\u001b[0m\u001b[0;34m]\u001b[0m\u001b[0;34m\u001b[0m\u001b[0;34m\u001b[0m\u001b[0m\n\u001b[0m\u001b[1;32m    610\u001b[0m     \u001b[0;32mreturn\u001b[0m \u001b[0mtotal_alpha_list\u001b[0m\u001b[0;34m\u001b[0m\u001b[0;34m\u001b[0m\u001b[0m\n\u001b[1;32m    611\u001b[0m \u001b[0;34m\u001b[0m\u001b[0m\n",
      "\u001b[0;32m/data/a/cpac/aurora/help_func.py\u001b[0m in \u001b[0;36mcalc_mass_growth_rate\u001b[0;34m(timesteps, masses, main_prog_list, prog_idx, forest_tbl)\u001b[0m\n\u001b[1;32m    584\u001b[0m         \u001b[0;31m# Mask up, friends!\u001b[0m\u001b[0;34m\u001b[0m\u001b[0;34m\u001b[0m\u001b[0;34m\u001b[0m\u001b[0m\n\u001b[1;32m    585\u001b[0m         \u001b[0mmask\u001b[0m \u001b[0;34m=\u001b[0m \u001b[0;34m(\u001b[0m\u001b[0mmasses\u001b[0m\u001b[0;34m[\u001b[0m\u001b[0mi\u001b[0m\u001b[0;34m]\u001b[0m \u001b[0;34m>\u001b[0m \u001b[0;36m10\u001b[0m\u001b[0;34m**\u001b[0m\u001b[0;36m12\u001b[0m\u001b[0;34m)\u001b[0m\u001b[0;34m\u001b[0m\u001b[0;34m\u001b[0m\u001b[0m\n\u001b[0;32m--> 586\u001b[0;31m         \u001b[0mmasses_masked\u001b[0m \u001b[0;34m=\u001b[0m \u001b[0mnp\u001b[0m\u001b[0;34m.\u001b[0m\u001b[0marray\u001b[0m\u001b[0;34m(\u001b[0m\u001b[0mmasses\u001b[0m\u001b[0;34m)\u001b[0m\u001b[0;34m[\u001b[0m\u001b[0mi\u001b[0m\u001b[0;34m]\u001b[0m\u001b[0;34m[\u001b[0m\u001b[0mmask\u001b[0m\u001b[0;34m]\u001b[0m\u001b[0;34m\u001b[0m\u001b[0;34m\u001b[0m\u001b[0m\n\u001b[0m\u001b[1;32m    587\u001b[0m         \u001b[0mtimes_masked\u001b[0m \u001b[0;34m=\u001b[0m \u001b[0mtimes\u001b[0m\u001b[0;34m[\u001b[0m\u001b[0mi\u001b[0m\u001b[0;34m]\u001b[0m\u001b[0;34m[\u001b[0m\u001b[0mmask\u001b[0m\u001b[0;34m]\u001b[0m\u001b[0;34m\u001b[0m\u001b[0;34m\u001b[0m\u001b[0m\n\u001b[1;32m    588\u001b[0m         \u001b[0mmain_prog_list\u001b[0m\u001b[0;34m[\u001b[0m\u001b[0mi\u001b[0m\u001b[0;34m]\u001b[0m \u001b[0;34m=\u001b[0m \u001b[0mnp\u001b[0m\u001b[0;34m.\u001b[0m\u001b[0mappend\u001b[0m\u001b[0;34m(\u001b[0m\u001b[0mmain_prog_list\u001b[0m\u001b[0;34m[\u001b[0m\u001b[0mi\u001b[0m\u001b[0;34m]\u001b[0m\u001b[0;34m,\u001b[0m \u001b[0mnp\u001b[0m\u001b[0;34m.\u001b[0m\u001b[0mzeros\u001b[0m\u001b[0;34m(\u001b[0m\u001b[0;36m101\u001b[0m \u001b[0;34m-\u001b[0m \u001b[0mlen\u001b[0m\u001b[0;34m(\u001b[0m\u001b[0mmain_prog_list\u001b[0m\u001b[0;34m[\u001b[0m\u001b[0mi\u001b[0m\u001b[0;34m]\u001b[0m\u001b[0;34m)\u001b[0m\u001b[0;34m)\u001b[0m\u001b[0;34m)\u001b[0m\u001b[0;34m[\u001b[0m\u001b[0mmask\u001b[0m\u001b[0;34m]\u001b[0m\u001b[0;34m\u001b[0m\u001b[0;34m\u001b[0m\u001b[0m\n",
      "\u001b[0;31mKeyboardInterrupt\u001b[0m: "
     ]
    }
   ],
   "source": [
    "# Calculate the alphas\n",
    "%time alphas = help_func.calc_BINNED_mass_growth_rate(timesteps, masses, main_prog_list, progenitor_idx, forest_table)"
   ]
  },
  {
   "cell_type": "code",
   "execution_count": null,
   "metadata": {},
   "outputs": [],
   "source": [
    "# Plot them\n",
    "a = help_func.plot_distrib(alphas, \"Mass Growth Rate\", \"alpha\", nbins = 50, zoom = False)"
   ]
  }
 ],
 "metadata": {
  "kernelspec": {
   "display_name": "Python 3",
   "language": "python",
   "name": "python3"
  },
  "language_info": {
   "codemirror_mode": {
    "name": "ipython",
    "version": 3
   },
   "file_extension": ".py",
   "mimetype": "text/x-python",
   "name": "python",
   "nbconvert_exporter": "python",
   "pygments_lexer": "ipython3",
   "version": "3.8.3"
  }
 },
 "nbformat": 4,
 "nbformat_minor": 4
}
