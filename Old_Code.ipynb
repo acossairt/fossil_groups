{
 "cells": [
  {
   "cell_type": "markdown",
   "metadata": {},
   "source": [
    "## Length of Main Prog Branches (old)"
   ]
  },
  {
   "cell_type": "code",
   "execution_count": null,
   "metadata": {},
   "outputs": [],
   "source": [
    "def get_binned_mps(idx, bins, redshifts, normalized = False):\n",
    "    final_mp_list = []\n",
    "    \n",
    "    # Loop over all the bins in idx\n",
    "    for i in np.arange(len(bins) - 1): # Same as saying len(idx)\n",
    "        z_nums, masses, main_prog_list = track_evol(idx[i], redshifts, normalized) \n",
    "        final_mp_list.append(main_prog_list)\n",
    "        \n",
    "    print(\"Length of final mp list is: \", len(final_mp_list), \" and its values are:\\n\", final_mp_list)\n",
    "        \n",
    "    return final_mp_list"
   ]
  },
  {
   "cell_type": "code",
   "execution_count": null,
   "metadata": {},
   "outputs": [],
   "source": [
    "binned_halo_idx = bin_halos(forest_table, snap, bins)\n",
    "mp_list = get_binned_mps(binned_halo_idx, bins, redshifts)"
   ]
  },
  {
   "cell_type": "code",
   "execution_count": null,
   "metadata": {},
   "outputs": [],
   "source": [
    "def plot_main_branch_length(mp_list, bins): # bins, in this case, will give us ranges\n",
    "    # Assume mp_List is binned\n",
    "    \n",
    "    full_halo_idx = []\n",
    "    mp_lengths = []\n",
    "    \n",
    "    for y in np.arange(len(bins) - 1):\n",
    "        current_range = [bins[y], bins[y+1]]\n",
    "        full_halo_idx.append(help_func.find_halos(forest_table, snap, n, mass_range = current_range))\n",
    "        \n",
    "    #print(\"Full halo idx is: \", full_halo_idx)\n",
    "    \n",
    "    for z in np.arange(len(full_halo_idx)):\n",
    "        z_nums, masses, mp_list = help_func.track_evol(full_halo_idx[z], redshifts, progenitor_idx, forest_table)\n",
    "        for q in np.arange(len(mp_list)):\n",
    "            mp_lengths.append(len(mp_list[q]))\n",
    "        \n",
    "    fig, ax = plt.subplots()\n",
    "    color=iter(cm.jet(np.linspace(0,1,len(masses))))\n",
    "    ax.hist(mp_lengths, bins = 'auto')\n",
    "    ax.set_xlabel(\"Length of main branch\")\n",
    "    plt.show()"
   ]
  },
  {
   "cell_type": "code",
   "execution_count": null,
   "metadata": {},
   "outputs": [],
   "source": [
    "plot_main_branch_length(binned_main_prog_list, rangel_bins2)"
   ]
  },
  {
   "cell_type": "markdown",
   "metadata": {},
   "source": [
    "### Implement"
   ]
  },
  {
   "cell_type": "code",
   "execution_count": null,
   "metadata": {},
   "outputs": [],
   "source": [
    "# Find some halos\n",
    "for y in np.arange(len(bins) - 1):\n",
    "    current_range = [bins[y], bins[y+1]]\n",
    "    halo_idx = find_halos(forest_table, snap, n, mass_range = current_range)\n",
    "    # Track and plot them\n",
    "    z_nums, masses, main_prog_list = track_evol(halo_idx, redshifts)\n",
    "    plot_evol(z_nums, masses, \"mass_evol_range\", mass_range = current_range)\n",
    "    # Plot the main branch lengths\n",
    "    plot_main_branch_length(main_prog_list)"
   ]
  }
 ],
 "metadata": {
  "kernelspec": {
   "display_name": "Python 3",
   "language": "python",
   "name": "python3"
  },
  "language_info": {
   "codemirror_mode": {
    "name": "ipython",
    "version": 3
   },
   "file_extension": ".py",
   "mimetype": "text/x-python",
   "name": "python",
   "nbconvert_exporter": "python",
   "pygments_lexer": "ipython3",
   "version": "3.8.3"
  }
 },
 "nbformat": 4,
 "nbformat_minor": 4
}
