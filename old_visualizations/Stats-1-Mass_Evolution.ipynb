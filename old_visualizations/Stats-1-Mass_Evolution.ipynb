{
 "cells": [
  {
   "cell_type": "markdown",
   "metadata": {},
   "source": [
    "### Mass Evolution Statistics"
   ]
  },
  {
   "cell_type": "code",
   "execution_count": 1,
   "metadata": {},
   "outputs": [
    {
     "name": "stdout",
     "output_type": "stream",
     "text": [
      "pyfftw not available, using numpy fft\n"
     ]
    }
   ],
   "source": [
    "import haccytrees.mergertrees\n",
    "import numpy as np\n",
    "import matplotlib.pyplot as plt\n",
    "from matplotlib.pyplot import cm\n",
    "from matplotlib.lines import Line2D\n",
    "import pandas as pd\n",
    "from astropy.cosmology import FlatLambdaCDM\n",
    "import astropy.units as u\n",
    "from itertools import groupby\n",
    "from matplotlib.ticker import ScalarFormatter\n",
    "%load_ext line_profiler\n",
    "%reload_ext autoreload\n",
    "%autoreload 1\n",
    "%aimport help_func"
   ]
  },
  {
   "cell_type": "code",
   "execution_count": 2,
   "metadata": {},
   "outputs": [],
   "source": [
    "forest_table = pd.read_hdf('/data/a/cpac/aurora/reducedtrees.h5', 'ft')\n",
    "with open(\"/data/a/cpac/xinliu/reducedtrees/progenitor_idx0.txt\") as f:\n",
    "    progenitor_idx = [[int(p) for p in s.strip().split(\" \")] if s.strip() != \"\" else [] for s in f]"
   ]
  },
  {
   "cell_type": "code",
   "execution_count": 22,
   "metadata": {},
   "outputs": [
    {
     "data": {
      "text/plain": [
       "[6079969,\n",
       " 6198622,\n",
       " 6204367,\n",
       " 6204394,\n",
       " 6204396,\n",
       " 6204426,\n",
       " 6204431,\n",
       " 6204453,\n",
       " 6204455]"
      ]
     },
     "execution_count": 22,
     "metadata": {},
     "output_type": "execute_result"
    }
   ],
   "source": [
    "progenitor_idx[6207994]"
   ]
  },
  {
   "cell_type": "code",
   "execution_count": 2,
   "metadata": {},
   "outputs": [],
   "source": [
    "# New files, 1/26/2021\n",
    "#forest, progenitor_array = haccytrees.mergertrees.read_forest('/data/a/cpac/mbuehlmann/LastJourney/forest/m000p.forest.000.hdf5',\n",
    "                                                              #'LastJourney', nchunks=10, chunknum=0)"
   ]
  },
  {
   "cell_type": "code",
   "execution_count": 4,
   "metadata": {},
   "outputs": [
    {
     "data": {
      "text/plain": [
       "list"
      ]
     },
     "execution_count": 4,
     "metadata": {},
     "output_type": "execute_result"
    }
   ],
   "source": [
    "type(progenitor_idx)"
   ]
  },
  {
   "cell_type": "code",
   "execution_count": 66,
   "metadata": {},
   "outputs": [
    {
     "data": {
      "text/plain": [
       "True"
      ]
     },
     "execution_count": 66,
     "metadata": {},
     "output_type": "execute_result"
    }
   ],
   "source": [
    "(len(progenitor_idx) > 1)"
   ]
  },
  {
   "cell_type": "code",
   "execution_count": 39,
   "metadata": {},
   "outputs": [
    {
     "data": {
      "text/plain": [
       "[965476]"
      ]
     },
     "execution_count": 39,
     "metadata": {},
     "output_type": "execute_result"
    }
   ],
   "source": [
    "#len(progenitor_idx)\n",
    "#type(progenitor_idx)\n",
    "progenitor_idx[1030734]"
   ]
  },
  {
   "cell_type": "code",
   "execution_count": 14,
   "metadata": {},
   "outputs": [
    {
     "data": {
      "text/plain": [
       "array([7.8804492e+10, 3.2337016e+11, 9.7826267e+10, ..., 1.0869585e+11,\n",
       "       5.9782717e+10, 6.5217511e+10], dtype=float32)"
      ]
     },
     "execution_count": 14,
     "metadata": {},
     "output_type": "execute_result"
    }
   ],
   "source": [
    "mass_fof = forest['fof_halo_mass']\n",
    "mass_fof[forest['snapnum'] == 100]"
   ]
  },
  {
   "cell_type": "markdown",
   "metadata": {},
   "source": [
    "#### Establish Globals"
   ]
  },
  {
   "cell_type": "code",
   "execution_count": 3,
   "metadata": {},
   "outputs": [],
   "source": [
    "n = 10\n",
    "snap = 100\n",
    "snap2 = 99\n",
    "snap3 = 98\n",
    "thresholds = [5*10**11]\n",
    "thresholds_are_absolute = True\n",
    "norm = np.int(2.7*10**9)\n",
    "xaxis = 'z_nums'\n",
    "extremum = ''\n",
    "my_range = [10**13, 10**14]\n",
    "my_range_str = [\"{:.2e}\".format(my_range[0]), \"{:.2e}\".format(my_range[1])]\n",
    "#bins = [10**9.5, 10**10.5, 10**11.5, 10**12.5, 10**13.5, 10**14.5]\n",
    "small_bins = [10**11.5, 10**12.5, 10**13.5, 10**14.5]\n",
    "large_bins = [10**9.5, 10**10.5, 10**11.5, 10**12.5, 10**13.5, 10**14.5]\n",
    "large_bins2 = [10**12, 10**12.5, 10**13, 10**13.5, 10**14, 10**14.5]\n",
    "rangel_bins = [1*10**11, 1.5*10**11, 2.3*10**11, 3.5*10**11, 5.3*10**11, 8.1*10**11, 1.2*10**12, 1.9*10**12, 2.8*10**12, 4.3*10**12, 6.6*10**12, 1*10**13]\n",
    "rangel_bins2 = np.concatenate(([rangel_bins[0] - 0.25*10**11], [(rangel_bins[i] + rangel_bins[i+1]) / 2 for i in np.arange(len(rangel_bins) -1)], [rangel_bins[-1] + 3.4*10**13]), axis = 0)\n",
    "norm_tf = True\n",
    "avg_tf = True\n",
    "# Convert snapshots to redshifts\n",
    "redshifts = np.flip(np.array([10.044, 9.8065, 9.5789, 9.3608, 9.1515, 8.7573, 8.5714, 8.3925, 8.0541, 7.8938, 7.7391, 7.4454, 7.3058, 7.04, 6.9134, 6.6718, 6.5564, 6.3358, 6.1277, 6.028, 5.8367, 5.6556, 5.4839, 5.3208, 5.2422, 5.0909, 4.9467, 4.7429, 4.6145, 4.4918, 4.3743, 4.2618, 4.1015, 4.00, 3.8551, 3.763, 3.6313, 3.5475, 3.4273, 3.3133, 3.205, 3.102, 3.0361, 2.9412, 2.8506, 2.7361, 2.6545, 2.5765, 2.4775, 2.4068, 2.3168, 2.2524, 2.1703, 2.0923, 2.018, 1.9472, 1.8797, 1.7994, 1.7384, 1.68, 1.6104, 1.5443, 1.4938, 1.4334, 1.3759, 1.321, 1.2584, 1.2088, 1.152, 1.1069, 1.0552, 1.006, 0.9591, 0.9143, 0.8646, 0.824, 0.7788, 0.7358, 0.6948, 0.6557, 0.6184, 0.5777, 0.5391, 0.5022, 0.4714, 0.4337, 0.4017, 0.3636, 0.3347, 0.3035, 0.2705, 0.2423, 0.2123, 0.1837, 0.1538, 0.1279, 0.1008, 0.0749, 0.0502, 0.0245, 0.00]))\n",
    "forest_masses = np.array(forest_table['mass'])\n",
    "forest_snapnums = np.array(forest_table['snap_num'])\n",
    "thresholds = [1/10, 0.3]"
   ]
  },
  {
   "cell_type": "markdown",
   "metadata": {},
   "source": [
    "#### 1a) Full mass evolution: one halo"
   ]
  },
  {
   "cell_type": "code",
   "execution_count": 20,
   "metadata": {},
   "outputs": [
    {
     "data": {
      "text/plain": [
       "5584944"
      ]
     },
     "execution_count": 20,
     "metadata": {},
     "output_type": "execute_result"
    },
    {
     "data": {
      "image/png": "[encoded data removed]",
      "text/plain": [
       "<Figure size 432x288 with 1 Axes>"
      ]
     },
     "metadata": {
      "needs_background": "light"
     },
     "output_type": "display_data"
    }
   ],
   "source": [
    "# Find just one halo\n",
    "halo_idx = 6207994\n",
    "xaxis = 'snap_nums'\n",
    "# Track them\n",
    "time_nums, masses, main_prog_list, major_mergers, major_merger_times, LMMs, LMM_times, fossil_groups = help_func.track_evol(halo_idx, redshifts, progenitor_idx, forest_masses, forest_snapnums, thresholds, x_axis = xaxis)\n",
    "#main_prog_list\n",
    "snap_nums = np.linspace(100, 0, 101)\n",
    "# Plot them\n",
    "help_func.plot_evol([snap_nums], [masses], x_axis = xaxis)\n",
    "main_prog_list[5]"
   ]
  },
  {
   "cell_type": "markdown",
   "metadata": {},
   "source": [
    "#### 1b) Full mass evolution: multiple halos"
   ]
  },
  {
   "cell_type": "code",
   "execution_count": 14,
   "metadata": {},
   "outputs": [
    {
     "name": "stdout",
     "output_type": "stream",
     "text": [
      "0\n"
     ]
    },
    {
     "data": {
      "text/plain": [
       "array([], dtype=int64)"
      ]
     },
     "execution_count": 14,
     "metadata": {},
     "output_type": "execute_result"
    }
   ],
   "source": [
    "# Find some halos\n",
    "n = 10\n",
    "halo_idx = help_func.find_halos(forest_table, snap, n, extremum = 'max')\n",
    "halo_idx\n",
    "# Track them\n",
    "#time_nums, masses, main_prog_list, major_mergers, major_merger_times, LMMs, LMM_times, fossil_groups = help_func.track_evol_multiple(halo_idx, redshifts, progenitor_idx, forest_masses, forest_snapnums, thresholds, x_axis = xaxis)\n",
    "#main_prog_list\n",
    "# Plot them\n",
    "#help_func.plot_evol(time_nums, masses, \"mass_evol_10_max_z\", extremum = 'max', quant = n)"
   ]
  },
  {
   "cell_type": "markdown",
   "metadata": {},
   "source": [
    "#### 1c) Average (binned) mass evolution"
   ]
  },
  {
   "cell_type": "code",
   "execution_count": 15,
   "metadata": {},
   "outputs": [],
   "source": [
    "# Find halos and put them in bins\n",
    "bin_halo_idx = help_func.bin_halos(forest_table, snap, large_bins)\n",
    "# Track evolution of those halos\n",
    "#bin_z_nums, bin_masses, bin_main_prog_list, major_mergers = help_func.track_evol_binned(bin_halo_idx, bins, redshifts, progenitor_idx, forest_table)\n",
    "# Average the masses for each bin of halos\n",
    "avg_timesteps, avg_masses = help_func.avg_bins(bin_halo_idx, large_bins, redshifts, progenitor_idx, forest_table)"
   ]
  },
  {
   "cell_type": "code",
   "execution_count": 16,
   "metadata": {},
   "outputs": [
    {
     "name": "stdout",
     "output_type": "stream",
     "text": [
      "n:  0  out of:  4\n"
     ]
    },
    {
     "ename": "IndexError",
     "evalue": "list index out of range",
     "output_type": "error",
     "traceback": [
      "\u001b[0;31m---------------------------------------------------------------------------\u001b[0m",
      "\u001b[0;31mIndexError\u001b[0m                                Traceback (most recent call last)",
      "\u001b[0;32m<ipython-input-16-a4c48ed61aa9>\u001b[0m in \u001b[0;36m<module>\u001b[0;34m\u001b[0m\n\u001b[1;32m      1\u001b[0m \u001b[0;31m# Plot them\u001b[0m\u001b[0;34m\u001b[0m\u001b[0;34m\u001b[0m\u001b[0;34m\u001b[0m\u001b[0m\n\u001b[0;32m----> 2\u001b[0;31m \u001b[0mhelp_func\u001b[0m\u001b[0;34m.\u001b[0m\u001b[0mplot_evol\u001b[0m\u001b[0;34m(\u001b[0m\u001b[0mavg_timesteps\u001b[0m\u001b[0;34m,\u001b[0m \u001b[0mavg_masses\u001b[0m\u001b[0;34m,\u001b[0m \u001b[0mforest_table\u001b[0m\u001b[0;34m,\u001b[0m \u001b[0;34m\"mass_evol_binned_avg\"\u001b[0m\u001b[0;34m,\u001b[0m \u001b[0mlarge_bins\u001b[0m\u001b[0;34m,\u001b[0m \u001b[0mavg\u001b[0m \u001b[0;34m=\u001b[0m \u001b[0mavg_tf\u001b[0m\u001b[0;34m)\u001b[0m\u001b[0;34m\u001b[0m\u001b[0;34m\u001b[0m\u001b[0m\n\u001b[0m",
      "\u001b[0;32m/data/a/cpac/aurora/help_func.py\u001b[0m in \u001b[0;36mplot_evol\u001b[0;34m(timesteps, masses, forest_tbl, major_mergers, filename, bins, avg, normalized, extremum, quant, mass_range, x_axis)\u001b[0m\n\u001b[1;32m    212\u001b[0m         \u001b[0;32mfor\u001b[0m \u001b[0mn\u001b[0m \u001b[0;32min\u001b[0m \u001b[0mnp\u001b[0m\u001b[0;34m.\u001b[0m\u001b[0marange\u001b[0m\u001b[0;34m(\u001b[0m\u001b[0mlen\u001b[0m\u001b[0;34m(\u001b[0m\u001b[0mmasses\u001b[0m\u001b[0;34m)\u001b[0m\u001b[0;34m)\u001b[0m\u001b[0;34m:\u001b[0m\u001b[0;34m\u001b[0m\u001b[0;34m\u001b[0m\u001b[0m\n\u001b[1;32m    213\u001b[0m             \u001b[0mprint\u001b[0m\u001b[0;34m(\u001b[0m\u001b[0;34m\"n: \"\u001b[0m\u001b[0;34m,\u001b[0m \u001b[0mn\u001b[0m\u001b[0;34m,\u001b[0m \u001b[0;34m\" out of: \"\u001b[0m\u001b[0;34m,\u001b[0m \u001b[0mlen\u001b[0m\u001b[0;34m(\u001b[0m\u001b[0mmasses\u001b[0m\u001b[0;34m)\u001b[0m \u001b[0;34m-\u001b[0m \u001b[0;36m1\u001b[0m\u001b[0;34m)\u001b[0m\u001b[0;34m\u001b[0m\u001b[0;34m\u001b[0m\u001b[0m\n\u001b[0;32m--> 214\u001b[0;31m             \u001b[0max\u001b[0m\u001b[0;34m.\u001b[0m\u001b[0mplot\u001b[0m\u001b[0;34m(\u001b[0m\u001b[0mtimesteps\u001b[0m\u001b[0;34m[\u001b[0m\u001b[0mn\u001b[0m\u001b[0;34m]\u001b[0m\u001b[0;34m,\u001b[0m \u001b[0mmasses\u001b[0m\u001b[0;34m[\u001b[0m\u001b[0mn\u001b[0m\u001b[0;34m]\u001b[0m\u001b[0;34m,\u001b[0m \u001b[0mcolor\u001b[0m \u001b[0;34m=\u001b[0m \u001b[0mnext\u001b[0m\u001b[0;34m(\u001b[0m\u001b[0mcolor\u001b[0m\u001b[0;34m)\u001b[0m\u001b[0;34m,\u001b[0m \u001b[0mlabel\u001b[0m \u001b[0;34m=\u001b[0m \u001b[0;34m(\u001b[0m\u001b[0;34m\"bin \"\u001b[0m \u001b[0;34m+\u001b[0m \u001b[0mstr\u001b[0m\u001b[0;34m(\u001b[0m\u001b[0mn\u001b[0m \u001b[0;34m+\u001b[0m \u001b[0;36m1\u001b[0m\u001b[0;34m)\u001b[0m \u001b[0;34m+\u001b[0m \u001b[0;34m\": (\"\u001b[0m \u001b[0;34m+\u001b[0m \u001b[0;34m\"{:.2e}\"\u001b[0m\u001b[0;34m.\u001b[0m\u001b[0mformat\u001b[0m\u001b[0;34m(\u001b[0m\u001b[0mbins\u001b[0m\u001b[0;34m[\u001b[0m\u001b[0mn\u001b[0m\u001b[0;34m]\u001b[0m\u001b[0;34m)\u001b[0m \u001b[0;34m+\u001b[0m \u001b[0;34m\" to \"\u001b[0m \u001b[0;34m+\u001b[0m \u001b[0;34m\"{:.2e}\"\u001b[0m\u001b[0;34m.\u001b[0m\u001b[0mformat\u001b[0m\u001b[0;34m(\u001b[0m\u001b[0mbins\u001b[0m\u001b[0;34m[\u001b[0m\u001b[0mn\u001b[0m\u001b[0;34m+\u001b[0m\u001b[0;36m1\u001b[0m\u001b[0;34m]\u001b[0m\u001b[0;34m)\u001b[0m \u001b[0;34m+\u001b[0m \u001b[0;34m\")\"\u001b[0m\u001b[0;34m)\u001b[0m\u001b[0;34m)\u001b[0m\u001b[0;34m\u001b[0m\u001b[0;34m\u001b[0m\u001b[0m\n\u001b[0m\u001b[1;32m    215\u001b[0m         \u001b[0max\u001b[0m\u001b[0;34m.\u001b[0m\u001b[0mlegend\u001b[0m\u001b[0;34m(\u001b[0m\u001b[0;34m)\u001b[0m\u001b[0;34m\u001b[0m\u001b[0;34m\u001b[0m\u001b[0m\n\u001b[1;32m    216\u001b[0m \u001b[0;34m\u001b[0m\u001b[0m\n",
      "\u001b[0;31mIndexError\u001b[0m: list index out of range"
     ]
    },
    {
     "data": {
      "image/png": "[encoded data removed]",
      "text/plain": [
       "<Figure size 432x288 with 1 Axes>"
      ]
     },
     "metadata": {
      "needs_background": "light"
     },
     "output_type": "display_data"
    }
   ],
   "source": [
    "# Plot them\n",
    "help_func.plot_evol(avg_timesteps, avg_masses, forest_table, \"mass_evol_binned_avg\", large_bins, avg = avg_tf)"
   ]
  },
  {
   "cell_type": "markdown",
   "metadata": {},
   "source": [
    "#### 1d) Normalized average mass evolution"
   ]
  },
  {
   "cell_type": "code",
   "execution_count": null,
   "metadata": {},
   "outputs": [],
   "source": [
    "# Find halos and put them in bins\n",
    "bin_halo_idx = help_func.bin_halos(forest_table, snap, large_bins)\n",
    "# Average the masses for each bin of halos\n",
    "norm_avg_timesteps, norm_avg_masses = help_func.avg_bins(bin_halo_idx, large_bins, redshifts, progenitor_idx, forest_table, norm_tf)\n",
    "# Plot them\n",
    "help_func.plot_evol(norm_avg_timesteps, norm_avg_masses, \"mass_evol_binned\", bins, avg_tf, norm_tf)"
   ]
  },
  {
   "cell_type": "markdown",
   "metadata": {},
   "source": [
    "#### 1e) Tracking major mergers: one halo"
   ]
  },
  {
   "cell_type": "code",
   "execution_count": 4,
   "metadata": {},
   "outputs": [
    {
     "name": "stdout",
     "output_type": "stream",
     "text": [
      "first target idx:  6207440\n",
      "first set of progenitors:  [6079407, 6079886, 6140997, 6175520, 6177187, 6180746, 6180747, 6193203, 6193211, 6195986, 6195989, 6196013, 6196015, 6196148, 6199376, 6199382, 6199393, 6199526, 6205849, 6205855, 6205856, 6205861, 6205862, 6205884, 6205885, 6205887, 6205896, 6205897, 6205898, 6205900, 6205907, 6205910, 6205940, 6205953, 6205955, 6205956, 6205964, 6205991, 6205998, 6205999, 6206014, 6206021, 6206033, 6206037, 6206059, 6206060, 6206061, 6206062, 6206064, 6206072, 6206074, 6206082, 6206083, 6206152, 6206283, 6206321, 6206352, 6206367]\n"
     ]
    },
    {
     "data": {
      "image/png": "[encoded data removed]",
      "text/plain": [
       "<Figure size 432x288 with 1 Axes>"
      ]
     },
     "metadata": {
      "needs_background": "light"
     },
     "output_type": "display_data"
    }
   ],
   "source": [
    "# Choose just one halo, and choose x-axis (z_nums or snap_nums)\n",
    "halo_id = 6207440\n",
    "xaxis = 'z_nums'\n",
    "# Track the halo\n",
    "snap_nums, masses, main_prog_list, maj_mergers, major_merger_times = help_func.track_evol(halo_id, redshifts, prog_idx = progenitor_idx, forest_tbl = forest_table, mm_thresh_small = mm_thresh1, mm_thresh_big = mm_thresh2, x_axis = xaxis)\n",
    "# Plot them\n",
    "help_func.plot_evol([snap_nums], [masses], forest_table, major_mergers = [maj_mergers], x_axis = xaxis)"
   ]
  },
  {
   "cell_type": "markdown",
   "metadata": {},
   "source": [
    "#### 1f) Tracking major mergers: multiple halos"
   ]
  },
  {
   "cell_type": "code",
   "execution_count": 23,
   "metadata": {},
   "outputs": [
    {
     "data": {
      "image/png": "[encoded data removed]",
      "text/plain": [
       "<Figure size 432x288 with 1 Axes>"
      ]
     },
     "metadata": {
      "needs_background": "light"
     },
     "output_type": "display_data"
    }
   ],
   "source": [
    "#halo_id = 6207440\n",
    "halo_idx = [6207440, 6207441, 6207442]\n",
    "xaxis = 'z_nums'\n",
    "# Track the halo\n",
    "snap_nums, masses, main_prog_list, maj_mergers, major_merger_times = help_func.track_evol_multiple(halo_idx, redshifts, prog_idx = progenitor_idx, forest_tbl = forest_table, mm_thresh_small = mm_thresh1, mm_thresh_big = mm_thresh2, x_axis = xaxis)\n",
    "# Plot them\n",
    "help_func.plot_evol(snap_nums, masses, forest_table, major_mergers = maj_mergers, x_axis = xaxis)"
   ]
  },
  {
   "cell_type": "markdown",
   "metadata": {},
   "source": [
    "##### Am I sure that it's just a coincidence that all these halos end at exactly z = 8?"
   ]
  }
 ],
 "metadata": {
  "kernelspec": {
   "display_name": "Python 3",
   "language": "python",
   "name": "python3"
  },
  "language_info": {
   "codemirror_mode": {
    "name": "ipython",
    "version": 3
   },
   "file_extension": ".py",
   "mimetype": "text/x-python",
   "name": "python",
   "nbconvert_exporter": "python",
   "pygments_lexer": "ipython3",
   "version": "3.8.3"
  }
 },
 "nbformat": 4,
 "nbformat_minor": 4
}
