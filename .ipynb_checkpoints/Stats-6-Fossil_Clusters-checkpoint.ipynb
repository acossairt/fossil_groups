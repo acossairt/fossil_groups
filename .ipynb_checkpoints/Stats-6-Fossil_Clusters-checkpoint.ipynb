{
 "cells": [
  {
   "cell_type": "markdown",
   "metadata": {},
   "source": [
    "## Fossil Cluster Statistics"
   ]
  },
  {
   "cell_type": "code",
   "execution_count": 1,
   "metadata": {},
   "outputs": [],
   "source": [
    "import numpy as np\n",
    "import matplotlib.pyplot as plt\n",
    "from matplotlib.pyplot import cm\n",
    "from matplotlib.lines import Line2D\n",
    "import pandas as pd\n",
    "from astropy.cosmology import FlatLambdaCDM\n",
    "import astropy.units as u\n",
    "from itertools import groupby\n",
    "from matplotlib.ticker import ScalarFormatter\n",
    "%load_ext line_profiler\n",
    "%reload_ext autoreload\n",
    "%autoreload 1\n",
    "%aimport help_func"
   ]
  },
  {
   "cell_type": "code",
   "execution_count": 2,
   "metadata": {},
   "outputs": [],
   "source": [
    "forest_table = pd.read_hdf('/data/a/cpac/aurora/reducedtrees0.h5', 'ft')\n",
    "with open(\"/data/a/cpac/xinliu/reducedtrees/progenitor_idx0.txt\") as f:\n",
    "    progenitor_idx = [[int(p) for p in s.strip().split(\" \")] if s.strip() != \"\" else [] for s in f]"
   ]
  },
  {
   "cell_type": "markdown",
   "metadata": {},
   "source": [
    "#### Establish Globals"
   ]
  },
  {
   "cell_type": "code",
   "execution_count": 374,
   "metadata": {},
   "outputs": [],
   "source": [
    "n = 10\n",
    "snap = 99 \n",
    "snap2 = 98\n",
    "snap3 = 97\n",
    "mm_thresh1 = 1/10\n",
    "mm_thresh2 = 0.3\n",
    "norm = np.int(2.7*10**9)\n",
    "xaxis = 'z_nums'\n",
    "extremum = ''\n",
    "my_range = [10**13, 10**14]\n",
    "my_range_str = [\"{:.2e}\".format(my_range[0]), \"{:.2e}\".format(my_range[1])]\n",
    "#bins = [10**9.5, 10**10.5, 10**11.5, 10**12.5, 10**13.5, 10**14.5]\n",
    "three_bins = [10**11.5, 10**12.5, 10**13.5, 10**14.5]\n",
    "three_bins2 = [10**12.5, 10**13, 10**13.5, 10**14.5]\n",
    "five_bins = [10**9.5, 10**10.5, 10**11.5, 10**12.5, 10**13.5, 10**14.5]\n",
    "five_bins2 = [10**12, 10**12.5, 10**13, 10**13.5, 10**14, 10**14.5]\n",
    "five_bins3 = [10**12, 10**12.5, 10**13, 10**13.5, 10**14, 10**15]\n",
    "four_bins = [10**12.5, 10**13, 10**13.5, 10**14, 10**14.5]\n",
    "two_bins = [3*10**13, 3*10**14, 3*10**16]\n",
    "rangel_bins = [1*10**11, 1.5*10**11, 2.3*10**11, 3.5*10**11, 5.3*10**11, 8.1*10**11, 1.2*10**12, 1.9*10**12, 2.8*10**12, 4.3*10**12, 6.6*10**12, 1*10**13]\n",
    "rangel_bins2 = np.concatenate(([rangel_bins[0] - 0.25*10**11], [(rangel_bins[i] + rangel_bins[i+1]) / 2 for i in np.arange(len(rangel_bins) -1)], [rangel_bins[-1] + 3.4*10**13]), axis = 0)\n",
    "norm_tf = True\n",
    "avg_tf = True\n",
    "# Convert snapshots to redshifts\n",
    "redshifts = np.flip(np.array([10.044, 9.8065, 9.5789, 9.3608, 9.1515, 8.7573, 8.5714, 8.3925, 8.0541, 7.8938, 7.7391, 7.4454, 7.3058, 7.04, 6.9134, 6.6718, 6.5564, 6.3358, 6.1277, 6.028, 5.8367, 5.6556, 5.4839, 5.3208, 5.2422, 5.0909, 4.9467, 4.7429, 4.6145, 4.4918, 4.3743, 4.2618, 4.1015, 4.00, 3.8551, 3.763, 3.6313, 3.5475, 3.4273, 3.3133, 3.205, 3.102, 3.0361, 2.9412, 2.8506, 2.7361, 2.6545, 2.5765, 2.4775, 2.4068, 2.3168, 2.2524, 2.1703, 2.0923, 2.018, 1.9472, 1.8797, 1.7994, 1.7384, 1.68, 1.6104, 1.5443, 1.4938, 1.4334, 1.3759, 1.321, 1.2584, 1.2088, 1.152, 1.1069, 1.0552, 1.006, 0.9591, 0.9143, 0.8646, 0.824, 0.7788, 0.7358, 0.6948, 0.6557, 0.6184, 0.5777, 0.5391, 0.5022, 0.4714, 0.4337, 0.4017, 0.3636, 0.3347, 0.3035, 0.2705, 0.2423, 0.2123, 0.1837, 0.1538, 0.1279, 0.1008, 0.0749, 0.0502, 0.0245, 0.00]))"
   ]
  },
  {
   "cell_type": "markdown",
   "metadata": {},
   "source": [
    "### 6a) Find all halos with LMM > 1"
   ]
  },
  {
   "cell_type": "code",
   "execution_count": 376,
   "metadata": {},
   "outputs": [
    {
     "name": "stdout",
     "output_type": "stream",
     "text": [
      "In track_evol_multiple\n",
      "In track_evol_multiple\n",
      "In track_evol_multiple\n"
     ]
    }
   ],
   "source": [
    "# Find and bin the halos\n",
    "bin_halo_idx = help_func.bin_halos(forest_table, snap, three_bins2)\n",
    "# Track them (and take their averages in the process)\n",
    "xaxis = 'z_nums'\n",
    "binned_snap_nums, binned_masses, binned_main_prog_list, binned_maj_mergers, binned_mm_times = help_func.track_evol_binned(bin_halo_idx, three_bins2, redshifts, progenitor_idx, forest_table, x_axis = xaxis)"
   ]
  },
  {
   "cell_type": "code",
   "execution_count": 398,
   "metadata": {},
   "outputs": [],
   "source": [
    "binned_LMM_list, binned_LMM_times = help_func.find_LMMs_binned(binned_maj_mergers, binned_mm_times, forest_table, xaxis)"
   ]
  },
  {
   "cell_type": "code",
   "execution_count": 401,
   "metadata": {},
   "outputs": [],
   "source": [
    "tst_idx, core_idx = help_func.find_large_LMM_halos(binned_LMM_list, binned_LMM_times, forest_table)"
   ]
  },
  {
   "cell_type": "code",
   "execution_count": 454,
   "metadata": {},
   "outputs": [
    {
     "name": "stdout",
     "output_type": "stream",
     "text": [
      "229\n"
     ]
    }
   ],
   "source": [
    "print(len(core_idx[0][0]))"
   ]
  },
  {
   "cell_type": "markdown",
   "metadata": {},
   "source": [
    "#### Check your sanity"
   ]
  },
  {
   "cell_type": "markdown",
   "metadata": {},
   "source": [
    "##### What are the core_ids? Do they go all the way to z = 0?"
   ]
  },
  {
   "cell_type": "code",
   "execution_count": 475,
   "metadata": {},
   "outputs": [
    {
     "name": "stdout",
     "output_type": "stream",
     "text": [
      "2899652.0\n",
      "70\n",
      "6207206\n",
      "189151669680865283\n"
     ]
    }
   ],
   "source": [
    "print(binned_LMM_list[0][0][0])\n",
    "print(forest_table.snap_num[binned_LMM_list[0][0][0]])\n",
    "print(tst_idx[0][0][0])\n",
    "print(core_idx[0][0][0])"
   ]
  },
  {
   "cell_type": "code",
   "execution_count": 477,
   "metadata": {},
   "outputs": [
    {
     "data": {
      "text/html": [
       "<div>\n",
       "<style scoped>\n",
       "    .dataframe tbody tr th:only-of-type {\n",
       "        vertical-align: middle;\n",
       "    }\n",
       "\n",
       "    .dataframe tbody tr th {\n",
       "        vertical-align: top;\n",
       "    }\n",
       "\n",
       "    .dataframe thead th {\n",
       "        text-align: right;\n",
       "    }\n",
       "</style>\n",
       "<table border=\"1\" class=\"dataframe\">\n",
       "  <thead>\n",
       "    <tr style=\"text-align: right;\">\n",
       "      <th></th>\n",
       "      <th>halo_id</th>\n",
       "      <th>core_id</th>\n",
       "      <th>descendant_id</th>\n",
       "      <th>descendant_idx</th>\n",
       "      <th>snap_num</th>\n",
       "      <th>scale_factor</th>\n",
       "      <th>mass</th>\n",
       "      <th>pos_x</th>\n",
       "      <th>pos_y</th>\n",
       "      <th>pos_z</th>\n",
       "      <th>vel_x</th>\n",
       "      <th>vel_y</th>\n",
       "      <th>vel_z</th>\n",
       "      <th>vel_disp</th>\n",
       "      <th>vmax</th>\n",
       "    </tr>\n",
       "  </thead>\n",
       "  <tbody>\n",
       "    <tr>\n",
       "      <th>275</th>\n",
       "      <td>275</td>\n",
       "      <td>202662524397551630</td>\n",
       "      <td>384</td>\n",
       "      <td>384</td>\n",
       "      <td>2</td>\n",
       "      <td>0.0</td>\n",
       "      <td>9.726568</td>\n",
       "      <td>241.857544</td>\n",
       "      <td>245.290802</td>\n",
       "      <td>181.604385</td>\n",
       "      <td>1068.012939</td>\n",
       "      <td>-301.630798</td>\n",
       "      <td>1211.797119</td>\n",
       "      <td>433.808350</td>\n",
       "      <td>46.939880</td>\n",
       "    </tr>\n",
       "    <tr>\n",
       "      <th>384</th>\n",
       "      <td>384</td>\n",
       "      <td>202662524397551630</td>\n",
       "      <td>535</td>\n",
       "      <td>535</td>\n",
       "      <td>3</td>\n",
       "      <td>0.0</td>\n",
       "      <td>9.263399</td>\n",
       "      <td>241.862411</td>\n",
       "      <td>245.302490</td>\n",
       "      <td>181.604614</td>\n",
       "      <td>911.688416</td>\n",
       "      <td>89.124878</td>\n",
       "      <td>-151.928055</td>\n",
       "      <td>446.148590</td>\n",
       "      <td>46.939880</td>\n",
       "    </tr>\n",
       "    <tr>\n",
       "      <th>535</th>\n",
       "      <td>535</td>\n",
       "      <td>202662524397551630</td>\n",
       "      <td>781</td>\n",
       "      <td>781</td>\n",
       "      <td>4</td>\n",
       "      <td>0.0</td>\n",
       "      <td>9.726568</td>\n",
       "      <td>241.874725</td>\n",
       "      <td>245.294891</td>\n",
       "      <td>181.593262</td>\n",
       "      <td>540.785339</td>\n",
       "      <td>-721.498047</td>\n",
       "      <td>-349.337006</td>\n",
       "      <td>507.164154</td>\n",
       "      <td>48.063904</td>\n",
       "    </tr>\n",
       "    <tr>\n",
       "      <th>781</th>\n",
       "      <td>781</td>\n",
       "      <td>202662524397551630</td>\n",
       "      <td>1092</td>\n",
       "      <td>1092</td>\n",
       "      <td>5</td>\n",
       "      <td>0.0</td>\n",
       "      <td>10.189739</td>\n",
       "      <td>241.889938</td>\n",
       "      <td>245.295532</td>\n",
       "      <td>181.592911</td>\n",
       "      <td>2293.758301</td>\n",
       "      <td>-313.520294</td>\n",
       "      <td>830.826904</td>\n",
       "      <td>530.199158</td>\n",
       "      <td>51.131111</td>\n",
       "    </tr>\n",
       "    <tr>\n",
       "      <th>1092</th>\n",
       "      <td>1092</td>\n",
       "      <td>202662524397551630</td>\n",
       "      <td>1508</td>\n",
       "      <td>1508</td>\n",
       "      <td>6</td>\n",
       "      <td>0.0</td>\n",
       "      <td>11.579248</td>\n",
       "      <td>241.893372</td>\n",
       "      <td>245.296387</td>\n",
       "      <td>181.581238</td>\n",
       "      <td>143.953476</td>\n",
       "      <td>-894.277466</td>\n",
       "      <td>-1445.246216</td>\n",
       "      <td>517.981140</td>\n",
       "      <td>50.867104</td>\n",
       "    </tr>\n",
       "    <tr>\n",
       "      <th>...</th>\n",
       "      <td>...</td>\n",
       "      <td>...</td>\n",
       "      <td>...</td>\n",
       "      <td>...</td>\n",
       "      <td>...</td>\n",
       "      <td>...</td>\n",
       "      <td>...</td>\n",
       "      <td>...</td>\n",
       "      <td>...</td>\n",
       "      <td>...</td>\n",
       "      <td>...</td>\n",
       "      <td>...</td>\n",
       "      <td>...</td>\n",
       "      <td>...</td>\n",
       "      <td>...</td>\n",
       "    </tr>\n",
       "    <tr>\n",
       "      <th>5706277</th>\n",
       "      <td>5706277</td>\n",
       "      <td>202662524397551630</td>\n",
       "      <td>5829295</td>\n",
       "      <td>5829295</td>\n",
       "      <td>95</td>\n",
       "      <td>0.0</td>\n",
       "      <td>2246.374268</td>\n",
       "      <td>243.341949</td>\n",
       "      <td>248.049484</td>\n",
       "      <td>180.458939</td>\n",
       "      <td>120.400879</td>\n",
       "      <td>331.609741</td>\n",
       "      <td>-624.515869</td>\n",
       "      <td>136.152115</td>\n",
       "      <td>339.090210</td>\n",
       "    </tr>\n",
       "    <tr>\n",
       "      <th>5829295</th>\n",
       "      <td>5829295</td>\n",
       "      <td>202662524397551630</td>\n",
       "      <td>5953557</td>\n",
       "      <td>5953557</td>\n",
       "      <td>96</td>\n",
       "      <td>0.0</td>\n",
       "      <td>2271.385254</td>\n",
       "      <td>243.375534</td>\n",
       "      <td>248.096512</td>\n",
       "      <td>180.417114</td>\n",
       "      <td>290.243988</td>\n",
       "      <td>301.557983</td>\n",
       "      <td>-116.919067</td>\n",
       "      <td>116.152733</td>\n",
       "      <td>339.641510</td>\n",
       "    </tr>\n",
       "    <tr>\n",
       "      <th>5953557</th>\n",
       "      <td>5953557</td>\n",
       "      <td>202662524397551630</td>\n",
       "      <td>6079218</td>\n",
       "      <td>6079218</td>\n",
       "      <td>97</td>\n",
       "      <td>0.0</td>\n",
       "      <td>2297.322754</td>\n",
       "      <td>243.411438</td>\n",
       "      <td>248.144440</td>\n",
       "      <td>180.368073</td>\n",
       "      <td>194.206985</td>\n",
       "      <td>122.303818</td>\n",
       "      <td>-183.404831</td>\n",
       "      <td>131.502792</td>\n",
       "      <td>345.253448</td>\n",
       "    </tr>\n",
       "    <tr>\n",
       "      <th>6079218</th>\n",
       "      <td>6079218</td>\n",
       "      <td>202662524397551630</td>\n",
       "      <td>6207254</td>\n",
       "      <td>6207254</td>\n",
       "      <td>98</td>\n",
       "      <td>0.0</td>\n",
       "      <td>2333.450195</td>\n",
       "      <td>243.455780</td>\n",
       "      <td>248.188644</td>\n",
       "      <td>180.325836</td>\n",
       "      <td>412.947754</td>\n",
       "      <td>358.249817</td>\n",
       "      <td>213.947754</td>\n",
       "      <td>121.083855</td>\n",
       "      <td>348.023102</td>\n",
       "    </tr>\n",
       "    <tr>\n",
       "      <th>6207254</th>\n",
       "      <td>6207254</td>\n",
       "      <td>202662524397551630</td>\n",
       "      <td>-1</td>\n",
       "      <td>-1</td>\n",
       "      <td>99</td>\n",
       "      <td>0.0</td>\n",
       "      <td>2346.882080</td>\n",
       "      <td>243.492630</td>\n",
       "      <td>248.236465</td>\n",
       "      <td>180.284210</td>\n",
       "      <td>20.750799</td>\n",
       "      <td>-152.399246</td>\n",
       "      <td>-442.558441</td>\n",
       "      <td>143.277512</td>\n",
       "      <td>352.941864</td>\n",
       "    </tr>\n",
       "  </tbody>\n",
       "</table>\n",
       "<p>98 rows × 15 columns</p>\n",
       "</div>"
      ],
      "text/plain": [
       "         halo_id             core_id  descendant_id  descendant_idx  snap_num  \\\n",
       "275          275  202662524397551630            384             384         2   \n",
       "384          384  202662524397551630            535             535         3   \n",
       "535          535  202662524397551630            781             781         4   \n",
       "781          781  202662524397551630           1092            1092         5   \n",
       "1092        1092  202662524397551630           1508            1508         6   \n",
       "...          ...                 ...            ...             ...       ...   \n",
       "5706277  5706277  202662524397551630        5829295         5829295        95   \n",
       "5829295  5829295  202662524397551630        5953557         5953557        96   \n",
       "5953557  5953557  202662524397551630        6079218         6079218        97   \n",
       "6079218  6079218  202662524397551630        6207254         6207254        98   \n",
       "6207254  6207254  202662524397551630             -1              -1        99   \n",
       "\n",
       "         scale_factor         mass       pos_x       pos_y       pos_z  \\\n",
       "275               0.0     9.726568  241.857544  245.290802  181.604385   \n",
       "384               0.0     9.263399  241.862411  245.302490  181.604614   \n",
       "535               0.0     9.726568  241.874725  245.294891  181.593262   \n",
       "781               0.0    10.189739  241.889938  245.295532  181.592911   \n",
       "1092              0.0    11.579248  241.893372  245.296387  181.581238   \n",
       "...               ...          ...         ...         ...         ...   \n",
       "5706277           0.0  2246.374268  243.341949  248.049484  180.458939   \n",
       "5829295           0.0  2271.385254  243.375534  248.096512  180.417114   \n",
       "5953557           0.0  2297.322754  243.411438  248.144440  180.368073   \n",
       "6079218           0.0  2333.450195  243.455780  248.188644  180.325836   \n",
       "6207254           0.0  2346.882080  243.492630  248.236465  180.284210   \n",
       "\n",
       "               vel_x       vel_y        vel_z    vel_disp        vmax  \n",
       "275      1068.012939 -301.630798  1211.797119  433.808350   46.939880  \n",
       "384       911.688416   89.124878  -151.928055  446.148590   46.939880  \n",
       "535       540.785339 -721.498047  -349.337006  507.164154   48.063904  \n",
       "781      2293.758301 -313.520294   830.826904  530.199158   51.131111  \n",
       "1092      143.953476 -894.277466 -1445.246216  517.981140   50.867104  \n",
       "...              ...         ...          ...         ...         ...  \n",
       "5706277   120.400879  331.609741  -624.515869  136.152115  339.090210  \n",
       "5829295   290.243988  301.557983  -116.919067  116.152733  339.641510  \n",
       "5953557   194.206985  122.303818  -183.404831  131.502792  345.253448  \n",
       "6079218   412.947754  358.249817   213.947754  121.083855  348.023102  \n",
       "6207254    20.750799 -152.399246  -442.558441  143.277512  352.941864  \n",
       "\n",
       "[98 rows x 15 columns]"
      ]
     },
     "execution_count": 477,
     "metadata": {},
     "output_type": "execute_result"
    }
   ],
   "source": [
    "\n",
    "forest_table.loc[forest_table.core_id == core_idx[0][1][10]]"
   ]
  },
  {
   "cell_type": "code",
   "execution_count": 472,
   "metadata": {},
   "outputs": [
    {
     "name": "stdout",
     "output_type": "stream",
     "text": [
      "837\n",
      "0\n"
     ]
    }
   ],
   "source": [
    "t_vals = 0\n",
    "f_vals = 0\n",
    "for i in range(len(tst_idx)):\n",
    "    for j in range(len(tst_idx[i])):\n",
    "        for k in range(len(tst_idx[i][j])):\n",
    "            if max(forest_table.halo_id.loc[forest_table.core_id == core_idx[j][i][k]]) == tst_idx[i][j][k]:\n",
    "                if np.array(forest_table.snap_num.loc[forest_table.halo_id == tst_idx[i][j][k]]) > 90:\n",
    "                    t_vals = t_vals + 1\n",
    "                else:\n",
    "                f_vals = f_vals + 1\n",
    "print(t_vals)\n",
    "print(f_vals)"
   ]
  },
  {
   "cell_type": "markdown",
   "metadata": {},
   "source": [
    "##### What if I feed this back to the beginning?"
   ]
  },
  {
   "cell_type": "code",
   "execution_count": 414,
   "metadata": {},
   "outputs": [
    {
     "name": "stdout",
     "output_type": "stream",
     "text": [
      "In track_evol_multiple\n",
      "In track_evol_multiple\n",
      "In track_evol_multiple\n",
      "len(new_masses[ 0 ] 229\n",
      "len(new_masses[ 1 ] 44\n",
      "len(new_masses[ 2 ] 7\n"
     ]
    }
   ],
   "source": [
    "new_halo_idx = tst_idx[0] # The first threshold\n",
    "# Track them (and take their averages in the process)\n",
    "new_snap_nums, new_masses, new_main_prog_list, new_maj_mergers, new_mm_times = help_func.track_evol_binned(new_halo_idx, three_bins2, redshifts, progenitor_idx, forest_table, x_axis = xaxis)\n",
    "for i in range(len(new_masses)):\n",
    "    print(\"len(new_masses[\", i, \"]\", len(new_masses[i]))"
   ]
  },
  {
   "cell_type": "code",
   "execution_count": 448,
   "metadata": {},
   "outputs": [
    {
     "name": "stdout",
     "output_type": "stream",
     "text": [
      "For bin:  0  and thresh:  0  there are  229  LMM entries\n",
      "For bin:  0  and thresh:  1  there are  222  LMM entries\n",
      "For bin:  1  and thresh:  0  there are  44  LMM entries\n",
      "For bin:  1  and thresh:  1  there are  44  LMM entries\n",
      "For bin:  2  and thresh:  0  there are  7  LMM entries\n",
      "For bin:  2  and thresh:  1  there are  7  LMM entries\n"
     ]
    }
   ],
   "source": [
    "new_LMM_list, new_LMM_times = help_func.find_LMMs_binned(new_maj_mergers, new_mm_times, forest_table, xaxis)\n",
    "for this_bin in range(len(new_LMM_list)):\n",
    "    for this_thresh in range(len(new_LMM_list[this_bin])):\n",
    "        print(\"For bin: \", this_bin, ' and thresh: ', this_thresh, \" there are \", len(new_LMM_list[this_bin][this_thresh]), \" LMM entries\")"
   ]
  },
  {
   "cell_type": "code",
   "execution_count": null,
   "metadata": {},
   "outputs": [],
   "source": []
  },
  {
   "cell_type": "markdown",
   "metadata": {},
   "source": [
    "#### Plot just one"
   ]
  },
  {
   "cell_type": "code",
   "execution_count": 482,
   "metadata": {},
   "outputs": [
    {
     "data": {
      "image/png": "[encoded data removed]",
      "text/plain": [
       "<Figure size 432x288 with 1 Axes>"
      ]
     },
     "metadata": {
      "needs_background": "light"
     },
     "output_type": "display_data"
    }
   ],
   "source": [
    "new_halo_idx = int(tst_idx[1][1][18]) # The first threshold # Do I need that int()?\n",
    "xaxis = 'snap_nums'\n",
    "# Track them (and take their averages in the process)\n",
    "new_z_nums1, new_masses1, new_main_prog_list1, new_maj_mergers1, new_mm_times1 = help_func.track_evol(new_halo_idx, redshifts, progenitor_idx, forest_table, x_axis = xaxis)\n",
    "help_func.plot_evol([new_z_nums1], [new_masses1], forest_tbl = forest_table, major_mergers = [new_maj_mergers1], x_axis = xaxis)"
   ]
  },
  {
   "cell_type": "code",
   "execution_count": 483,
   "metadata": {},
   "outputs": [
    {
     "ename": "TypeError",
     "evalue": "object of type 'numpy.float64' has no len()",
     "output_type": "error",
     "traceback": [
      "\u001b[0;31m---------------------------------------------------------------------------\u001b[0m",
      "\u001b[0;31mTypeError\u001b[0m                                 Traceback (most recent call last)",
      "\u001b[0;32m<ipython-input-483-cb9910a6d6be>\u001b[0m in \u001b[0;36m<module>\u001b[0;34m\u001b[0m\n\u001b[0;32m----> 1\u001b[0;31m \u001b[0mnew_LMM_list1\u001b[0m\u001b[0;34m,\u001b[0m \u001b[0mnew_LMM_times1\u001b[0m \u001b[0;34m=\u001b[0m \u001b[0mhelp_func\u001b[0m\u001b[0;34m.\u001b[0m\u001b[0mfind_LMMs_binned\u001b[0m\u001b[0;34m(\u001b[0m\u001b[0;34m[\u001b[0m\u001b[0mnew_maj_mergers1\u001b[0m\u001b[0;34m]\u001b[0m\u001b[0;34m,\u001b[0m \u001b[0;34m[\u001b[0m\u001b[0mnew_mm_times1\u001b[0m\u001b[0;34m]\u001b[0m\u001b[0;34m,\u001b[0m \u001b[0mforest_table\u001b[0m\u001b[0;34m,\u001b[0m \u001b[0mxaxis\u001b[0m\u001b[0;34m)\u001b[0m\u001b[0;34m\u001b[0m\u001b[0;34m\u001b[0m\u001b[0m\n\u001b[0m\u001b[1;32m      2\u001b[0m \u001b[0mplt\u001b[0m \u001b[0;34m=\u001b[0m \u001b[0mhelp_func\u001b[0m\u001b[0;34m.\u001b[0m\u001b[0mplot_CDF\u001b[0m\u001b[0;34m(\u001b[0m\u001b[0mnew_LMM_times1\u001b[0m\u001b[0;34m,\u001b[0m \u001b[0mnew_masses1\u001b[0m\u001b[0;34m,\u001b[0m \u001b[0mlarge_bins\u001b[0m\u001b[0;34m,\u001b[0m \u001b[0mredshifts\u001b[0m\u001b[0;34m)\u001b[0m\u001b[0;34m\u001b[0m\u001b[0;34m\u001b[0m\u001b[0m\n",
      "\u001b[0;32m/data/a/cpac/aurora/help_func.py\u001b[0m in \u001b[0;36mfind_LMMs_binned\u001b[0;34m(binned_major_mergers, binned_major_merger_times, forest_tbl, x_axis, redshifts)\u001b[0m\n\u001b[1;32m    324\u001b[0m     \u001b[0mall_LMM_times\u001b[0m \u001b[0;34m=\u001b[0m \u001b[0;34m[\u001b[0m\u001b[0;34m]\u001b[0m\u001b[0;34m\u001b[0m\u001b[0;34m\u001b[0m\u001b[0m\n\u001b[1;32m    325\u001b[0m     \u001b[0;32mfor\u001b[0m \u001b[0mmms\u001b[0m\u001b[0;34m,\u001b[0m \u001b[0mmm_times\u001b[0m \u001b[0;32min\u001b[0m \u001b[0mzip\u001b[0m\u001b[0;34m(\u001b[0m\u001b[0mbinned_major_mergers\u001b[0m\u001b[0;34m,\u001b[0m \u001b[0mbinned_major_merger_times\u001b[0m\u001b[0;34m)\u001b[0m\u001b[0;34m:\u001b[0m\u001b[0;34m\u001b[0m\u001b[0;34m\u001b[0m\u001b[0m\n\u001b[0;32m--> 326\u001b[0;31m         \u001b[0mthis_LMM_list\u001b[0m\u001b[0;34m,\u001b[0m \u001b[0mthis_LMM_times\u001b[0m \u001b[0;34m=\u001b[0m \u001b[0mfind_LMMs\u001b[0m\u001b[0;34m(\u001b[0m\u001b[0mmms\u001b[0m\u001b[0;34m,\u001b[0m \u001b[0mmm_times\u001b[0m\u001b[0;34m,\u001b[0m \u001b[0mforest_tbl\u001b[0m\u001b[0;34m,\u001b[0m \u001b[0mx_axis\u001b[0m\u001b[0;34m,\u001b[0m \u001b[0mredshifts\u001b[0m\u001b[0;34m)\u001b[0m\u001b[0;34m\u001b[0m\u001b[0;34m\u001b[0m\u001b[0m\n\u001b[0m\u001b[1;32m    327\u001b[0m         \u001b[0mall_LMM_list\u001b[0m\u001b[0;34m.\u001b[0m\u001b[0mappend\u001b[0m\u001b[0;34m(\u001b[0m\u001b[0mthis_LMM_list\u001b[0m\u001b[0;34m)\u001b[0m\u001b[0;34m\u001b[0m\u001b[0;34m\u001b[0m\u001b[0m\n\u001b[1;32m    328\u001b[0m         \u001b[0mall_LMM_times\u001b[0m\u001b[0;34m.\u001b[0m\u001b[0mappend\u001b[0m\u001b[0;34m(\u001b[0m\u001b[0mthis_LMM_times\u001b[0m\u001b[0;34m)\u001b[0m\u001b[0;34m\u001b[0m\u001b[0;34m\u001b[0m\u001b[0m\n",
      "\u001b[0;32m/data/a/cpac/aurora/help_func.py\u001b[0m in \u001b[0;36mfind_LMMs\u001b[0;34m(major_mergers, major_merger_times, forest_tbl, x_axis, redshifts)\u001b[0m\n\u001b[1;32m    285\u001b[0m \u001b[0;34m\u001b[0m\u001b[0m\n\u001b[1;32m    286\u001b[0m     \u001b[0;31m# Mask up! (For second threshhold only)\u001b[0m\u001b[0;34m\u001b[0m\u001b[0;34m\u001b[0m\u001b[0;34m\u001b[0m\u001b[0m\n\u001b[0;32m--> 287\u001b[0;31m     \u001b[0mmask\u001b[0m \u001b[0;34m=\u001b[0m \u001b[0;34m[\u001b[0m\u001b[0mlen\u001b[0m\u001b[0;34m(\u001b[0m\u001b[0mmajor_merger_times\u001b[0m\u001b[0;34m[\u001b[0m\u001b[0mi\u001b[0m\u001b[0;34m]\u001b[0m\u001b[0;34m[\u001b[0m\u001b[0;36m1\u001b[0m\u001b[0;34m]\u001b[0m\u001b[0;34m)\u001b[0m \u001b[0;34m!=\u001b[0m \u001b[0;36m0\u001b[0m \u001b[0;32mfor\u001b[0m \u001b[0mi\u001b[0m \u001b[0;32min\u001b[0m \u001b[0mrange\u001b[0m\u001b[0;34m(\u001b[0m\u001b[0mlen\u001b[0m\u001b[0;34m(\u001b[0m\u001b[0mmajor_merger_times\u001b[0m\u001b[0;34m)\u001b[0m\u001b[0;34m)\u001b[0m\u001b[0;34m]\u001b[0m\u001b[0;34m\u001b[0m\u001b[0;34m\u001b[0m\u001b[0m\n\u001b[0m\u001b[1;32m    288\u001b[0m     \u001b[0;31m#mask = []\u001b[0m\u001b[0;34m\u001b[0m\u001b[0;34m\u001b[0m\u001b[0;34m\u001b[0m\u001b[0m\n\u001b[1;32m    289\u001b[0m     \u001b[0;31m#for i in range(len(major_merger_times)):\u001b[0m\u001b[0;34m\u001b[0m\u001b[0;34m\u001b[0m\u001b[0;34m\u001b[0m\u001b[0m\n",
      "\u001b[0;32m/data/a/cpac/aurora/help_func.py\u001b[0m in \u001b[0;36m<listcomp>\u001b[0;34m(.0)\u001b[0m\n\u001b[1;32m    285\u001b[0m \u001b[0;34m\u001b[0m\u001b[0m\n\u001b[1;32m    286\u001b[0m     \u001b[0;31m# Mask up! (For second threshhold only)\u001b[0m\u001b[0;34m\u001b[0m\u001b[0;34m\u001b[0m\u001b[0;34m\u001b[0m\u001b[0m\n\u001b[0;32m--> 287\u001b[0;31m     \u001b[0mmask\u001b[0m \u001b[0;34m=\u001b[0m \u001b[0;34m[\u001b[0m\u001b[0mlen\u001b[0m\u001b[0;34m(\u001b[0m\u001b[0mmajor_merger_times\u001b[0m\u001b[0;34m[\u001b[0m\u001b[0mi\u001b[0m\u001b[0;34m]\u001b[0m\u001b[0;34m[\u001b[0m\u001b[0;36m1\u001b[0m\u001b[0;34m]\u001b[0m\u001b[0;34m)\u001b[0m \u001b[0;34m!=\u001b[0m \u001b[0;36m0\u001b[0m \u001b[0;32mfor\u001b[0m \u001b[0mi\u001b[0m \u001b[0;32min\u001b[0m \u001b[0mrange\u001b[0m\u001b[0;34m(\u001b[0m\u001b[0mlen\u001b[0m\u001b[0;34m(\u001b[0m\u001b[0mmajor_merger_times\u001b[0m\u001b[0;34m)\u001b[0m\u001b[0;34m)\u001b[0m\u001b[0;34m]\u001b[0m\u001b[0;34m\u001b[0m\u001b[0;34m\u001b[0m\u001b[0m\n\u001b[0m\u001b[1;32m    288\u001b[0m     \u001b[0;31m#mask = []\u001b[0m\u001b[0;34m\u001b[0m\u001b[0;34m\u001b[0m\u001b[0;34m\u001b[0m\u001b[0m\n\u001b[1;32m    289\u001b[0m     \u001b[0;31m#for i in range(len(major_merger_times)):\u001b[0m\u001b[0;34m\u001b[0m\u001b[0;34m\u001b[0m\u001b[0;34m\u001b[0m\u001b[0m\n",
      "\u001b[0;31mTypeError\u001b[0m: object of type 'numpy.float64' has no len()"
     ]
    }
   ],
   "source": [
    "new_LMM_list1, new_LMM_times1 = help_func.find_LMMs_binned([new_maj_mergers1], [new_mm_times1], forest_table, xaxis)\n",
    "plt = help_func.plot_CDF(new_LMM_times1, new_masses1, large_bins, redshifts)"
   ]
  },
  {
   "cell_type": "markdown",
   "metadata": {},
   "source": [
    "##### Sanity Checks"
   ]
  },
  {
   "cell_type": "markdown",
   "metadata": {},
   "source": [
    "How many values did it identify?"
   ]
  },
  {
   "cell_type": "code",
   "execution_count": 392,
   "metadata": {},
   "outputs": [
    {
     "name": "stdout",
     "output_type": "stream",
     "text": [
      "at i:  0  and j:  0  len(tst_idx[i][j]) is:  833\n",
      "at i:  0  and j:  1  len(tst_idx[i][j]) is:  229\n",
      "at i:  0  and j:  2  len(tst_idx[i][j]) is:  44\n",
      "at i:  0  and j:  3  len(tst_idx[i][j]) is:  7\n",
      "at i:  1  and j:  0  len(tst_idx[i][j]) is:  1409\n",
      "at i:  1  and j:  1  len(tst_idx[i][j]) is:  440\n",
      "at i:  1  and j:  2  len(tst_idx[i][j]) is:  95\n",
      "at i:  1  and j:  3  len(tst_idx[i][j]) is:  22\n",
      "3079\n"
     ]
    }
   ],
   "source": [
    "count = 0\n",
    "for i in range(len(tst_idx)): # 5 bins\n",
    "    for j in range(len(tst_idx[i])): # 2 thresholds\n",
    "        count = count + len(tst_idx[i][j]) # len = number of halos in that row\n",
    "        if len(tst_idx[i][j]) > 0:\n",
    "            print(\"at i: \", i, \" and j: \", j, \" len(tst_idx[i][j]) is: \", len(tst_idx[i][j]))\n",
    "print(count)"
   ]
  },
  {
   "cell_type": "markdown",
   "metadata": {},
   "source": [
    "What do the halo evolutions of those values look like?"
   ]
  },
  {
   "cell_type": "code",
   "execution_count": 359,
   "metadata": {},
   "outputs": [
    {
     "name": "stdout",
     "output_type": "stream",
     "text": [
      "In track_evol_multiple\n",
      "len(idx[i]):  833\n",
      "len(major_mergers):  833\n",
      "In track_evol_multiple\n",
      "len(idx[i]):  229\n",
      "len(major_mergers):  229\n",
      "In track_evol_multiple\n",
      "len(idx[i]):  44\n",
      "len(major_mergers):  44\n",
      "In track_evol_multiple\n",
      "len(idx[i]):  7\n",
      "len(major_mergers):  7\n",
      "In track_evol_multiple\n",
      "len(idx[i]):  0\n",
      "len(major_mergers):  0\n",
      "bin:  100000000000000\n",
      "major_mergers:  []\n"
     ]
    },
    {
     "ename": "IndexError",
     "evalue": "list index out of range",
     "output_type": "error",
     "traceback": [
      "\u001b[0;31m---------------------------------------------------------------------------\u001b[0m",
      "\u001b[0;31mIndexError\u001b[0m                                Traceback (most recent call last)",
      "\u001b[0;32m<ipython-input-359-feef312a30fb>\u001b[0m in \u001b[0;36m<module>\u001b[0;34m\u001b[0m\n\u001b[0;32m----> 1\u001b[0;31m \u001b[0mnew_snap_nums\u001b[0m\u001b[0;34m,\u001b[0m \u001b[0mnew_masses\u001b[0m\u001b[0;34m,\u001b[0m \u001b[0mnew_main_prog_list\u001b[0m\u001b[0;34m,\u001b[0m \u001b[0mnew_maj_mergers\u001b[0m\u001b[0;34m,\u001b[0m \u001b[0mnew_mm_times\u001b[0m \u001b[0;34m=\u001b[0m \u001b[0mhelp_func\u001b[0m\u001b[0;34m.\u001b[0m\u001b[0mtrack_evol_binned\u001b[0m\u001b[0;34m(\u001b[0m\u001b[0mtst_idx\u001b[0m\u001b[0;34m[\u001b[0m\u001b[0;36m0\u001b[0m\u001b[0;34m]\u001b[0m\u001b[0;34m,\u001b[0m \u001b[0mfive_bins2\u001b[0m\u001b[0;34m,\u001b[0m \u001b[0mredshifts\u001b[0m\u001b[0;34m,\u001b[0m \u001b[0mprogenitor_idx\u001b[0m\u001b[0;34m,\u001b[0m \u001b[0mforest_table\u001b[0m\u001b[0;34m,\u001b[0m \u001b[0mx_axis\u001b[0m \u001b[0;34m=\u001b[0m \u001b[0mxaxis\u001b[0m\u001b[0;34m)\u001b[0m\u001b[0;34m\u001b[0m\u001b[0;34m\u001b[0m\u001b[0m\n\u001b[0m\u001b[1;32m      2\u001b[0m \u001b[0mhelp_func\u001b[0m\u001b[0;34m.\u001b[0m\u001b[0mplot_evol\u001b[0m\u001b[0;34m(\u001b[0m\u001b[0mnew_snap_nums\u001b[0m\u001b[0;34m,\u001b[0m \u001b[0mnew_masses\u001b[0m\u001b[0;34m,\u001b[0m \u001b[0mforest_table\u001b[0m\u001b[0;34m,\u001b[0m \u001b[0mmajor_mergers\u001b[0m \u001b[0;34m=\u001b[0m \u001b[0mnew_maj_mergers\u001b[0m\u001b[0;34m,\u001b[0m \u001b[0mx_axis\u001b[0m \u001b[0;34m=\u001b[0m \u001b[0mxaxis\u001b[0m\u001b[0;34m)\u001b[0m\u001b[0;34m\u001b[0m\u001b[0;34m\u001b[0m\u001b[0m\n\u001b[1;32m      3\u001b[0m \u001b[0mnew_LMM_list\u001b[0m\u001b[0;34m,\u001b[0m \u001b[0mnew_LMM_times\u001b[0m \u001b[0;34m=\u001b[0m \u001b[0mhelp_func\u001b[0m\u001b[0;34m.\u001b[0m\u001b[0mfind_LMMs_binned\u001b[0m\u001b[0;34m(\u001b[0m\u001b[0;34m[\u001b[0m\u001b[0mmaj_mergers\u001b[0m\u001b[0;34m]\u001b[0m\u001b[0;34m,\u001b[0m \u001b[0;34m[\u001b[0m\u001b[0mmm_times\u001b[0m\u001b[0;34m]\u001b[0m\u001b[0;34m,\u001b[0m \u001b[0mforest_table\u001b[0m\u001b[0;34m,\u001b[0m \u001b[0mxaxis\u001b[0m\u001b[0;34m)\u001b[0m\u001b[0;34m\u001b[0m\u001b[0;34m\u001b[0m\u001b[0m\n",
      "\u001b[0;32m/data/a/cpac/aurora/help_func.py\u001b[0m in \u001b[0;36mtrack_evol_binned\u001b[0;34m(idx, bins, redshifts, prog_idx, forest_tbl, mm_thresh_small, mm_thresh_big, normalized, x_axis)\u001b[0m\n\u001b[1;32m    184\u001b[0m             \u001b[0mprint\u001b[0m\u001b[0;34m(\u001b[0m\u001b[0;34m\"bin: \"\u001b[0m\u001b[0;34m,\u001b[0m \u001b[0mbins\u001b[0m\u001b[0;34m[\u001b[0m\u001b[0mi\u001b[0m\u001b[0;34m]\u001b[0m\u001b[0;34m)\u001b[0m\u001b[0;34m\u001b[0m\u001b[0;34m\u001b[0m\u001b[0m\n\u001b[1;32m    185\u001b[0m             \u001b[0mprint\u001b[0m\u001b[0;34m(\u001b[0m\u001b[0;34m\"major_mergers: \"\u001b[0m\u001b[0;34m,\u001b[0m \u001b[0mmajor_mergers\u001b[0m\u001b[0;34m)\u001b[0m\u001b[0;34m\u001b[0m\u001b[0;34m\u001b[0m\u001b[0m\n\u001b[0;32m--> 186\u001b[0;31m         \u001b[0;32mif\u001b[0m \u001b[0mmajor_mergers\u001b[0m\u001b[0;34m[\u001b[0m\u001b[0;36m0\u001b[0m\u001b[0;34m]\u001b[0m \u001b[0;34m!=\u001b[0m \u001b[0;34m[\u001b[0m\u001b[0;34m]\u001b[0m\u001b[0;34m:\u001b[0m\u001b[0;34m\u001b[0m\u001b[0;34m\u001b[0m\u001b[0m\n\u001b[0m\u001b[1;32m    187\u001b[0m             \u001b[0mall_major_mergers\u001b[0m\u001b[0;34m.\u001b[0m\u001b[0mappend\u001b[0m\u001b[0;34m(\u001b[0m\u001b[0mmajor_mergers\u001b[0m\u001b[0;34m)\u001b[0m\u001b[0;34m\u001b[0m\u001b[0;34m\u001b[0m\u001b[0m\n\u001b[1;32m    188\u001b[0m             \u001b[0mall_major_merger_times\u001b[0m\u001b[0;34m.\u001b[0m\u001b[0mappend\u001b[0m\u001b[0;34m(\u001b[0m\u001b[0mmajor_merger_times\u001b[0m\u001b[0;34m)\u001b[0m\u001b[0;34m\u001b[0m\u001b[0;34m\u001b[0m\u001b[0m\n",
      "\u001b[0;31mIndexError\u001b[0m: list index out of range"
     ]
    }
   ],
   "source": [
    "new_snap_nums, new_masses, new_main_prog_list, new_maj_mergers, new_mm_times = help_func.track_evol_binned(tst_idx[0], five_bins2, redshifts, progenitor_idx, forest_table, x_axis = xaxis)\n",
    "help_func.plot_evol(new_snap_nums, new_masses, forest_table, major_mergers = new_maj_mergers, x_axis = xaxis)\n",
    "new_LMM_list, new_LMM_times = help_func.find_LMMs_binned([maj_mergers], [mm_times], forest_table, xaxis)"
   ]
  },
  {
   "cell_type": "code",
   "execution_count": 316,
   "metadata": {},
   "outputs": [
    {
     "data": {
      "text/plain": [
       "[array([378302879800230312]),\n",
       " array([387310057580134590]),\n",
       " array([405324451794650668])]"
      ]
     },
     "execution_count": 316,
     "metadata": {},
     "output_type": "execute_result"
    }
   ],
   "source": [
    "cores = [np.array(forest_table.core_id.loc[forest_table.halo_id == i]) for i in tst_idx[1][0]]\n",
    "cores"
   ]
  },
  {
   "cell_type": "code",
   "execution_count": null,
   "metadata": {},
   "outputs": [],
   "source": [
    "forest_table[np.array(forest_table['core_id'] == 324259692861719049)]"
   ]
  },
  {
   "cell_type": "code",
   "execution_count": 278,
   "metadata": {},
   "outputs": [
    {
     "name": "stdout",
     "output_type": "stream",
     "text": [
      "46114     20\n",
      "53984     21\n",
      "63197     22\n",
      "73809     23\n",
      "85197     24\n",
      "98246     25\n",
      "113068    26\n",
      "130211    27\n",
      "149186    28\n",
      "170013    29\n",
      "192754    30\n",
      "217513    31\n",
      "244943    32\n",
      "274457    33\n",
      "306733    34\n",
      "340951    35\n",
      "377818    36\n",
      "416814    37\n",
      "Name: snap_num, dtype: int32\n",
      "416814\n"
     ]
    }
   ],
   "source": [
    "print(forest_table.snap_num.loc[forest_table.core_id == 324259692861719049])\n",
    "print(max(forest_table.halo_id.loc[forest_table.core_id == 324259692861719049]))"
   ]
  },
  {
   "cell_type": "code",
   "execution_count": 266,
   "metadata": {},
   "outputs": [
    {
     "data": {
      "text/plain": [
       "[6212633, 6213162, 6214418]"
      ]
     },
     "execution_count": 266,
     "metadata": {},
     "output_type": "execute_result"
    }
   ],
   "source": [
    "tst_idx[1][0]"
   ]
  },
  {
   "cell_type": "code",
   "execution_count": 257,
   "metadata": {},
   "outputs": [
    {
     "data": {
      "text/html": [
       "<div>\n",
       "<style scoped>\n",
       "    .dataframe tbody tr th:only-of-type {\n",
       "        vertical-align: middle;\n",
       "    }\n",
       "\n",
       "    .dataframe tbody tr th {\n",
       "        vertical-align: top;\n",
       "    }\n",
       "\n",
       "    .dataframe thead th {\n",
       "        text-align: right;\n",
       "    }\n",
       "</style>\n",
       "<table border=\"1\" class=\"dataframe\">\n",
       "  <thead>\n",
       "    <tr style=\"text-align: right;\">\n",
       "      <th></th>\n",
       "      <th>halo_id</th>\n",
       "      <th>core_id</th>\n",
       "      <th>descendant_id</th>\n",
       "      <th>descendant_idx</th>\n",
       "      <th>snap_num</th>\n",
       "      <th>scale_factor</th>\n",
       "      <th>mass</th>\n",
       "      <th>pos_x</th>\n",
       "      <th>pos_y</th>\n",
       "      <th>pos_z</th>\n",
       "      <th>vel_x</th>\n",
       "      <th>vel_y</th>\n",
       "      <th>vel_z</th>\n",
       "      <th>vel_disp</th>\n",
       "      <th>vmax</th>\n",
       "    </tr>\n",
       "  </thead>\n",
       "  <tbody>\n",
       "    <tr>\n",
       "      <th>6212633</th>\n",
       "      <td>6212633</td>\n",
       "      <td>378302879800230312</td>\n",
       "      <td>-1</td>\n",
       "      <td>-1</td>\n",
       "      <td>99</td>\n",
       "      <td>0.0</td>\n",
       "      <td>370.53595</td>\n",
       "      <td>230.123062</td>\n",
       "      <td>81.656616</td>\n",
       "      <td>209.772369</td>\n",
       "      <td>-686.837158</td>\n",
       "      <td>123.222313</td>\n",
       "      <td>321.681183</td>\n",
       "      <td>67.675171</td>\n",
       "      <td>182.241776</td>\n",
       "    </tr>\n",
       "  </tbody>\n",
       "</table>\n",
       "</div>"
      ],
      "text/plain": [
       "         halo_id             core_id  descendant_id  descendant_idx  snap_num  \\\n",
       "6212633  6212633  378302879800230312             -1              -1        99   \n",
       "\n",
       "         scale_factor       mass       pos_x      pos_y       pos_z  \\\n",
       "6212633           0.0  370.53595  230.123062  81.656616  209.772369   \n",
       "\n",
       "              vel_x       vel_y       vel_z   vel_disp        vmax  \n",
       "6212633 -686.837158  123.222313  321.681183  67.675171  182.241776  "
      ]
     },
     "execution_count": 257,
     "metadata": {},
     "output_type": "execute_result"
    }
   ],
   "source": [
    "forest_table.loc[forest_table.halo_id == 6212633]"
   ]
  },
  {
   "cell_type": "markdown",
   "metadata": {},
   "source": [
    "Right number of halos in this list?"
   ]
  },
  {
   "cell_type": "code",
   "execution_count": 251,
   "metadata": {},
   "outputs": [
    {
     "data": {
      "text/plain": [
       "3082"
      ]
     },
     "execution_count": 251,
     "metadata": {},
     "output_type": "execute_result"
    }
   ],
   "source": [
    "counts = sum([sum([len(tst[i][j]) for j in range(len(tst[i]))]) for i in range(len(tst))])\n",
    "counts"
   ]
  },
  {
   "cell_type": "code",
   "execution_count": 326,
   "metadata": {},
   "outputs": [
    {
     "data": {
      "text/plain": [
       "[[[2134844.0, 5959611.0, 5111932.0], [1458395.0, 1169334.0, 2811716.0]]]"
      ]
     },
     "execution_count": 326,
     "metadata": {},
     "output_type": "execute_result"
    }
   ],
   "source": [
    "binned_LMM_list"
   ]
  },
  {
   "cell_type": "markdown",
   "metadata": {},
   "source": [
    "#### Old Stuff"
   ]
  },
  {
   "cell_type": "code",
   "execution_count": null,
   "metadata": {},
   "outputs": [],
   "source": [
    "group = groupby(forest_table['core_id'])"
   ]
  },
  {
   "cell_type": "code",
   "execution_count": null,
   "metadata": {},
   "outputs": [],
   "source": [
    "data = np.sort(forest_table['core_id'])\n",
    "hist_keys = [key for key, group in groupby(data)] # Redshift values\n",
    "hist_values = [len(list(group)) for key, group in groupby(data)]\n",
    "fig, ax = plt.subplots()\n",
    "ax.plot(hist_keys, hist_values)"
   ]
  },
  {
   "cell_type": "markdown",
   "metadata": {},
   "source": [
    "All that tells me that core_ids are repeated -- I can use them to associate halo_id's with their root halo :)"
   ]
  },
  {
   "cell_type": "code",
   "execution_count": null,
   "metadata": {},
   "outputs": [],
   "source": [
    "forest_table['snap_num'][np.array(forest_table['core_id'] == 189151665385897997)]"
   ]
  }
 ],
 "metadata": {
  "kernelspec": {
   "display_name": "Python 3",
   "language": "python",
   "name": "python3"
  },
  "language_info": {
   "codemirror_mode": {
    "name": "ipython",
    "version": 3
   },
   "file_extension": ".py",
   "mimetype": "text/x-python",
   "name": "python",
   "nbconvert_exporter": "python",
   "pygments_lexer": "ipython3",
   "version": "3.8.3"
  }
 },
 "nbformat": 4,
 "nbformat_minor": 4
}
