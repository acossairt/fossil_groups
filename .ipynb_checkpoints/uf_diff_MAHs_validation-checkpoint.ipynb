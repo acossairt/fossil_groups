{
 "cells": [
  {
   "cell_type": "markdown",
   "metadata": {},
   "source": [
    "# Diffmah Validation\n",
    "Run Andrew's diffmah model on halos from LJ to explore the smooth mass accretion history of different types of halos (fossils, non-fossils, rugs, etc.) Check whether diffmah provides a good fit to this sample"
   ]
  },
  {
   "cell_type": "code",
   "execution_count": 62,
   "metadata": {},
   "outputs": [
    {
     "name": "stdout",
     "output_type": "stream",
     "text": [
      "The line_profiler extension is already loaded. To reload it, use:\n",
      "  %reload_ext line_profiler\n"
     ]
    }
   ],
   "source": [
    "import copy\n",
    "import h5py\n",
    "import pickle\n",
    "import numba\n",
    "import numpy as np\n",
    "import pandas as pd\n",
    "import seaborn as sns\n",
    "import haccytrees.mergertrees\n",
    "import matplotlib.pyplot as plt\n",
    "from matplotlib.pyplot import cm\n",
    "from matplotlib.lines import Line2D\n",
    "import matplotlib.colors as mcolors\n",
    "import matplotlib.patches as mpatches\n",
    "from astropy.cosmology import FlatLambdaCDM, z_at_value\n",
    "import astropy.units as u\n",
    "from itertools import groupby\n",
    "from matplotlib.ticker import ScalarFormatter\n",
    "\n",
    "from diffmah.diffmah.load_mah_data import load_tng_data, TASSO\n",
    "from diffmah.diffmah.fit_mah_helpers import get_loss_data\n",
    "from diffmah.diffmah.fit_mah_helpers import log_mah_mse_loss_and_grads\n",
    "from diffmah.diffmah.utils import jax_adam_wrapper\n",
    "from diffmah.diffmah.individual_halo_assembly import _calc_halo_history\n",
    "from diffmah.diffmah.individual_halo_assembly import _get_early_late\n",
    "\n",
    "# chronological order (changed on 7/6)\n",
    "redshifts = np.array([10.044, 9.8065, 9.5789, 9.3608, 9.1515, 8.7573, 8.5714, 8.3925, 8.0541, 7.8938, 7.7391, 7.4454, 7.3058, 7.04, 6.9134, 6.6718, 6.5564, 6.3358, 6.1277, 6.028, 5.8367, 5.6556, 5.4839, 5.3208, 5.2422, 5.0909, 4.9467, 4.7429, 4.6145, 4.4918, 4.3743, 4.2618, 4.1015, 4.00, 3.8551, 3.763, 3.6313, 3.5475, 3.4273, 3.3133, 3.205, 3.102, 3.0361, 2.9412, 2.8506, 2.7361, 2.6545, 2.5765, 2.4775, 2.4068, 2.3168, 2.2524, 2.1703, 2.0923, 2.018, 1.9472, 1.8797, 1.7994, 1.7384, 1.68, 1.6104, 1.5443, 1.4938, 1.4334, 1.3759, 1.321, 1.2584, 1.2088, 1.152, 1.1069, 1.0552, 1.006, 0.9591, 0.9143, 0.8646, 0.824, 0.7788, 0.7358, 0.6948, 0.6557, 0.6184, 0.5777, 0.5391, 0.5022, 0.4714, 0.4337, 0.4017, 0.3636, 0.3347, 0.3035, 0.2705, 0.2423, 0.2123, 0.1837, 0.1538, 0.1279, 0.1008, 0.0749, 0.0502, 0.0245, 0.00])\n",
    "\n",
    "%load_ext line_profiler\n",
    "%reload_ext autoreload\n",
    "%autoreload 1\n",
    "%aimport help_func_haccytrees\n",
    "plt.rc('figure', facecolor='w')"
   ]
  },
  {
   "cell_type": "markdown",
   "metadata": {},
   "source": [
    "### Check redshifts vs. cosmic time values"
   ]
  },
  {
   "cell_type": "code",
   "execution_count": 63,
   "metadata": {},
   "outputs": [
    {
     "data": {
      "text/plain": [
       "<matplotlib.legend.Legend at 0x7fe69c5e5410>"
      ]
     },
     "execution_count": 63,
     "metadata": {},
     "output_type": "execute_result"
    },
    {
     "data": {
      "image/png": "[encoded data removed]",
      "text/plain": [
       "<Figure size 432x288 with 1 Axes>"
      ]
     },
     "metadata": {},
     "output_type": "display_data"
    }
   ],
   "source": [
    "import diffmah\n",
    "simulation = haccytrees.Simulation.simulations['LastJourney'] # read in a chunk of simulation\n",
    "sim_cosmic_times = simulation.cosmo.lookback_time(1e-10) - simulation.step2lookback(np.array(simulation.cosmotools_steps))\n",
    "\n",
    "cosmo = FlatLambdaCDM(H0=67.77, Om0=0.31)\n",
    "astro_cosmic_times = cosmo.age(redshifts).value\n",
    "fig, ax = plt.subplots()\n",
    "ax.plot(redshifts, astro_cosmic_times, c = \"k\", label = \"astropy\") # cosmic time vs timesteps\n",
    "ax.plot(redshifts, sim_cosmic_times, c = \"red\", label = \"haccytrees\")\n",
    "ax.set_ylabel(\"cosmic times\")\n",
    "ax.set_xlabel(\"redshifts\")\n",
    "ax.legend()\n",
    "\n",
    "# Not sure which version to use? Right now I am using astropy"
   ]
  },
  {
   "cell_type": "markdown",
   "metadata": {},
   "source": [
    "## Load halos and my sample (from pickle jar)"
   ]
  },
  {
   "cell_type": "code",
   "execution_count": 64,
   "metadata": {},
   "outputs": [
    {
     "name": "stdout",
     "output_type": "stream",
     "text": [
      "CPU times: user 6.61 s, sys: 7.36 s, total: 14 s\n",
      "Wall time: 14 s\n"
     ]
    }
   ],
   "source": [
    "%%time\n",
    "forest, progenitor_array = haccytrees.mergertrees.read_forest(\n",
    "    '/data/a/cpac/mbuehlmann/LastJourney/forest/target_forest_aurora.hdf5',\n",
    "    'LastJourney', nchunks=1, chunknum=0, mass_threshold = 2.7*10**11,\n",
    "    include_fields = [\"tree_node_mass\", \"snapnum\", \"fof_halo_tag\", \"sod_halo_cdelta\", \"fof_halo_center_x\", \"fof_halo_center_y\", \"fof_halo_center_z\", \"xoff_fof\"]\n",
    ")"
   ]
  },
  {
   "cell_type": "code",
   "execution_count": 65,
   "metadata": {},
   "outputs": [
    {
     "name": "stdout",
     "output_type": "stream",
     "text": [
      "CPU times: user 24.9 s, sys: 49.9 s, total: 1min 14s\n",
      "Wall time: 1min 14s\n"
     ]
    }
   ],
   "source": [
    "%%time\n",
    "fg_forest, fg_progenitor_array = haccytrees.mergertrees.read_forest(\n",
    "    \"/data/a/cpac/mbuehlmann/LastJourney/forest/fg_forest.hdf5\",\n",
    "    'LastJourney'\n",
    ")"
   ]
  },
  {
   "cell_type": "code",
   "execution_count": 66,
   "metadata": {},
   "outputs": [],
   "source": [
    "rs_subset = pickle.load(open( \"save_rs_subset.p\", \"rb\" ))\n",
    "fg_subset = pickle.load(open( \"save_fg_subset.p\", \"rb\" ))\n",
    "qh_subset = pickle.load(open( \"save_qh_subset.p\", \"rb\" ))"
   ]
  },
  {
   "cell_type": "code",
   "execution_count": 67,
   "metadata": {},
   "outputs": [],
   "source": [
    "pickled_rs_params = pickle.load( open( \"save_new_rs_list.p\", \"rb\" ))\n",
    "pickled_fg_params = pickle.load( open( \"save_new_fg_list.p\", \"rb\" ))\n",
    "pickled_qh_params = pickle.load( open( \"save_new_qh_list.p\", \"rb\" ))"
   ]
  },
  {
   "cell_type": "markdown",
   "metadata": {},
   "source": [
    "### Helper Function"
   ]
  },
  {
   "cell_type": "code",
   "execution_count": 80,
   "metadata": {},
   "outputs": [],
   "source": [
    "# Calculate their parameters\n",
    "# For use with a single halo at a time\n",
    "def fit_halo(data, forest, use_halo_id = True, lgm_min = np.log10(100*simulation.particle_mass)): #, non_fg_rugs_mrich): # mainbranch_peakmass, size, cosmic_time, min_mass, rs_fg_qh\n",
    "    \"\"\"\n",
    "    Parameters\n",
    "    ----------\n",
    "    data: either a set of halo ids (if use_halo_id = True) or the mainbranch_masses of the target halos\n",
    "    forest: relevant forest of halo trees (i.e. target_forest or fg_forest)\n",
    "    lgm_min: see get_loss_data() documentation in fit_mah_helpers.py\n",
    "    \n",
    "    Returns\n",
    "    -------\n",
    "    logt_target: ndarray of shape (nt_fit, )\n",
    "        Base-10 log of times at which the halo reaches the target masses\n",
    "        \n",
    "    log_mah_target: ndarray of shape (nt_fit, )\n",
    "        Base-10 log of target halo mass # Not sure how exactly this is different from log_mah_fit?\n",
    "        \n",
    "    lgtarr: ndarray of shape (nt_fit, )\n",
    "        Base-10 log of cosmic times of each simulated snapshot in Gyr \n",
    "        (this is what is plotted on the x-axis for \"diffmah fits\")\n",
    "        \n",
    "    log_mah_fit: ndarray of shape (n_halos, n_times)\n",
    "        Base-10 log of cumulative peak halo mass in units of Msun assuming h=1 \n",
    "        (this is what is plotted on the y-axis for \"diffmah fit\")\n",
    "        \n",
    "    logtc: float\n",
    "        Base-10 log of transition time (one of the best fit parameters)\n",
    "    \"\"\"\n",
    "    \n",
    "    # calculate cosmic times associated with our snapshots (which are in redshifts)\n",
    "    cosmo = FlatLambdaCDM(H0=67.77, Om0=0.31)\n",
    "    cosmic_times = cosmo.age(redshifts).value\n",
    "    # old way, doesn't include radiation period I guess?\n",
    "    #t_tng = simulation.cosmo.lookback_time(1e-10) - simulation.step2lookback(np.array(simulation.cosmotools_steps))\n",
    "    \n",
    "    if use_halo_id: # Go find the masses yourself\n",
    "        halo_ids = data\n",
    "        mainbranch_index, mainbranch_masses = np.array(help_func_haccytrees.get_branches(halo_ids, forest))\n",
    "        mainbranch_masses = mainbranch_masses[0]\n",
    "    else: # just feed in the masses (if you already know them) | make sure they are not log!\n",
    "        mainbranch_masses = np.array(data)\n",
    "        \n",
    "    # Find peakmasses\n",
    "    mainbranch_peakmass = np.maximum.accumulate(mainbranch_masses, axis=0)\n",
    "    mainbranch_peakmass = np.log10(mainbranch_peakmass)\n",
    "    mainbranch_peakmass[~np.isfinite(mainbranch_peakmass)] = 0\n",
    "    \n",
    "    # Mask first (at least for time)\n",
    "    logmah_fit_sub = copy.deepcopy(log_mah_fit_arr)\n",
    "    times_mask = cosmic_times < T_FIT_MIN\n",
    "    logmah_fit_sub[:, times_mask] = np.nan\n",
    "    \n",
    "    # Fit diffmah to these halos\n",
    "    p_init, loss_data = get_loss_data(cosmic_times, mainbranch_peakmass, lgm_min)\n",
    "    # used to use t_tng instead of cosmic_times\n",
    "    n_step = 150\n",
    "    _res = jax_adam_wrapper(log_mah_mse_loss_and_grads, p_init, loss_data, n_step, n_warmup=1)\n",
    "    p_best, loss, loss_arr, params_arr, fit_terminates = _res\n",
    "    logtc, ue, ul = p_best\n",
    "    logt_target, log_mah_target, logt0, k, logmp_fit = loss_data\n",
    "    early, late = _get_early_late(ue, ul)\n",
    "    lgtarr = np.log10(cosmic_times)\n",
    "    dmhdt_fit, log_mah_fit = _calc_halo_history(lgtarr, lgtarr[-1], logmp_fit, logtc, k, early, late)\n",
    "    \n",
    "    # OLD VERSION\n",
    "    # mask out\n",
    "    #T_FIT_MIN = 1.0\n",
    "    #DLOGM_CUT = 2.5\n",
    "    #logmah_fit_sub = copy.deepcopy(log_mah_fit)\n",
    "    #print((cosmic_times < T_FIT_MIN)[cosmic_times < T_FIT_MIN].shape)\n",
    "    #logmah_fit_sub[cosmic_times < T_FIT_MIN] = np.nan\n",
    "    #logmah_fit_sub[:, cosmic_times < T_FIT_MIN] = np.nan\n",
    "    #logmah_fit_sub[logmah_fit_sub < logmah_fit_sub[:,[-1]] - DLOGM_CUT] = np.nan\n",
    "    #avg = np.nanmean(logmah_fit_sub,axis=0)\n",
    "    #std = np.nanstd(logmah_fit_sub,axis=0,ddof=1)\n",
    "    return logt_target, log_mah_target, lgtarr, log_mah_fit, logtc#, logmah_fit_sub"
   ]
  },
  {
   "cell_type": "code",
   "execution_count": 104,
   "metadata": {},
   "outputs": [],
   "source": [
    "def mask_fits(log_mah_fit_arr, T_FIT_MIN = 1.0, DLOGM_CUT = 2.5):\n",
    "    \"\"\"\n",
    "    Parameters\n",
    "    ----------\n",
    "    log_mah_fit_arr: ndarray of shape (nhalos, nsnapshots)\n",
    "    \"\"\"\n",
    "    cosmo = FlatLambdaCDM(H0=67.77, Om0=0.31)\n",
    "    cosmic_times = cosmo.age(redshifts).value\n",
    "    logmah_fit_sub = copy.deepcopy(log_mah_fit_arr)\n",
    "    times_mask = cosmic_times < T_FIT_MIN\n",
    "    logmah_fit_sub[:, times_mask] = np.nan\n",
    "    print(len((logmah_fit_sub < logmah_fit_sub[:,[-1]] - DLOGM_CUT)[logmah_fit_sub < logmah_fit_sub[:,[-1]] - DLOGM_CUT]))\n",
    "    logmah_fit_sub[logmah_fit_sub < logmah_fit_sub[:,[-1]] - DLOGM_CUT] = np.nan\n",
    "    avg = np.nanmean(logmah_fit_sub,axis=0)\n",
    "    std = np.nanstd(logmah_fit_sub,axis=0,ddof=1)\n",
    "    return logmah_fit_sub"
   ]
  },
  {
   "cell_type": "markdown",
   "metadata": {},
   "source": [
    "### diffmah of average vs average of diffmah"
   ]
  },
  {
   "cell_type": "code",
   "execution_count": 106,
   "metadata": {},
   "outputs": [
    {
     "name": "stderr",
     "output_type": "stream",
     "text": [
      "/home/acossairt/miniconda3/envs/fossil_groups_env/lib/python3.7/site-packages/ipykernel_launcher.py:12: RuntimeWarning: divide by zero encountered in log10\n",
      "  if sys.path[0] == '':\n",
      "/home/acossairt/miniconda3/envs/fossil_groups_env/lib/python3.7/site-packages/ipykernel_launcher.py:40: RuntimeWarning: divide by zero encountered in log10\n"
     ]
    },
    {
     "name": "stdout",
     "output_type": "stream",
     "text": [
      "diffmah of avg\n",
      "0\n",
      "avg of diffmah\n"
     ]
    },
    {
     "name": "stderr",
     "output_type": "stream",
     "text": [
      "/home/acossairt/miniconda3/envs/fossil_groups_env/lib/python3.7/site-packages/ipykernel_launcher.py:14: RuntimeWarning: Mean of empty slice\n",
      "  \n",
      "/home/acossairt/miniconda3/envs/fossil_groups_env/lib/python3.7/site-packages/numpy/lib/nanfunctions.py:1665: RuntimeWarning: Degrees of freedom <= 0 for slice.\n",
      "  keepdims=keepdims)\n",
      "/home/acossairt/miniconda3/envs/fossil_groups_env/lib/python3.7/site-packages/ipykernel_launcher.py:40: RuntimeWarning: divide by zero encountered in log10\n"
     ]
    },
    {
     "name": "stdout",
     "output_type": "stream",
     "text": [
      "13\n",
      "diffmah of avg\n"
     ]
    },
    {
     "name": "stderr",
     "output_type": "stream",
     "text": [
      "/home/acossairt/miniconda3/envs/fossil_groups_env/lib/python3.7/site-packages/ipykernel_launcher.py:14: RuntimeWarning: Mean of empty slice\n",
      "  \n",
      "/home/acossairt/miniconda3/envs/fossil_groups_env/lib/python3.7/site-packages/numpy/lib/nanfunctions.py:1665: RuntimeWarning: Degrees of freedom <= 0 for slice.\n",
      "  keepdims=keepdims)\n"
     ]
    },
    {
     "name": "stdout",
     "output_type": "stream",
     "text": [
      "0\n",
      "avg of diffmah\n"
     ]
    },
    {
     "name": "stderr",
     "output_type": "stream",
     "text": [
      "/home/acossairt/miniconda3/envs/fossil_groups_env/lib/python3.7/site-packages/ipykernel_launcher.py:14: RuntimeWarning: Mean of empty slice\n",
      "  \n",
      "/home/acossairt/miniconda3/envs/fossil_groups_env/lib/python3.7/site-packages/numpy/lib/nanfunctions.py:1665: RuntimeWarning: Degrees of freedom <= 0 for slice.\n",
      "  keepdims=keepdims)\n",
      "/home/acossairt/miniconda3/envs/fossil_groups_env/lib/python3.7/site-packages/ipykernel_launcher.py:40: RuntimeWarning: divide by zero encountered in log10\n"
     ]
    },
    {
     "name": "stdout",
     "output_type": "stream",
     "text": [
      "5\n",
      "diffmah of avg\n"
     ]
    },
    {
     "name": "stderr",
     "output_type": "stream",
     "text": [
      "/home/acossairt/miniconda3/envs/fossil_groups_env/lib/python3.7/site-packages/ipykernel_launcher.py:14: RuntimeWarning: Mean of empty slice\n",
      "  \n",
      "/home/acossairt/miniconda3/envs/fossil_groups_env/lib/python3.7/site-packages/numpy/lib/nanfunctions.py:1665: RuntimeWarning: Degrees of freedom <= 0 for slice.\n",
      "  keepdims=keepdims)\n"
     ]
    },
    {
     "name": "stdout",
     "output_type": "stream",
     "text": [
      "0\n",
      "avg of diffmah\n"
     ]
    },
    {
     "name": "stderr",
     "output_type": "stream",
     "text": [
      "/home/acossairt/miniconda3/envs/fossil_groups_env/lib/python3.7/site-packages/ipykernel_launcher.py:14: RuntimeWarning: Mean of empty slice\n",
      "  \n",
      "/home/acossairt/miniconda3/envs/fossil_groups_env/lib/python3.7/site-packages/numpy/lib/nanfunctions.py:1665: RuntimeWarning: Degrees of freedom <= 0 for slice.\n",
      "  keepdims=keepdims)\n",
      "/home/acossairt/miniconda3/envs/fossil_groups_env/lib/python3.7/site-packages/ipykernel_launcher.py:40: RuntimeWarning: divide by zero encountered in log10\n"
     ]
    },
    {
     "name": "stdout",
     "output_type": "stream",
     "text": [
      "0\n"
     ]
    },
    {
     "name": "stderr",
     "output_type": "stream",
     "text": [
      "/home/acossairt/miniconda3/envs/fossil_groups_env/lib/python3.7/site-packages/ipykernel_launcher.py:14: RuntimeWarning: Mean of empty slice\n",
      "  \n",
      "/home/acossairt/miniconda3/envs/fossil_groups_env/lib/python3.7/site-packages/numpy/lib/nanfunctions.py:1665: RuntimeWarning: Degrees of freedom <= 0 for slice.\n",
      "  keepdims=keepdims)\n"
     ]
    },
    {
     "data": {
      "image/png": "[encoded data removed]",
      "text/plain": [
       "<Figure size 432x288 with 1 Axes>"
      ]
     },
     "metadata": {},
     "output_type": "display_data"
    }
   ],
   "source": [
    "# find average mass evol history in each category\n",
    "#colors = [plt.cm.tab10(i) for i in range(n)]\n",
    "color_labels = [\"all halos\", \"FG candidates\", \"QH candidates\"]\n",
    "colors = [\"#E66100\", \"#5D3A9B\", \"#00805D\"]\n",
    "\n",
    "fig, ax = plt.subplots(1, 1)\n",
    "for i, (this_subset, this_forest) in enumerate(zip([rs_subset, fg_subset, qh_subset], [forest, fg_forest, fg_forest])):\n",
    "#for i, (this_subset, this_forest) in enumerate(zip([qh_subset], [fg_forest])):\n",
    "    # Avg M(z)\n",
    "    mainbranch_index, mainbranch_masses = help_func_haccytrees.get_branches(this_subset, this_forest)\n",
    "    avg_mainbranch_masses = np.average(mainbranch_masses, axis = 0)\n",
    "    ax.plot(redshifts, np.log10(avg_mainbranch_masses), color = colors[i], label = \"avg M(z): \" + color_labels[i])\n",
    "    \n",
    "    # diffmah of avg M(z)\n",
    "    print(\"diffmah of avg\")\n",
    "    logt_target, log_mah_target, lgtarr, log_mah_fit, logtc = fit_halo(np.array(avg_mainbranch_masses), this_forest, use_halo_id = False)\n",
    "    log_mah_fit_sub = mask_fits(np.array([log_mah_fit]))[0]\n",
    "    ax.plot(redshifts, log_mah_fit_sub, linestyle = \"-.\", color = colors[i], label = \"diffmah of avg: \" + color_labels[i]) # diffmah fit\n",
    "    # tau_c of diffmah of avg M(z)\n",
    "    tc = z_at_value(cosmo.age, 10**logtc * u.Gyr)\n",
    "    ax.axvline(tc, color = colors[i], linestyle = \"-.\")\n",
    "    \n",
    "    # avg of diffmah fits\n",
    "    print(\"avg of diffmah\")\n",
    "    log_mah_fit_lst = []\n",
    "    logtc_lst = []\n",
    "    for this_halo in this_subset[0:10]:\n",
    "        logt_target, log_mah_target, lgtarr, log_mah_fit, logtc = fit_halo(this_halo, this_forest, use_halo_id = True)\n",
    "        log_mah_fit_lst.append(log_mah_fit)\n",
    "        logtc_lst.append(logtc)\n",
    "    log_mah_fit_sub = mask_fits(np.array(log_mah_fit_lst))\n",
    "    avg_log_mah_fit = np.average(np.array(log_mah_fit_sub), axis = 0)\n",
    "    ax.plot(redshifts, avg_log_mah_fit, color = colors[i], label = \"avg of diffmah: \" + color_labels[i], linestyle = \":\") # diffmah fit\n",
    "    # tau_c of avg of diffmah fits\n",
    "    log_tau_c_cosmic_time = np.average(logtc_lst)\n",
    "    tau_c = z_at_value(cosmo.age, 10**log_tau_c_cosmic_time * u.Gyr)\n",
    "    ax.axvline(tau_c, color = colors[i], linestyle = \":\")\n",
    "    \n",
    "ax.set_ylim(bottom = 10)\n",
    "ax.legend(loc = \"upper right\")\n",
    "ax.set_title(\"diffmah of average and average of diffmah\")\n",
    "fig.savefig(\"diffmah_checks/various_diffmahs_0712.png\")"
   ]
  }
 ],
 "metadata": {
  "kernelspec": {
   "display_name": "fossil_groups_env",
   "language": "python",
   "name": "fossil_groups_env"
  },
  "language_info": {
   "codemirror_mode": {
    "name": "ipython",
    "version": 3
   },
   "file_extension": ".py",
   "mimetype": "text/x-python",
   "name": "python",
   "nbconvert_exporter": "python",
   "pygments_lexer": "ipython3",
   "version": "3.7.9"
  }
 },
 "nbformat": 4,
 "nbformat_minor": 4
}
