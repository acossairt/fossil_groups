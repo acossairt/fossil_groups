{
 "cells": [
  {
   "cell_type": "markdown",
   "id": "massive-combining",
   "metadata": {},
   "source": [
    "# Full Stats, Haccytrees, Abundances\n",
    "This notebook will be like a combination of Haccytrees.ipynb and LJ-Full_Fossil_Groups.ipynb. After this one is finished, those notebooks may be cleaned up or deleted"
   ]
  },
  {
   "cell_type": "markdown",
   "id": "destroyed-fitting",
   "metadata": {},
   "source": [
    "## Set Up"
   ]
  },
  {
   "cell_type": "code",
   "execution_count": 2,
   "id": "broke-shark",
   "metadata": {},
   "outputs": [
    {
     "name": "stdout",
     "output_type": "stream",
     "text": [
      "pyfftw not available, using numpy fft\n"
     ]
    }
   ],
   "source": [
    "import haccytrees.mergertrees\n",
    "import h5py\n",
    "import numpy as np\n",
    "import numba\n",
    "import scipy\n",
    "import seaborn as sns\n",
    "import matplotlib.pyplot as plt\n",
    "from matplotlib.pyplot import cm\n",
    "from matplotlib.lines import Line2D\n",
    "import matplotlib.colors as mcolors\n",
    "import matplotlib.patches as mpatches\n",
    "import pandas as pd\n",
    "from astropy.cosmology import FlatLambdaCDM\n",
    "import astropy.units as u\n",
    "from itertools import groupby\n",
    "from matplotlib.ticker import ScalarFormatter\n",
    "%load_ext line_profiler\n",
    "%reload_ext autoreload\n",
    "%autoreload 1\n",
    "%aimport help_func_haccytrees\n",
    "\n",
    "plt.rcParams.update({\n",
    "    \"text.usetex\": True,\n",
    "    'font.size': 13,\n",
    "    \"figure.figsize\": (5.25, 3.5),#(6.25, 4.25), #(6.25, 3.75)\n",
    "    \"patch.linewidth\": 1\n",
    "})"
   ]
  },
  {
   "cell_type": "code",
   "execution_count": null,
   "id": "gross-process",
   "metadata": {},
   "outputs": [],
   "source": [
    "%%time\n",
    "forest, progenitor_array = haccytrees.mergertrees.read_forest(\n",
    "    '/data/a/cpac/mbuehlmann/LastJourney/forest/target_forest_aurora.hdf5',\n",
    "    'LastJourney', nchunks=1, chunknum=0, mass_threshold = 2.7*10**11,\n",
    ")"
   ]
  },
  {
   "cell_type": "code",
   "execution_count": null,
   "id": "signed-spain",
   "metadata": {},
   "outputs": [],
   "source": [
    "%%time\n",
    "fg_forest_lm5, fg_progenitor_array_lm5 = haccytrees.mergertrees.read_forest(\n",
    "    \"/data/a/cpac/mbuehlmann/LastJourney/forest/fg_forest.hdf5\",\n",
    "    'LastJourney',\n",
    "    mass_threshold=5e11\n",
    ")"
   ]
  },
  {
   "cell_type": "markdown",
   "id": "quality-despite",
   "metadata": {},
   "source": [
    "## Create masks (for narrow mass bins)"
   ]
  },
  {
   "cell_type": "code",
   "execution_count": null,
   "id": "allied-truck",
   "metadata": {},
   "outputs": [],
   "source": [
    "halo_masks = help_func_haccytrees.make_masks(forest)\n",
    "fg_masks_lm5 = help_func_haccytrees.make_masks(fg_forest_lm5)"
   ]
  },
  {
   "cell_type": "markdown",
   "id": "expired-genealogy",
   "metadata": {},
   "source": [
    "## Substructure stats"
   ]
  },
  {
   "cell_type": "code",
   "execution_count": 30,
   "id": "valuable-mortgage",
   "metadata": {},
   "outputs": [],
   "source": [
    "forest, progenitor_array = haccytrees.mergertrees.read_forest(\n",
    "    '/data/a/cpac/mbuehlmann/LastJourney/forest/target_forest_aurora.hdf5',\n",
    "    'LastJourney', nchunks=1, chunknum=0, mass_threshold = 2.7*10**11,\n",
    "    include_fields = [\"tree_node_mass\", \"snapnum\", \"fof_halo_tag\", \"sod_halo_cdelta\", \"fof_halo_center_x\", \"fof_halo_center_y\", \"fof_halo_center_z\"]\n",
    ")"
   ]
  },
  {
   "cell_type": "code",
   "execution_count": 31,
   "id": "continental-telephone",
   "metadata": {},
   "outputs": [],
   "source": [
    "# Add columns \"fsubmax\" and \"fsubtot\" to my forests\n",
    "subhalo_data = haccytrees.mergertrees.create_submass_data(\n",
    "    forest,\n",
    "    'LastJourney',\n",
    "    mass_threshold=1e10,\n",
    "    compute_fsub_stats=True)\n",
    "\n",
    "fg_subhalo_data = haccytrees.mergertrees.create_submass_data(\n",
    "    fg_forest_lm5,\n",
    "    'LastJourney',\n",
    "    mass_threshold=1e10,\n",
    "    compute_fsub_stats=True)"
   ]
  },
  {
   "cell_type": "code",
   "execution_count": 33,
   "id": "comic-short",
   "metadata": {},
   "outputs": [],
   "source": [
    "full_halo_masks = help_func_haccytrees.make_masks(forest) # old ones were built on data"
   ]
  },
  {
   "cell_type": "code",
   "execution_count": 35,
   "id": "orange-spain",
   "metadata": {},
   "outputs": [
    {
     "name": "stdout",
     "output_type": "stream",
     "text": [
      "0 0\n",
      "269358\n",
      "fsubmax:  0.021441238  \\pm  6.266740489238504e-05\n",
      "fsubtot:  0.05058351  \\pm  0.00013128643561581535\n",
      "0 1\n",
      "36181\n",
      "fsubmax:  0.034970697  \\pm  0.00019054605435978237\n",
      "fsubtot:  0.087785505  \\pm  0.0004061289263832541\n",
      "0 2\n",
      "2454\n",
      "fsubmax:  0.049261373  \\pm  0.0009176684228133129\n",
      "fsubtot:  0.12952824  \\pm  0.0017769909000801445\n",
      "1 0\n",
      "269358\n",
      "fsubmax:  0.0030381705  \\pm  5.243849033110079e-06\n",
      "fsubtot:  0.00496545  \\pm  1.0086163010781129e-05\n",
      "1 1\n",
      "36181\n",
      "fsubmax:  0.003285462  \\pm  2.78423814909428e-05\n",
      "fsubtot:  0.008101042  \\pm  6.329417015924221e-05\n",
      "1 2\n",
      "2454\n",
      "fsubmax:  0.009164177  \\pm  0.00022960044541477697\n",
      "fsubtot:  0.021776568  \\pm  0.0004846684913295319\n"
     ]
    }
   ],
   "source": [
    "# Calculate average fsubstats for each population in each mass bin\n",
    "for i, (these_masks, this_forest) in enumerate(zip([full_halo_masks, fg_masks_lm5], [forest, fg_forest_lm5])): # loop over fossil status\n",
    "    for j, this_mask in enumerate(these_masks): # loop over mass bins\n",
    "        print(i, j)\n",
    "        fsubmax_lst = this_forest['fsubmax'][this_mask]\n",
    "        fsubtot_lst = this_forest['fsubtot'][this_mask]\n",
    "        avg_fsubmax = np.average(fsubmax_lst)\n",
    "        avg_fsubtot = np.average(fsubtot_lst)\n",
    "        std_fsubmax = np.std(fsubmax_lst)\n",
    "        std_fsubtot = np.std(fsubtot_lst)\n",
    "        se_fsubmax = std_fsubmax/np.sqrt(len(fsubmax_lst))\n",
    "        se_fsubtot = std_fsubtot/np.sqrt(len(fsubtot_lst))\n",
    "        print(len(fsubmax_lst))\n",
    "        print(\"fsubmax: \", avg_fsubmax, \" \\pm \", se_fsubmax)\n",
    "        print(\"fsubtot: \", avg_fsubtot, \" \\pm \", se_fsubtot)"
   ]
  },
  {
   "cell_type": "markdown",
   "id": "nuclear-complaint",
   "metadata": {},
   "source": [
    "## Side Quest: Halo radius"
   ]
  },
  {
   "cell_type": "code",
   "execution_count": 26,
   "id": "cheap-haiti",
   "metadata": {},
   "outputs": [
    {
     "name": "stdout",
     "output_type": "stream",
     "text": [
      "13.0 - 13.05\n",
      "Average halo:  0.3342302 +/- 4.0555591500348715e-05\n",
      "Average FG:    0.3470978 +/- 1.2823666379149224e-05\n",
      "13.3 - 13.35\n",
      "Average halo:  0.4194501 +/- 0.0001428139618961365\n",
      "Average FG:    0.43954965 +/- 3.833760134243303e-05\n",
      "13.6 - 13.65\n",
      "Average halo:  0.5250816 +/- 0.0007098247347622455\n",
      "Average FG:    0.5564692 +/- 0.00017027119214394133\n"
     ]
    }
   ],
   "source": [
    "bin_names = [\"13.0 - 13.05\", \"13.3 - 13.35\", \"13.6 - 13.65\"]\n",
    "for i, (this_halo_mask, this_fg_mask) in enumerate(zip(halo_masks, fg_masks_lm5)):\n",
    "    print(bin_names[i])\n",
    "    halo_radii = forest['sod_halo_radius'][this_halo_mask]\n",
    "    fg_radii = fg_forest_lm5['sod_halo_radius'][this_fg_mask]\n",
    "    avg_halo_r = np.average(halo_radii)\n",
    "    avg_fg_r = np.average(fg_radii)\n",
    "    se_halo_r = np.std(halo_radii)/np.sqrt(len(halo_radii))\n",
    "    se_fg_r = np.std(fg_radii)/np.sqrt(len(fg_radii))\n",
    "    print(\"Average halo: \", avg_halo_r, \"+/-\", se_halo_r)\n",
    "    print(\"Average FG:   \", avg_fg_r, \"+/-\", se_fg_r)"
   ]
  }
 ],
 "metadata": {
  "kernelspec": {
   "display_name": "fossil_groups_env",
   "language": "python",
   "name": "fossil_groups_env"
  },
  "language_info": {
   "codemirror_mode": {
    "name": "ipython",
    "version": 3
   },
   "file_extension": ".py",
   "mimetype": "text/x-python",
   "name": "python",
   "nbconvert_exporter": "python",
   "pygments_lexer": "ipython3",
   "version": "3.7.9"
  }
 },
 "nbformat": 4,
 "nbformat_minor": 5
}
