{
 "cells": [
  {
   "cell_type": "code",
   "execution_count": 1,
   "metadata": {},
   "outputs": [
    {
     "ename": "ModuleNotFoundError",
     "evalue": "No module named 'hdbscan'",
     "output_type": "error",
     "traceback": [
      "\u001b[0;31m---------------------------------------------------------------------------\u001b[0m",
      "\u001b[0;31mModuleNotFoundError\u001b[0m                       Traceback (most recent call last)",
      "\u001b[0;32m<ipython-input-1-30eb5c1a0c24>\u001b[0m in \u001b[0;36m<module>\u001b[0;34m\u001b[0m\n\u001b[1;32m      3\u001b[0m \u001b[0;31m#from sklearn import datasets\u001b[0m\u001b[0;34m\u001b[0m\u001b[0;34m\u001b[0m\u001b[0;34m\u001b[0m\u001b[0m\n\u001b[1;32m      4\u001b[0m \u001b[0;32mimport\u001b[0m \u001b[0mpandas\u001b[0m \u001b[0;32mas\u001b[0m \u001b[0mpd\u001b[0m\u001b[0;34m\u001b[0m\u001b[0;34m\u001b[0m\u001b[0m\n\u001b[0;32m----> 5\u001b[0;31m \u001b[0;32mimport\u001b[0m \u001b[0mhdbscan\u001b[0m\u001b[0;34m\u001b[0m\u001b[0;34m\u001b[0m\u001b[0m\n\u001b[0m\u001b[1;32m      6\u001b[0m \u001b[0;32mfrom\u001b[0m \u001b[0msklearn\u001b[0m\u001b[0;34m.\u001b[0m\u001b[0mmetrics\u001b[0m\u001b[0;34m.\u001b[0m\u001b[0mpairwise\u001b[0m \u001b[0;32mimport\u001b[0m \u001b[0mpairwise_distances\u001b[0m\u001b[0;34m\u001b[0m\u001b[0;34m\u001b[0m\u001b[0m\n",
      "\u001b[0;31mModuleNotFoundError\u001b[0m: No module named 'hdbscan'"
     ]
    }
   ],
   "source": [
    "#from sklearn.datasets import make_blobs\n",
    "import sklearn\n",
    "#from sklearn import datasets\n",
    "import pandas as pd\n",
    "import hdbscan\n",
    "from sklearn.metrics.pairwise import pairwise_distances"
   ]
  },
  {
   "cell_type": "code",
   "execution_count": 4,
   "metadata": {},
   "outputs": [],
   "source": [
    "blobs, labels = make_blobs(n_samples=2000, n_features=10)"
   ]
  },
  {
   "cell_type": "code",
   "execution_count": 5,
   "metadata": {},
   "outputs": [
    {
     "data": {
      "text/html": [
       "<div>\n",
       "<style scoped>\n",
       "    .dataframe tbody tr th:only-of-type {\n",
       "        vertical-align: middle;\n",
       "    }\n",
       "\n",
       "    .dataframe tbody tr th {\n",
       "        vertical-align: top;\n",
       "    }\n",
       "\n",
       "    .dataframe thead th {\n",
       "        text-align: right;\n",
       "    }\n",
       "</style>\n",
       "<table border=\"1\" class=\"dataframe\">\n",
       "  <thead>\n",
       "    <tr style=\"text-align: right;\">\n",
       "      <th></th>\n",
       "      <th>0</th>\n",
       "      <th>1</th>\n",
       "      <th>2</th>\n",
       "      <th>3</th>\n",
       "      <th>4</th>\n",
       "      <th>5</th>\n",
       "      <th>6</th>\n",
       "      <th>7</th>\n",
       "      <th>8</th>\n",
       "      <th>9</th>\n",
       "    </tr>\n",
       "  </thead>\n",
       "  <tbody>\n",
       "    <tr>\n",
       "      <th>0</th>\n",
       "      <td>-10.807931</td>\n",
       "      <td>-2.446742</td>\n",
       "      <td>-11.401247</td>\n",
       "      <td>1.797000</td>\n",
       "      <td>-3.477079</td>\n",
       "      <td>9.479254</td>\n",
       "      <td>-9.077018</td>\n",
       "      <td>7.708405</td>\n",
       "      <td>-7.227780</td>\n",
       "      <td>3.520091</td>\n",
       "    </tr>\n",
       "    <tr>\n",
       "      <th>1</th>\n",
       "      <td>-0.675137</td>\n",
       "      <td>6.920008</td>\n",
       "      <td>2.308576</td>\n",
       "      <td>-8.747453</td>\n",
       "      <td>-8.848974</td>\n",
       "      <td>-0.280547</td>\n",
       "      <td>-0.116597</td>\n",
       "      <td>0.743494</td>\n",
       "      <td>-2.058531</td>\n",
       "      <td>-5.395264</td>\n",
       "    </tr>\n",
       "    <tr>\n",
       "      <th>2</th>\n",
       "      <td>-9.855658</td>\n",
       "      <td>-5.053768</td>\n",
       "      <td>-9.062202</td>\n",
       "      <td>0.655059</td>\n",
       "      <td>-4.600378</td>\n",
       "      <td>9.887784</td>\n",
       "      <td>-8.832751</td>\n",
       "      <td>7.996190</td>\n",
       "      <td>-6.684465</td>\n",
       "      <td>5.621961</td>\n",
       "    </tr>\n",
       "    <tr>\n",
       "      <th>3</th>\n",
       "      <td>0.883775</td>\n",
       "      <td>7.349481</td>\n",
       "      <td>1.476402</td>\n",
       "      <td>-7.233395</td>\n",
       "      <td>-10.115445</td>\n",
       "      <td>-0.119886</td>\n",
       "      <td>1.574659</td>\n",
       "      <td>-1.757087</td>\n",
       "      <td>-3.825637</td>\n",
       "      <td>-5.660455</td>\n",
       "    </tr>\n",
       "    <tr>\n",
       "      <th>4</th>\n",
       "      <td>-3.262368</td>\n",
       "      <td>7.697598</td>\n",
       "      <td>1.756454</td>\n",
       "      <td>-7.867311</td>\n",
       "      <td>-8.003952</td>\n",
       "      <td>-3.877585</td>\n",
       "      <td>0.455541</td>\n",
       "      <td>-1.541832</td>\n",
       "      <td>-3.892890</td>\n",
       "      <td>-3.135267</td>\n",
       "    </tr>\n",
       "  </tbody>\n",
       "</table>\n",
       "</div>"
      ],
      "text/plain": [
       "           0         1          2         3          4         5         6  \\\n",
       "0 -10.807931 -2.446742 -11.401247  1.797000  -3.477079  9.479254 -9.077018   \n",
       "1  -0.675137  6.920008   2.308576 -8.747453  -8.848974 -0.280547 -0.116597   \n",
       "2  -9.855658 -5.053768  -9.062202  0.655059  -4.600378  9.887784 -8.832751   \n",
       "3   0.883775  7.349481   1.476402 -7.233395 -10.115445 -0.119886  1.574659   \n",
       "4  -3.262368  7.697598   1.756454 -7.867311  -8.003952 -3.877585  0.455541   \n",
       "\n",
       "          7         8         9  \n",
       "0  7.708405 -7.227780  3.520091  \n",
       "1  0.743494 -2.058531 -5.395264  \n",
       "2  7.996190 -6.684465  5.621961  \n",
       "3 -1.757087 -3.825637 -5.660455  \n",
       "4 -1.541832 -3.892890 -3.135267  "
      ]
     },
     "execution_count": 5,
     "metadata": {},
     "output_type": "execute_result"
    }
   ],
   "source": [
    "pd.DataFrame(blobs).head()"
   ]
  },
  {
   "cell_type": "code",
   "execution_count": 6,
   "metadata": {},
   "outputs": [
    {
     "data": {
      "text/plain": [
       "HDBSCAN()"
      ]
     },
     "execution_count": 6,
     "metadata": {},
     "output_type": "execute_result"
    }
   ],
   "source": [
    "clusterer = hdbscan.HDBSCAN()\n",
    "clusterer.fit(blobs)"
   ]
  },
  {
   "cell_type": "code",
   "execution_count": 8,
   "metadata": {},
   "outputs": [
    {
     "data": {
      "text/plain": [
       "array([1, 0, 1, ..., 0, 0, 2])"
      ]
     },
     "execution_count": 8,
     "metadata": {},
     "output_type": "execute_result"
    }
   ],
   "source": [
    "clusterer.labels_"
   ]
  },
  {
   "cell_type": "code",
   "execution_count": 9,
   "metadata": {},
   "outputs": [
    {
     "data": {
      "text/plain": [
       "2"
      ]
     },
     "execution_count": 9,
     "metadata": {},
     "output_type": "execute_result"
    }
   ],
   "source": [
    "clusterer.labels_.max()"
   ]
  },
  {
   "cell_type": "code",
   "execution_count": 10,
   "metadata": {},
   "outputs": [
    {
     "data": {
      "text/plain": [
       "array([0.63257427, 0.6995618 , 0.76618014, ..., 0.62857516, 0.80338188,\n",
       "       0.81747387])"
      ]
     },
     "execution_count": 10,
     "metadata": {},
     "output_type": "execute_result"
    }
   ],
   "source": [
    "clusterer.probabilities_"
   ]
  },
  {
   "cell_type": "markdown",
   "metadata": {},
   "source": [
    "Change up the metrics"
   ]
  },
  {
   "cell_type": "code",
   "execution_count": 11,
   "metadata": {},
   "outputs": [
    {
     "data": {
      "text/plain": [
       "array([2, 0, 2, ..., 0, 0, 1])"
      ]
     },
     "execution_count": 11,
     "metadata": {},
     "output_type": "execute_result"
    }
   ],
   "source": [
    "clusterer = hdbscan.HDBSCAN(metric='manhattan')\n",
    "clusterer.fit(blobs)\n",
    "clusterer.labels_"
   ]
  },
  {
   "cell_type": "code",
   "execution_count": 12,
   "metadata": {},
   "outputs": [
    {
     "data": {
      "text/plain": [
       "{'euclidean': hdbscan.dist_metrics.EuclideanDistance,\n",
       " 'l2': hdbscan.dist_metrics.EuclideanDistance,\n",
       " 'minkowski': hdbscan.dist_metrics.MinkowskiDistance,\n",
       " 'p': hdbscan.dist_metrics.MinkowskiDistance,\n",
       " 'manhattan': hdbscan.dist_metrics.ManhattanDistance,\n",
       " 'cityblock': hdbscan.dist_metrics.ManhattanDistance,\n",
       " 'l1': hdbscan.dist_metrics.ManhattanDistance,\n",
       " 'chebyshev': hdbscan.dist_metrics.ChebyshevDistance,\n",
       " 'infinity': hdbscan.dist_metrics.ChebyshevDistance,\n",
       " 'seuclidean': hdbscan.dist_metrics.SEuclideanDistance,\n",
       " 'mahalanobis': hdbscan.dist_metrics.MahalanobisDistance,\n",
       " 'wminkowski': hdbscan.dist_metrics.WMinkowskiDistance,\n",
       " 'hamming': hdbscan.dist_metrics.HammingDistance,\n",
       " 'canberra': hdbscan.dist_metrics.CanberraDistance,\n",
       " 'braycurtis': hdbscan.dist_metrics.BrayCurtisDistance,\n",
       " 'matching': hdbscan.dist_metrics.MatchingDistance,\n",
       " 'jaccard': hdbscan.dist_metrics.JaccardDistance,\n",
       " 'dice': hdbscan.dist_metrics.DiceDistance,\n",
       " 'kulsinski': hdbscan.dist_metrics.KulsinskiDistance,\n",
       " 'rogerstanimoto': hdbscan.dist_metrics.RogersTanimotoDistance,\n",
       " 'russellrao': hdbscan.dist_metrics.RussellRaoDistance,\n",
       " 'sokalmichener': hdbscan.dist_metrics.SokalMichenerDistance,\n",
       " 'sokalsneath': hdbscan.dist_metrics.SokalSneathDistance,\n",
       " 'haversine': hdbscan.dist_metrics.HaversineDistance,\n",
       " 'cosine': hdbscan.dist_metrics.ArccosDistance,\n",
       " 'arccos': hdbscan.dist_metrics.ArccosDistance,\n",
       " 'pyfunc': hdbscan.dist_metrics.PyFuncDistance}"
      ]
     },
     "execution_count": 12,
     "metadata": {},
     "output_type": "execute_result"
    }
   ],
   "source": [
    "hdbscan.dist_metrics.METRIC_MAPPING"
   ]
  },
  {
   "cell_type": "code",
   "execution_count": 14,
   "metadata": {},
   "outputs": [
    {
     "data": {
      "text/plain": [
       "array([1, 0, 1, ..., 0, 0, 2])"
      ]
     },
     "execution_count": 14,
     "metadata": {},
     "output_type": "execute_result"
    }
   ],
   "source": [
    "distance_matrix = pairwise_distances(blobs)\n",
    "clusterer = hdbscan.HDBSCAN(metric='precomputed')\n",
    "clusterer.fit(distance_matrix)\n",
    "clusterer.labels_"
   ]
  },
  {
   "cell_type": "markdown",
   "metadata": {},
   "source": [
    "### Michael's code (to play around with)"
   ]
  },
  {
   "cell_type": "code",
   "execution_count": null,
   "metadata": {},
   "outputs": [],
   "source": [
    "# something like this to get all positions of halos at z=0 and more than 1e12Msun/h:\n",
    "mask = forest['snapnum'] == 100\n",
    "mask &= forest['tree_node_mass'] > 1e12\n",
    "pos = np.array([forest[f'fof_halo_center_{x}'][mask] for x in \"xyz\"]).T"
   ]
  },
  {
   "cell_type": "code",
   "execution_count": null,
   "metadata": {},
   "outputs": [],
   "source": [
    "# then, for the default parameters:\n",
    "clusterer = hdbscan.HDBSCAN()\n",
    "clusterer.fit(pos)\n",
    "labels = clusterer.labels_\n",
    "score = clusterer.probabilities_"
   ]
  },
  {
   "cell_type": "code",
   "execution_count": null,
   "metadata": {},
   "outputs": [],
   "source": [
    "# and to plot (in 2d):\n",
    "fig, ax = plt.subplots(figsize=(8, 8))\n",
    "# mask of halos that are associated with a cluster\n",
    "mask = labels >= 0\n",
    "# randomize labels, normalize to [0, 1]\n",
    "color = np.random.permutation(np.max(labels)+1)[labels]/(np.max(labels))\n",
    "ax.scatter(pos[~mask, 0], pos[~mask, 1], c='black', s=1)\n",
    "ax.scatter(pos[mask, 0], pos[mask, 1], c=color[mask], alpha=0.1+0.9*score[mask]**10, s=10, cmap='jet)"
   ]
  }
 ],
 "metadata": {
  "kernelspec": {
   "display_name": "Python 3",
   "language": "python",
   "name": "python3"
  },
  "language_info": {
   "codemirror_mode": {
    "name": "ipython",
    "version": 3
   },
   "file_extension": ".py",
   "mimetype": "text/x-python",
   "name": "python",
   "nbconvert_exporter": "python",
   "pygments_lexer": "ipython3",
   "version": "3.8.3"
  }
 },
 "nbformat": 4,
 "nbformat_minor": 4
}
