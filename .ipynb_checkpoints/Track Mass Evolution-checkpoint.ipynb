{
 "cells": [
  {
   "cell_type": "code",
   "execution_count": 1,
   "metadata": {},
   "outputs": [],
   "source": [
    "import numpy as np\n",
    "import matplotlib.pyplot as plt\n",
    "from matplotlib.pyplot import cm\n",
    "import pandas as pd\n",
    "from find_halos import find_halos\n",
    "from find_halos import bin_halos\n",
    "from find_halos import get_list_dims"
   ]
  },
  {
   "cell_type": "markdown",
   "metadata": {},
   "source": [
    "#### Read in Data"
   ]
  },
  {
   "cell_type": "code",
   "execution_count": 2,
   "metadata": {},
   "outputs": [],
   "source": [
    "forest_table = pd.read_hdf('/data/a/cpac/aurora/reducedtrees.h5', 'ft')\n",
    "with open(\"/data/a/cpac/xinliu/reducedtrees/progenitor_idx.txt\") as f:\n",
    "    progenitor_idx = [[int(p) for p in s.strip().split(\" \")] if s.strip() != \"\" else [] for s in f]"
   ]
  },
  {
   "cell_type": "markdown",
   "metadata": {},
   "source": [
    "#### Establish global variables"
   ]
  },
  {
   "cell_type": "code",
   "execution_count": 3,
   "metadata": {},
   "outputs": [],
   "source": [
    "n = 5\n",
    "snap = 99 \n",
    "norm = np.int(2.7*10**9)\n",
    "extremum = ''\n",
    "my_range = [10**13, 10**14]\n",
    "my_range_str = [\"{:.2e}\".format(my_range[0]), \"{:.2e}\".format(my_range[1])]\n",
    "bins = [10**9.5, 10**10.5, 10**11.5, 10**12.5, 10**13.5, 10**14.5]\n",
    "norm_tf = True\n",
    "avg_tf = True\n",
    "# Convert snapshots to redshifts\n",
    "#redshifts = np.array(np.logspace(0, 1.04312639797, 101, base = 10.0) - 1\n",
    "redshifts = np.flip(np.array([10.044, 9.8065, 9.5789, 9.3608, 9.1515, 8.7573, 8.5714, 8.3925, 8.0541, 7.8938, 7.7391, 7.4454, 7.3058, 7.04, 6.9134, 6.6718, 6.5564, 6.3358, 6.1277, 6.028, 5.8367, 5.6556, 5.4839, 5.3208, 5.2422, 5.0909, 4.9467, 4.7429, 4.6145, 4.4918, 4.3743, 4.2618, 4.1015, 4.00, 3.8551, 3.763, 3.6313, 3.5475, 3.4273, 3.3133, 3.205, 3.102, 3.0361, 2.9412, 2.8506, 2.7361, 2.6545, 2.5765, 2.4775, 2.4068, 2.3168, 2.2524, 2.1703, 2.0923, 2.018, 1.9472, 1.8797, 1.7994, 1.7384, 1.68, 1.6104, 1.5443, 1.4938, 1.4334, 1.3759, 1.321, 1.2584, 1.2088, 1.152, 1.1069, 1.0552, 1.006, 0.9591, 0.9143, 0.8646, 0.824, 0.7788, 0.7358, 0.6948, 0.6557, 0.6184, 0.5777, 0.5391, 0.5022, 0.4714, 0.4337, 0.4017, 0.3636, 0.3347, 0.3035, 0.2705, 0.2423, 0.2123, 0.1837, 0.1538, 0.1279, 0.1008, 0.0749, 0.0502, 0.0245, 0.00]))"
   ]
  },
  {
   "cell_type": "markdown",
   "metadata": {},
   "source": [
    "#### Find and bin desired halos"
   ]
  },
  {
   "cell_type": "code",
   "execution_count": 4,
   "metadata": {},
   "outputs": [],
   "source": [
    "halo_idx = bin_halos(forest_table, snap, bins)"
   ]
  },
  {
   "cell_type": "markdown",
   "metadata": {},
   "source": [
    "#### Track mass evolution for each halo (and possibly average them into bins)"
   ]
  },
  {
   "cell_type": "code",
   "execution_count": 5,
   "metadata": {},
   "outputs": [],
   "source": [
    "def track_evol(idx, redshifts, bins='', avg = False, normalized = False):\n",
    "\n",
    "    z_nums = []\n",
    "    final_masses = []\n",
    "    \n",
    "    i_range = len(bins) - 1\n",
    "    #i_range = 2\n",
    "\n",
    "    # Loop over all the bins\n",
    "    for i in np.arange(i_range):\n",
    "        j_range = len(idx[i])\n",
    "        #j_range = 10\n",
    "        current_bin_masses = np.empty((j_range,101))\n",
    "        \n",
    "        # Loop over each halo in the bin\n",
    "        for j in np.arange(j_range):\n",
    "            target_idx = np.int(idx[i][j])\n",
    "            main_progenitor_list = [target_idx]\n",
    "            progenitors = progenitor_idx[target_idx]\n",
    " \n",
    "            # Trace the halo back in time; generate list of progenitors\n",
    "            while len(progenitors) > 0:\n",
    "                masses = [forest_table['mass'][k] for k in progenitors]\n",
    "                main_progenitor = progenitors[np.argmax(masses)]\n",
    "                main_progenitor_list.append(main_progenitor)\n",
    "                progenitors = progenitor_idx[main_progenitor]\n",
    "                \n",
    "            # Save info for this halo as a row in current_bin_masses; standardize the array of masses\n",
    "            current_halo_masses = np.array([forest_table['mass'][mp] for mp in main_progenitor_list])  # Mass at each snapnum for the current halo (j)\n",
    "            masses_std = np.append(current_halo_masses, np.zeros(101 - len(current_halo_masses)))  # Standardize mass array to give length 101\n",
    "            \n",
    "            # Normalize, if desired\n",
    "            if normalized == True:\n",
    "                masses_std = masses_std / np.array(forest_table['mass'][target_idx]) #masses_std[len(masses_std) - 1]\n",
    "            \n",
    "            current_bin_masses[j] = masses_std   # Array of arrays: contains mass arrays for all halos in this bin\n",
    "\n",
    "        # Take the average of all the mass evolutions of all the halos in that bin        \n",
    "        avg_masses = np.average(current_bin_masses, axis = 0)\n",
    "        \n",
    "        # Change zeros to NAN so they won't be plotted later\n",
    "        avg_masses[avg_masses == 0] = np.nan\n",
    "            \n",
    "        # Save info for this bin\n",
    "        z_nums.append(redshifts)\n",
    "        final_masses.append(avg_masses)\n",
    "\n",
    "    return z_nums, final_masses"
   ]
  },
  {
   "cell_type": "code",
   "execution_count": 7,
   "metadata": {},
   "outputs": [],
   "source": [
    "def old_track_evol(idx):\n",
    "\n",
    "    snapnums = []\n",
    "    final_masses = []\n",
    "\n",
    "    for i in np.arange(len(idx)):\n",
    "        target_idx = np.int(idx[i])\n",
    "        print(\"Target index is: \", target_idx)\n",
    "        progenitors = progenitor_idx[target_idx]\n",
    "        main_progenitor_list = [target_idx]\n",
    "        while len(progenitors) > 0:\n",
    "            masses = [forest_table['mass'][i] for i in progenitors]\n",
    "            main_progenitor = progenitors[np.argmax(masses)]\n",
    "            main_progenitor_list.append(main_progenitor)\n",
    "            progenitors = progenitor_idx[main_progenitor]\n",
    "        snapnums.append([forest_table['snap_num'][mp] for mp in main_progenitor_list])\n",
    "        final_masses.append([forest_table['mass'][mp] for mp in main_progenitor_list])\n",
    "\n",
    "    return snapnums, final_masses"
   ]
  },
  {
   "cell_type": "markdown",
   "metadata": {},
   "source": [
    "#### Actually implement the function (track those halo masses!)"
   ]
  },
  {
   "cell_type": "code",
   "execution_count": null,
   "metadata": {},
   "outputs": [],
   "source": [
    "# Actually implement the function!\n",
    "z_nums, masses = track_evol(halo_idx, redshifts, bins, avg_tf, norm_tf)\n",
    "masses_norm = [np.array(masses[i])*norm for i in np.arange(len(masses))]\n",
    "#masses_z = np.flip(masses, axis = 1)"
   ]
  },
  {
   "cell_type": "code",
   "execution_count": 43,
   "metadata": {},
   "outputs": [],
   "source": [
    "#Alternatively\n",
    "#z_nums = []\n",
    "#for q in np.arange(len(bins) - 1):\n",
    "#    z_nums.append(np.flip(redshifts))\n",
    "\n",
    "#print(\"Redshifts are: \", z_nums)\n",
    "#masses_z = np.flip(masses, axis = 1)\n",
    "#print(\"Masses flipped are: \", masses_z)\n",
    "#print(\"Redshifts: \", z_nums)"
   ]
  },
  {
   "cell_type": "markdown",
   "metadata": {},
   "source": [
    "#### Plot the results"
   ]
  },
  {
   "cell_type": "code",
   "execution_count": 3,
   "metadata": {},
   "outputs": [],
   "source": [
    "# Plot the results\n",
    "def plot_evol(z_nums, masses, bins, avg = False, normalized = False):\n",
    "    fig, ax = plt.subplots()\n",
    "    color=iter(cm.jet(np.linspace(0,1,len(masses))))\n",
    "    \n",
    "    if avg == True:\n",
    "        for m in np.arange(len(masses)):\n",
    "            ax.plot(z_nums[m], masses[m], color = next(color), label = (\"bin \" + str(m + 1) + \": (\" + \"{:.2e}\".format(bins[m]) + \" to \" + \"{:.2e}\".format(bins[m+1]) + \")\"))\n",
    "            \n",
    "        ax.legend()\n",
    "        if normalized == True:\n",
    "            ax.set_title(\"Normalized averaged mass evolution of halos in \" + str(int(len(bins) - 1)) + \" bins\")\n",
    "        elif normalized == False:\n",
    "            ax.set_title(\"Averaged mass evolution of halos in \" + str(int(len(bins) - 1)) + \" bins\")\n",
    "\n",
    "    elif avg == False:\n",
    "        for m in np.arange(len(masses)):\n",
    "            ax.plot(z_nums[m], masses[m], color = next(color))\n",
    "        if extremum == 'max':\n",
    "            ax.set_title(\"Mass evolution of \" + str(n) + \" most massive halos\")\n",
    "        elif extremum == 'min':\n",
    "            ax.set_title(\"Mass evolution of \" + str(n) + \" least massive halos\")\n",
    "        elif extremum == '':\n",
    "            ax.set_title(\"Mass evolution of halos in range \" + my_range_str[0] + \" to \" + my_range_str[1])\n",
    "       \n",
    "    ax.xlim(10.044, 0)\n",
    "    ax.set_yscale('log', nonpositive = 'clip')\n",
    "    ax.set_xlabel('Redshift [z]')\n",
    "    ax.set_ylabel('Mass [M_sun/h]')\n",
    "    plt.savefig('full_mass_evol_bins_z_norm.png')\n",
    "    plt.show()"
   ]
  },
  {
   "cell_type": "code",
   "execution_count": 4,
   "metadata": {},
   "outputs": [
    {
     "ename": "NameError",
     "evalue": "name 'z_nums' is not defined",
     "output_type": "error",
     "traceback": [
      "\u001b[0;31m---------------------------------------------------------------------------\u001b[0m",
      "\u001b[0;31mNameError\u001b[0m                                 Traceback (most recent call last)",
      "\u001b[0;32m<ipython-input-4-c511297a2342>\u001b[0m in \u001b[0;36m<module>\u001b[0;34m\u001b[0m\n\u001b[0;32m----> 1\u001b[0;31m \u001b[0mplot_evol\u001b[0m\u001b[0;34m(\u001b[0m\u001b[0mz_nums\u001b[0m\u001b[0;34m,\u001b[0m \u001b[0mmasses\u001b[0m\u001b[0;34m,\u001b[0m \u001b[0mbins\u001b[0m\u001b[0;34m,\u001b[0m \u001b[0mavg_tf\u001b[0m\u001b[0;34m,\u001b[0m \u001b[0mnorm_tf\u001b[0m\u001b[0;34m)\u001b[0m\u001b[0;34m\u001b[0m\u001b[0;34m\u001b[0m\u001b[0m\n\u001b[0m",
      "\u001b[0;31mNameError\u001b[0m: name 'z_nums' is not defined"
     ]
    }
   ],
   "source": [
    "plot_evol(z_nums, masses, bins, avg_tf, norm_tf)"
   ]
  },
  {
   "cell_type": "markdown",
   "metadata": {},
   "source": [
    "## Mass Growth Rate"
   ]
  },
  {
   "cell_type": "code",
   "execution_count": null,
   "metadata": {},
   "outputs": [],
   "source": [
    "def calc_mass_growth(halo_idx):\n",
    "    z_nums, masses = track_evol(halo_idx, redshifts, bins)\n",
    "    alpha_M = []\n",
    "    for i in np.arange(len(masses) - 1):\n",
    "        alpha = (times[i] + times[i+1]) * (masses[i] - masses[i+1]) / ((times[i] - times[i+1]) * (masses[i] + masses[i+1]))\n",
    "        print(\"Alpha is: \", alpha)\n",
    "        alpha_list = alpha_M.append(alpha)\n",
    "        \n",
    "    return alpha_list"
   ]
  },
  {
   "cell_type": "markdown",
   "metadata": {},
   "source": [
    "#### Implement Function"
   ]
  },
  {
   "cell_type": "code",
   "execution_count": null,
   "metadata": {},
   "outputs": [],
   "source": [
    "calc_mass_growth(masses_norm, z_nums)"
   ]
  },
  {
   "cell_type": "markdown",
   "metadata": {},
   "source": [
    "## MT Backbone"
   ]
  },
  {
   "cell_type": "code",
   "execution_count": null,
   "metadata": {},
   "outputs": [],
   "source": [
    "def calc_backbone_length(progenitor_list):\n",
    "    # Read in the list of main progenitors for a given root\n",
    "    # Calc length of that list\n",
    "    # Save that length in an array\n",
    "    # Plot a histogram of the lengths"
   ]
  },
  {
   "cell_type": "markdown",
   "metadata": {},
   "source": [
    "## Finding Major Mergers"
   ]
  },
  {
   "cell_type": "code",
   "execution_count": null,
   "metadata": {},
   "outputs": [],
   "source": [
    "def track_maj_mergers():\n",
    "    "
   ]
  },
  {
   "cell_type": "markdown",
   "metadata": {},
   "source": [
    "## LMM (Last Major Merger) redshift"
   ]
  },
  {
   "cell_type": "code",
   "execution_count": null,
   "metadata": {},
   "outputs": [],
   "source": []
  }
 ],
 "metadata": {
  "kernelspec": {
   "display_name": "Python 3",
   "language": "python",
   "name": "python3"
  },
  "language_info": {
   "codemirror_mode": {
    "name": "ipython",
    "version": 3
   },
   "file_extension": ".py",
   "mimetype": "text/x-python",
   "name": "python",
   "nbconvert_exporter": "python",
   "pygments_lexer": "ipython3",
   "version": "3.8.3"
  }
 },
 "nbformat": 4,
 "nbformat_minor": 4
}
