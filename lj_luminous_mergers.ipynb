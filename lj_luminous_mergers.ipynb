{
 "cells": [
  {
   "cell_type": "markdown",
   "metadata": {},
   "source": [
    "# HaccyTrees - Luminous Mergers"
   ]
  },
  {
   "cell_type": "code",
   "execution_count": 1,
   "metadata": {},
   "outputs": [
    {
     "name": "stdout",
     "output_type": "stream",
     "text": [
      "pyfftw not available, using numpy fft\n"
     ]
    }
   ],
   "source": [
    "import haccytrees.mergertrees\n",
    "import numpy as np\n",
    "import math\n",
    "import numpy.ma as ma\n",
    "import matplotlib.pyplot as plt\n",
    "from matplotlib.pyplot import cm\n",
    "from matplotlib.lines import Line2D\n",
    "import matplotlib.colors as mcolors\n",
    "import matplotlib.patches as mpatches\n",
    "from matplotlib import cm\n",
    "from matplotlib.colors import ListedColormap, LinearSegmentedColormap\n",
    "import pandas as pd\n",
    "from astropy.cosmology import FlatLambdaCDM\n",
    "import astropy.units as u\n",
    "from itertools import groupby\n",
    "from matplotlib.ticker import ScalarFormatter\n",
    "%load_ext line_profiler\n",
    "%reload_ext autoreload\n",
    "%autoreload 1\n",
    "%aimport help_func_haccytrees\n",
    "\n",
    "plt.rcParams.update({\n",
    "    \"text.usetex\": True,\n",
    "    'font.size': 14,\n",
    "    \"figure.figsize\": (6.25, 3.75)\n",
    "})"
   ]
  },
  {
   "cell_type": "code",
   "execution_count": 2,
   "metadata": {},
   "outputs": [
    {
     "name": "stdout",
     "output_type": "stream",
     "text": [
      "CPU times: user 6.58 s, sys: 8.84 s, total: 15.4 s\n",
      "Wall time: 15.4 s\n"
     ]
    }
   ],
   "source": [
    "%%time\n",
    "forest, progenitor_array = haccytrees.mergertrees.read_forest(\n",
    "    '/data/a/cpac/mbuehlmann/LastJourney/forest/target_forest_aurora.hdf5',\n",
    "    'LastJourney', nchunks=1, chunknum=0, #mass_threshold = 2.7*10**11,\n",
    "    include_fields = [\"tree_node_mass\", \"snapnum\", \"fof_halo_tag\", \"sod_halo_cdelta\", \"fof_halo_center_x\", \"fof_halo_center_y\", \"fof_halo_center_z\"]\n",
    ")"
   ]
  },
  {
   "cell_type": "code",
   "execution_count": 3,
   "metadata": {},
   "outputs": [
    {
     "name": "stdout",
     "output_type": "stream",
     "text": [
      "CPU times: user 22.9 s, sys: 41.7 s, total: 1min 4s\n",
      "Wall time: 1min 4s\n"
     ]
    }
   ],
   "source": [
    "%%time\n",
    "fg_forest, fg_progenitor_array = haccytrees.mergertrees.read_forest(\n",
    "    \"/data/a/cpac/mbuehlmann/LastJourney/forest/fg_forest.hdf5\",\n",
    "    'LastJourney',\n",
    "    #mass_threshold=5e11 # Is this for mergers, or \"particle size\"? (might be the wrong word)\n",
    ")"
   ]
  },
  {
   "cell_type": "markdown",
   "metadata": {},
   "source": [
    "### Establish Globals"
   ]
  },
  {
   "cell_type": "code",
   "execution_count": 4,
   "metadata": {},
   "outputs": [
    {
     "name": "stdout",
     "output_type": "stream",
     "text": [
      "[2.22044605e-16 2.44648318e-02 5.01567398e-02 7.48663102e-02\n",
      " 1.00766703e-01 1.27946128e-01 1.53846154e-01 1.83745583e-01\n",
      " 2.12303981e-01 2.42274413e-01 2.70543616e-01 3.03501946e-01\n",
      " 3.34661355e-01 3.63636364e-01 4.01673640e-01 4.33666191e-01\n",
      " 4.71449488e-01 5.02242152e-01 5.39050536e-01 5.77708006e-01\n",
      " 6.18357488e-01 6.55683690e-01 6.94772344e-01 7.35751295e-01\n",
      " 7.78761062e-01 8.23956443e-01 8.64564007e-01 9.14285714e-01\n",
      " 9.59064327e-01 1.00598802e+00 1.05521472e+00 1.10691824e+00\n",
      " 1.15203426e+00 1.20879121e+00 1.25842697e+00 1.32101617e+00\n",
      " 1.37588652e+00 1.43341404e+00 1.49379653e+00 1.54430380e+00\n",
      " 1.61038961e+00 1.68000000e+00 1.73841962e+00 1.79944290e+00\n",
      " 1.87965616e+00 1.94721408e+00 2.01801802e+00 2.09230769e+00\n",
      " 2.17034700e+00 2.25242718e+00 2.31683168e+00 2.40677966e+00\n",
      " 2.47750865e+00 2.57651246e+00 2.65454545e+00 2.73605948e+00\n",
      " 2.85057471e+00 2.94117647e+00 3.03614458e+00 3.10204082e+00\n",
      " 3.20502092e+00 3.31330472e+00 3.42731278e+00 3.54751131e+00\n",
      " 3.63133641e+00 3.76303318e+00 3.85507246e+00 4.00000000e+00\n",
      " 4.10152284e+00 4.26178010e+00 4.37433155e+00 4.49180328e+00\n",
      " 4.61452514e+00 4.74285714e+00 4.94674556e+00 5.09090909e+00\n",
      " 5.24223602e+00 5.32075472e+00 5.48387097e+00 5.65562914e+00\n",
      " 5.83673469e+00 6.02797203e+00 6.12765957e+00 6.33576642e+00\n",
      " 6.55639098e+00 6.67175573e+00 6.91338583e+00 7.04000000e+00\n",
      " 7.30578512e+00 7.44537815e+00 7.73913043e+00 7.89380531e+00\n",
      " 8.05405405e+00 8.39252336e+00 8.57142857e+00 8.75728155e+00\n",
      " 9.15151515e+00 9.36082474e+00 9.57894737e+00 9.80645161e+00\n",
      " 1.00439560e+01]\n",
      "[10.044   9.8065  9.5789  9.3608  9.1515  8.7573  8.5714  8.3925  8.0541\n",
      "  7.8938  7.7391  7.4454  7.3058  7.04    6.9134  6.6718  6.5564  6.3358\n",
      "  6.1277  6.028   5.8367  5.6556  5.4839  5.3208  5.2422  5.0909  4.9467\n",
      "  4.7429  4.6145  4.4918  4.3743  4.2618  4.1015  4.      3.8551  3.763\n",
      "  3.6313  3.5475  3.4273  3.3133  3.205   3.102   3.0361  2.9412  2.8506\n",
      "  2.7361  2.6545  2.5765  2.4775  2.4068  2.3168  2.2524  2.1703  2.0923\n",
      "  2.018   1.9472  1.8797  1.7994  1.7384  1.68    1.6104  1.5443  1.4938\n",
      "  1.4334  1.3759  1.321   1.2584  1.2088  1.152   1.1069  1.0552  1.006\n",
      "  0.9591  0.9143  0.8646  0.824   0.7788  0.7358  0.6948  0.6557  0.6184\n",
      "  0.5777  0.5391  0.5022  0.4714  0.4337  0.4017  0.3636  0.3347  0.3035\n",
      "  0.2705  0.2423  0.2123  0.1837  0.1538  0.1279  0.1008  0.0749  0.0502\n",
      "  0.0245  0.    ]\n"
     ]
    }
   ],
   "source": [
    "sim = haccytrees.Simulation.simulations['LastJourney']\n",
    "redshifts = np.flip(sim.step2z(np.array(sim.cosmotools_steps)))\n",
    "print(redshifts)\n",
    "xaxis = 'z_nums'\n",
    "my_range = [10**13, 10**14]\n",
    "my_range_str = [\"{:.2e}\".format(my_range[0]), \"{:.2e}\".format(my_range[1])]\n",
    "rangel_bins = [1*10**11, 1.5*10**11, 2.3*10**11, 3.5*10**11, 5.3*10**11, 8.1*10**11, 1.2*10**12, 1.9*10**12, 2.8*10**12, 4.3*10**12, 6.6*10**12, 1*10**13]\n",
    "rangel_bins2 = np.concatenate(([rangel_bins[0] - 0.25*10**11], [(rangel_bins[i] + rangel_bins[i+1]) / 2 for i in np.arange(len(rangel_bins) -1)], [rangel_bins[-1] + 3.4*10**13]), axis = 0)\n",
    "# Convert snapshots to redshifts -- opposite order (chronological)\n",
    "redshifts = np.array([10.044, 9.8065, 9.5789, 9.3608, 9.1515, 8.7573, 8.5714, 8.3925, 8.0541, 7.8938, 7.7391, 7.4454, 7.3058, 7.04, 6.9134, 6.6718, 6.5564, 6.3358, 6.1277, 6.028, 5.8367, 5.6556, 5.4839, 5.3208, 5.2422, 5.0909, 4.9467, 4.7429, 4.6145, 4.4918, 4.3743, 4.2618, 4.1015, 4.00, 3.8551, 3.763, 3.6313, 3.5475, 3.4273, 3.3133, 3.205, 3.102, 3.0361, 2.9412, 2.8506, 2.7361, 2.6545, 2.5765, 2.4775, 2.4068, 2.3168, 2.2524, 2.1703, 2.0923, 2.018, 1.9472, 1.8797, 1.7994, 1.7384, 1.68, 1.6104, 1.5443, 1.4938, 1.4334, 1.3759, 1.321, 1.2584, 1.2088, 1.152, 1.1069, 1.0552, 1.006, 0.9591, 0.9143, 0.8646, 0.824, 0.7788, 0.7358, 0.6948, 0.6557, 0.6184, 0.5777, 0.5391, 0.5022, 0.4714, 0.4337, 0.4017, 0.3636, 0.3347, 0.3035, 0.2705, 0.2423, 0.2123, 0.1837, 0.1538, 0.1279, 0.1008, 0.0749, 0.0502, 0.0245, 0.00])\n",
    "print(redshifts)"
   ]
  },
  {
   "cell_type": "markdown",
   "metadata": {},
   "source": [
    "## Mass Matching - Narrow Bins"
   ]
  },
  {
   "cell_type": "code",
   "execution_count": 5,
   "metadata": {},
   "outputs": [
    {
     "name": "stdout",
     "output_type": "stream",
     "text": [
      "307993\n",
      "307993\n"
     ]
    }
   ],
   "source": [
    "# Make masks\n",
    "fg_masks = help_func_haccytrees.make_masks(fg_forest)\n",
    "print(len(forest['tree_node_mass'][forest['snapnum'] == 100]))\n",
    "halo_masks = help_func_haccytrees.make_masks(forest) # Forest should already only contain values in these bins\n",
    "print(len(halo_masks[0][halo_masks[0]]) + len(halo_masks[1][halo_masks[1]]) + len(halo_masks[2][halo_masks[2]]))"
   ]
  },
  {
   "cell_type": "markdown",
   "metadata": {},
   "source": [
    "### Find QH Candidates"
   ]
  },
  {
   "cell_type": "code",
   "execution_count": 7,
   "metadata": {},
   "outputs": [],
   "source": [
    "qh_masks = []\n",
    "for this_mask in (fg_masks):\n",
    "    fg_idx = np.nonzero(this_mask)[0]\n",
    "    mainbranch_index, mainbranch_masses = help_func_haccytrees.get_branches(fg_idx, fg_forest)\n",
    "    mainbranch_mergers = help_func_haccytrees.get_mainbranch_mergers(fg_forest, fg_progenitor_array, mainbranch_index)\n",
    "    major_mergers = help_func_haccytrees.get_major_mergers(mainbranch_mergers)\n",
    "    lmm_redshift = help_func_haccytrees.get_lmms(major_mergers)\n",
    "    fgs, qhs, mrich = help_func_haccytrees.find_specials(fg_forest, mainbranch_index, major_mergers, lmm_redshift, fg_idx)\n",
    "    # This qhs index will be an index associated with this specific mass bin/this fg mask. Is there any reason to have a mask version? Maybe, because of later...\n",
    "    qh_mask = np.zeros_like(this_mask)\n",
    "    qh_mask[qhs] = 1\n",
    "    qh_masks.append(qh_mask)"
   ]
  },
  {
   "cell_type": "markdown",
   "metadata": {},
   "source": [
    "## LMM Stats"
   ]
  },
  {
   "cell_type": "code",
   "execution_count": 8,
   "metadata": {},
   "outputs": [
    {
     "name": "stderr",
     "output_type": "stream",
     "text": [
      "/home/acossairt/miniconda3/envs/fossil_groups_env/lib/python3.7/site-packages/ipykernel_launcher.py:37: RuntimeWarning: invalid value encountered in true_divide\n",
      "/home/acossairt/miniconda3/envs/fossil_groups_env/lib/python3.7/site-packages/ipykernel_launcher.py:37: RuntimeWarning: invalid value encountered in true_divide\n"
     ]
    },
    {
     "ename": "IndexError",
     "evalue": "list index out of range",
     "output_type": "error",
     "traceback": [
      "\u001b[0;31m---------------------------------------------------------------------------\u001b[0m",
      "\u001b[0;31mIndexError\u001b[0m                                Traceback (most recent call last)",
      "\u001b[0;32m<ipython-input-8-93c3fd2dd2e4>\u001b[0m in \u001b[0;36m<module>\u001b[0;34m\u001b[0m\n\u001b[1;32m     45\u001b[0m \u001b[0;34m\u001b[0m\u001b[0m\n\u001b[1;32m     46\u001b[0m         \u001b[0;32mif\u001b[0m \u001b[0mj\u001b[0m \u001b[0;34m==\u001b[0m \u001b[0;36m1\u001b[0m\u001b[0;34m:\u001b[0m\u001b[0;34m\u001b[0m\u001b[0;34m\u001b[0m\u001b[0m\n\u001b[0;32m---> 47\u001b[0;31m             \u001b[0mbin_legend_handles\u001b[0m\u001b[0;34m.\u001b[0m\u001b[0mappend\u001b[0m\u001b[0;34m(\u001b[0m\u001b[0mmpatches\u001b[0m\u001b[0;34m.\u001b[0m\u001b[0mPatch\u001b[0m\u001b[0;34m(\u001b[0m\u001b[0mcolor\u001b[0m \u001b[0;34m=\u001b[0m \u001b[0mcurrent_color\u001b[0m\u001b[0;34m,\u001b[0m \u001b[0mlabel\u001b[0m \u001b[0;34m=\u001b[0m \u001b[0mcolor_labels\u001b[0m\u001b[0;34m[\u001b[0m\u001b[0mi\u001b[0m\u001b[0;34m]\u001b[0m\u001b[0;34m)\u001b[0m\u001b[0;34m)\u001b[0m \u001b[0;31m# For mass bins\u001b[0m\u001b[0;34m\u001b[0m\u001b[0;34m\u001b[0m\u001b[0m\n\u001b[0m\u001b[1;32m     48\u001b[0m \u001b[0;34m\u001b[0m\u001b[0m\n\u001b[1;32m     49\u001b[0m     \u001b[0;31m# Add legend for mass bins\u001b[0m\u001b[0;34m\u001b[0m\u001b[0;34m\u001b[0m\u001b[0;34m\u001b[0m\u001b[0m\n",
      "\u001b[0;31mIndexError\u001b[0m: list index out of range"
     ]
    },
    {
     "data": {
      "image/png": "[encoded data removed]",
      "text/plain": [
       "<Figure size 450x270 with 1 Axes>"
      ]
     },
     "metadata": {
      "needs_background": "light"
     },
     "output_type": "display_data"
    }
   ],
   "source": [
    "z_end = None # In case you want to zoom in\n",
    "#colors = [\"#5D3A9B\", \"#E66100\"] # \"#009E73\"\n",
    "color_labels = [\"all halos\", \"FG candidates\"]\n",
    "oranges = [\"#CC2200\", \"#E66100\", \"#FF8C1A\"]\n",
    "purples = [\"#3C1C4A\", \"#5D3A9B\", \"#B98CD9\"]\n",
    "greens = [\"#00755F\", \"#00805D\"]\n",
    "colors = iter([oranges, purples, greens])\n",
    "linestyles = ['--', '-', '-.']\n",
    "linestyle_labels = [r\"$[10^{13}, 10^{13.05}]$ $h^{-1}\\mathrm{M}_\\odot$\", r\"$[10^{13.3}, 10^{13.35}]$ $h^{-1}\\mathrm{M}_\\odot$\", r\"$[10^{13.6}, 10^{13.65}]$ $h^{-1}\\mathrm{M}_\\odot$\"]\n",
    "\n",
    "fig, ax = plt.subplots()\n",
    "bin_legend_handles = []\n",
    "for i, (this_mask, catalog, this_progenitor_array) in enumerate(zip([halo_masks, fg_masks, qh_masks], [forest, fg_forest, fg_forest], [progenitor_array, fg_progenitor_array, fg_progenitor_array])):\n",
    "    \n",
    "    # Get lmms for all entries in this mask\n",
    "    this_idx = [np.nonzero(this_mask[0])[0], np.nonzero(this_mask[1])[0], np.nonzero(this_mask[2])[0]]\n",
    "    mainbranch_index, mainbranch_mass = help_func_haccytrees.get_binned_branches(this_idx, catalog)\n",
    "    binned_mainbranch_mergers = help_func_haccytrees.get_binned_mainbranch_mergers(catalog, this_progenitor_array, mainbranch_index)\n",
    "    binned_major_mergers = help_func_haccytrees.get_binned_major_mergers(binned_mainbranch_mergers)\n",
    "    binned_lmms = help_func_haccytrees.get_binned_lmms(binned_mainbranch_mergers)\n",
    "    fgs, rugs, mrich = help_func_haccytrees.find_binned_specials(forest, mainbranch_index, binned_major_mergers, binned_lmms, this_idx)\n",
    "    \n",
    "    # Loop over each mass bin, plot\n",
    "    these_colors = next(colors)\n",
    "    for j, this_bin in enumerate(binned_lmms):\n",
    "        if i == 2 and j == 2:\n",
    "            break\n",
    "        current_color = these_colors[j]\n",
    "        current_linestyle = linestyles[j]\n",
    "        current_label = linestyle_labels[j]\n",
    "        \n",
    "        # Calculate cdf\n",
    "        this_bin = this_bin[this_bin >= 0] # Remove any negative values (coming from rugs)\n",
    "        data_sorted = np.sort(this_bin) # Should automatically sort along the last axis\n",
    "        hist_keys = np.concatenate(([0] if i == 0 else [1], [key for key, group in groupby(data_sorted)])) # Redshift values\n",
    "        hist_values = np.concatenate(([0], [len(list(group)) for key, group in groupby(data_sorted)])) # Count of each redshift value\n",
    "        cum_probs = np.cumsum(hist_values) / len(this_bin)\n",
    "\n",
    "        if z_end is not None:\n",
    "            hist_keys = np.append(hist_keys, z_end)\n",
    "            cum_probs = np.append(cum_probs, cum_probs[-1])\n",
    "\n",
    "        # Plot cdf\n",
    "        ax.plot(hist_keys, cum_probs, color = current_color, linestyle = current_linestyle, label = current_label)\n",
    "        \n",
    "        if j == 1:\n",
    "            bin_legend_handles.append(mpatches.Patch(color = current_color, label = color_labels[i])) # For mass bins\n",
    "    \n",
    "    # Add legend for mass bins\n",
    "    if i == 0:\n",
    "        fake_lines = [ax.plot([],[], linestyle = linestyle, c = 'k')[0] for linestyle in linestyles]\n",
    "        leg1 = ax.legend(fake_lines, linestyle_labels, loc = 'lower right', frameon = False)\n",
    "        ax.add_artist(leg1)\n",
    "        \n",
    "    # Accessorize\n",
    "    ax.set_ylabel(r\"$p(z_{llm} < z)$\")\n",
    "    ax.set_xlabel(r\"Redshift $(z)$\")\n",
    "    ax.set_xscale(\"symlog\", linthresh = 1, linscale = 0.4)\n",
    "    \n",
    "    # Unnecessarily Complicated Tick Marks\n",
    "    stepsize = 1\n",
    "    start, end = ax.get_xlim()\n",
    "    ax.xaxis.set_ticks(np.arange(0, end, stepsize))\n",
    "    for axis in [ax.xaxis, ax.yaxis]:\n",
    "        axis.set_major_formatter(ScalarFormatter())\n",
    "\n",
    "ax.legend(handles = bin_legend_handles, loc = \"center right\", frameon = False)\n",
    "fig.tight_layout()\n",
    "#fig.savefig(\"full_lj_plots/cdf_llms.pdf\", bbox_inches='tight', pad_inches=0)"
   ]
  },
  {
   "cell_type": "markdown",
   "metadata": {},
   "source": [
    "#### Cumulative mean number of major mergers"
   ]
  },
  {
   "cell_type": "code",
   "execution_count": null,
   "metadata": {},
   "outputs": [],
   "source": [
    "# Fixing this up\n",
    "z_end = None # In case you want to zoom in\n",
    "#colors = [\"#5D3A9B\", \"#E66100\"] # \"#009E73\"\n",
    "\n",
    "fig, ax = plt.subplots()\n",
    "bin_legend_handles = []\n",
    "oranges = [\"#CC2200\", \"#E66100\", \"#FF8C1A\"]\n",
    "purples = [\"#3C1C4A\", \"#5D3A9B\", \"#B98CD9\"]\n",
    "colors = iter([oranges, purples])\n",
    "color_labels = [\"all halos\", \"FG candidates\"]\n",
    "linestyles = ['--', '-', '-.']\n",
    "linestyle_labels = [r\"$[10^{13}, 10^{13.05}]$ $h^{-1}\\mathrm{M}_\\odot$\", r\"$[10^{13.3}, 10^{13.35}]$ $h^{-1}\\mathrm{M}_\\odot$\", r\"$[10^{13.6}, 10^{13.65}]$ $h^{-1}\\mathrm{M}_\\odot$\"]\n",
    "\n",
    "for i, (this_mask, this_catalog, this_progenitor_array) in enumerate(zip([halo_masks, fg_masks], [forest, fg_forest], [progenitor_array, fg_progenitor_array])):\n",
    "    target_idx = [np.nonzero(this_mask[0])[0], np.nonzero(this_mask[1])[0], np.nonzero(this_mask[2])[0]]\n",
    "    binned_mainbranch_index, binned_mainbranch_masses = help_func_haccytrees.get_binned_branches(target_idx, this_catalog)\n",
    "    binned_mainbranch_mergers = help_func_haccytrees.get_binned_mainbranch_mergers(this_catalog, this_progenitor_array, binned_mainbranch_index)\n",
    "    binned_major_mergers = help_func_haccytrees.get_binned_major_mergers(binned_mainbranch_mergers)\n",
    "    binned_avg_cum_mms = help_func_haccytrees.calc_binned_avg_cum_mms(binned_major_mergers) # Why did this previously say \"long\"?\n",
    "    \n",
    "    # Loop over mass bins; plot\n",
    "    these_colors = next(colors) # colors for each fossil status\n",
    "    for j, this_bin in enumerate(binned_avg_cum_mms):\n",
    "        current_color = these_colors[j]\n",
    "        current_linestyle = linestyles[j]\n",
    "        current_label = linestyle_labels[j]\n",
    "        ax.plot(redshifts, this_bin, linestyle = current_linestyle, color = current_color, label = current_label)\n",
    "        \n",
    "        if j == 1:\n",
    "            bin_legend_handles.append(mpatches.Patch(color = current_color, label = color_labels[i])) # For mass bins\n",
    "\n",
    "    # Add legend for mass bins\n",
    "    if i == 0:\n",
    "        fake_lines = [ax.plot([],[], linestyle = linestyle, c = 'k')[0] for linestyle in linestyles]\n",
    "        leg1 = ax.legend(fake_lines, linestyle_labels, loc = 'lower right', frameon = False)\n",
    "        ax.add_artist(leg1)\n",
    "    \n",
    "    # More accessories\n",
    "    ax.set_xlabel(r\"Redshift $(z)$\")\n",
    "    ax.set_ylabel(r\"$\\langle n_{lm}(z_{lm} < z) \\rangle$\")\n",
    "    ax.set_xscale(\"symlog\", linthresh = 1, linscale = 0.4)\n",
    "    ax.set_yscale('log')\n",
    "    \n",
    "    # Unnecessarily Complicated Tick Marks\n",
    "    stepsize = 1\n",
    "    start, end = ax.get_xlim()\n",
    "    ax.xaxis.set_ticks(np.arange(0, end, stepsize))\n",
    "    for axis in [ax.xaxis, ax.yaxis]:\n",
    "        axis.set_major_formatter(ScalarFormatter())\n",
    "\n",
    "# Add legend for fossil status\n",
    "ax.legend(handles = bin_legend_handles, loc = \"center right\", frameon = False) # Could also have the labels separate from handles, right?\n",
    "fig.show()\n",
    "fig.tight_layout()\n",
    "#fig.savefig(\"full_lj_plots/cum_n_lms.png\", bbox_inches='tight', pad_inches=0)"
   ]
  },
  {
   "cell_type": "markdown",
   "metadata": {},
   "source": [
    "# LLM's Double Panelled Plot:"
   ]
  },
  {
   "cell_type": "markdown",
   "metadata": {},
   "source": [
    "#### For the double axis (cosmic times and redshifts)"
   ]
  },
  {
   "cell_type": "code",
   "execution_count": 33,
   "metadata": {},
   "outputs": [
    {
     "data": {
      "image/png": "[encoded data removed]",
      "text/plain": [
       "<Figure size 450x270 with 1 Axes>"
      ]
     },
     "metadata": {
      "needs_background": "light"
     },
     "output_type": "display_data"
    }
   ],
   "source": [
    "from astropy.cosmology import FlatLambdaCDM, z_at_value\n",
    "cosmo = FlatLambdaCDM(H0=67.77, Om0=0.31)\n",
    "cosmic_times = cosmo.age(redshifts).value\n",
    "plt.plot(redshifts, cosmic_times)\n",
    "plt.xticks([0,1,2,3,4,5,6,7,8,9,10])\n",
    "plt.xlabel(\"redshifts\")\n",
    "plt.ylabel(\"cosmic times\")\n",
    "plt.savefig(\"redshifts_vs_ctimes.png\")"
   ]
  },
  {
   "cell_type": "code",
   "execution_count": 103,
   "metadata": {},
   "outputs": [
    {
     "data": {
      "image/png": "[encoded data removed]",
      "text/plain": [
       "<Figure size 720x252 with 2 Axes>"
      ]
     },
     "metadata": {
      "needs_background": "light"
     },
     "output_type": "display_data"
    }
   ],
   "source": [
    "##################\n",
    "# Cum mean n lms #\n",
    "##################\n",
    "plt.rcParams.update({\n",
    "    'font.size': 14,\n",
    "})\n",
    "\n",
    "xright = 4\n",
    "z_end = None # In case you want to zoom in\n",
    "color_labels = [\"all halos\", \"FG candidates\"]#, \"QH candidates\"]\n",
    "oranges = [\"#CC2200\", \"#E66100\", \"#FF8C1A\"]\n",
    "purples = [\"#3C1C4A\", \"#5D3A9B\", \"#B98CD9\"]\n",
    "greens = [\"#00755F\", \"#00805D\", \"#00805D\"]\n",
    "colors = [oranges, purples]#, greens]\n",
    "linestyles = ['--', '-', '-.']\n",
    "linestyle_labels = [r\"$[10^{13}, 10^{13.05}]$ $h^{-1}\\mathrm{M}_\\odot$\", r\"$[10^{13.3}, 10^{13.35}]$ $h^{-1}\\mathrm{M}_\\odot$\", r\"$[10^{13.6}, 10^{13.65}]$ $h^{-1}\\mathrm{M}_\\odot$\"]\n",
    "\n",
    "fig, axes = plt.subplots(nrows = 1, ncols = 2, figsize = (10, 3.5))\n",
    "ax = axes[0]\n",
    "bin_legend_handles = []\n",
    "for i, (this_mask, this_catalog, this_progenitor_array) in enumerate(zip([halo_masks, fg_masks], [forest, fg_forest], [progenitor_array, fg_progenitor_array])):\n",
    "#for i, (this_mask, this_catalog, this_progenitor_array) in enumerate(zip([halo_masks, fg_masks, qh_masks], [forest, fg_forest, fg_forest], [progenitor_array, fg_progenitor_array, fg_progenitor_array])):\n",
    "    target_idx = [np.nonzero(this_mask[0])[0], np.nonzero(this_mask[1])[0], np.nonzero(this_mask[2])[0]]\n",
    "    binned_mainbranch_index, binned_mainbranch_masses = help_func_haccytrees.get_binned_branches(target_idx, this_catalog)\n",
    "    binned_mainbranch_mergers = help_func_haccytrees.get_binned_mainbranch_mergers(this_catalog, this_progenitor_array, binned_mainbranch_index)\n",
    "    binned_major_mergers = help_func_haccytrees.get_binned_major_mergers(binned_mainbranch_mergers)\n",
    "    binned_avg_cum_mms = help_func_haccytrees.calc_binned_avg_cum_mms(binned_major_mergers) # Why did this previously say \"long\"?\n",
    "    \n",
    "    # Loop over mass bins; plot\n",
    "    these_colors = colors[i] # colors for each fossil status\n",
    "    for j, this_bin in enumerate(binned_avg_cum_mms):\n",
    "        if i == 2 and j == 2:\n",
    "            break\n",
    "        current_color = these_colors[j]\n",
    "        current_linestyle = linestyles[j]\n",
    "        current_label = linestyle_labels[j]\n",
    "        ax.plot(np.flip(redshifts), this_bin, linestyle = current_linestyle, color = current_color, label = current_label)\n",
    "    \n",
    "        if j == 1:\n",
    "            bin_legend_handles.append(mpatches.Patch(color = current_color, label = color_labels[i])) # For mass bins\n",
    "\n",
    "# Cosmetics\n",
    "ax.set_xlabel(r\"redshift $z$\")\n",
    "ax.set_xlim(right = xright)\n",
    "ax.set_xticks(np.arange(xright))\n",
    "#ax.set_xticklabels([f'{z:d}' for z in range(xright)]) # somehow not necessary?\n",
    "ax.xaxis.set_major_formatter(ScalarFormatter())\n",
    "\n",
    "ax.set_ylabel(r\"$\\langle n_{LM}(z_{LM} < z) \\rangle$\")\n",
    "ax.set_yscale('log')\n",
    "    \n",
    "# Second x-axis\n",
    "sax = ax.secondary_xaxis('top', functions=(forward, inverse))\n",
    "major_ticks = [1, 2, 3, 4, 6, 10]\n",
    "minor_ticks = [5, 7, 8, 9, 11, 12, 13, 14]\n",
    "sax.set_xticks(major_ticks, minor=False)\n",
    "sax.set_xticks(minor_ticks, minor=True)\n",
    "sax.set_xticklabels([f'{t:d}' for t in major_ticks])\n",
    "sax.set_xlabel(\"cosmic time [Gyr]\")\n",
    "sax.xaxis.set_major_formatter(ScalarFormatter())\n",
    "\n",
    "ax.legend(handles = bin_legend_handles, loc = \"lower right\", frameon = False)\n",
    "ax.margins(x=0.025)\n",
    "\n",
    "########################\n",
    "# Probability of z_LLM #\n",
    "########################\n",
    "\n",
    "ax = axes[1]\n",
    "z_end = None # In case you want to zoom in\n",
    "#bin_legend_handles = []\n",
    "for i, (this_mask, catalog, this_progenitor_array) in enumerate(zip([halo_masks, fg_masks], [forest, fg_forest], [progenitor_array, fg_progenitor_array])):\n",
    "#for i, (this_mask, catalog, this_progenitor_array) in enumerate(zip([halo_masks, fg_masks, qh_masks], [forest, fg_forest, fg_forest], [progenitor_array, fg_progenitor_array, fg_progenitor_array])):\n",
    "    \n",
    "    # Get lmms for all entries in this mask\n",
    "    this_idx = [np.nonzero(this_mask[0])[0], np.nonzero(this_mask[1])[0], np.nonzero(this_mask[2])[0]]\n",
    "    mainbranch_index, mainbranch_mass = help_func_haccytrees.get_binned_branches(this_idx, catalog)\n",
    "    binned_mainbranch_mergers = help_func_haccytrees.get_binned_mainbranch_mergers(catalog, this_progenitor_array, mainbranch_index)\n",
    "    binned_major_mergers = help_func_haccytrees.get_binned_major_mergers(binned_mainbranch_mergers)\n",
    "    binned_lmms = help_func_haccytrees.get_binned_lmms(binned_mainbranch_mergers)\n",
    "    fgs, rugs, mrich = help_func_haccytrees.find_binned_specials(forest, mainbranch_index, binned_major_mergers, binned_lmms, this_idx)\n",
    "    \n",
    "    # Loop over each mass bin, plot\n",
    "    these_colors = colors[i]\n",
    "    for j, this_bin in enumerate(binned_lmms):\n",
    "        if i == 2 and j == 2:\n",
    "            break\n",
    "        current_color = these_colors[j]\n",
    "        current_linestyle = linestyles[j]\n",
    "        current_label = linestyle_labels[j]\n",
    "        \n",
    "        # Calculate cdf\n",
    "        this_bin = this_bin[this_bin >= 0] # Remove any negative values (coming from rugs)\n",
    "        data_sorted = np.sort(this_bin) # Should automatically sort along the last axis\n",
    "        hist_keys = np.concatenate(([0] if i == 0 else [1], [key for key, group in groupby(data_sorted)])) # Redshift values\n",
    "        hist_values = np.concatenate(([0], [len(list(group)) for key, group in groupby(data_sorted)])) # Count of each redshift value\n",
    "        cum_probs = np.cumsum(hist_values) / len(this_bin)\n",
    "\n",
    "        if z_end is not None:\n",
    "            hist_keys = np.append(hist_keys, z_end)\n",
    "            cum_probs = np.append(cum_probs, cum_probs[-1])\n",
    "\n",
    "        # Plot cdf\n",
    "        ax.plot(hist_keys, cum_probs, color = current_color, linestyle = current_linestyle, label = current_label)\n",
    "                    \n",
    "    # Add legend for mass bins\n",
    "    if i == 0:\n",
    "        fake_lines = [ax.plot([],[], linestyle = linestyle, c = 'k')[0] for linestyle in linestyles]\n",
    "        leg1 = ax.legend(fake_lines, linestyle_labels, loc = 'lower right', frameon = False)#, fontsize = 13)\n",
    "        ax.add_artist(leg1)\n",
    "        \n",
    "    # Accessorize\n",
    "    ax.set_ylabel(r\"$p(z_{LLM} < z)$\")\n",
    "    ax.set_xlabel(r\"redshift $z$\")\n",
    "    #ax.set_xscale(\"symlog\", linthresh = 1, linscale = 0.4)\n",
    "    \n",
    "# Unnecessarily Complicated Tick Marks\n",
    "ax.set_xlim(right = xright)\n",
    "ax.set_xticks(np.arange(xright))\n",
    "#ax.set_xticklabels([f'{z:d}' for z in range(6)]) # somehow not necessary?\n",
    "ax.xaxis.set_major_formatter(ScalarFormatter())\n",
    "ax.set_ylim(bottom = 0)\n",
    "\n",
    "sax = ax.secondary_xaxis('top', functions=(forward, inverse))\n",
    "major_ticks = [1, 2, 3, 4, 6, 10]\n",
    "minor_ticks = [5, 7, 8, 9, 11, 12, 13, 14]\n",
    "sax.set_xticks(major_ticks, minor=False)\n",
    "sax.set_xticks(minor_ticks, minor=True)\n",
    "sax.set_xticklabels([f'{t:d}' for t in major_ticks])\n",
    "sax.set_xlabel(\"cosmic time [Gyr]\")\n",
    "sax.xaxis.set_major_formatter(ScalarFormatter())\n",
    "#ax.legend(handles = bin_legend_handles, loc = \"center right\", bbox_to_anchor = (1, 0.6), frameon = False)\n",
    "\n",
    "fig.show()\n",
    "fig.tight_layout()\n",
    "fig.savefig(\"full_lj_plots/lms_llms_lin_zoom.pdf\", bbox_inches='tight', pad_inches=0)\n",
    "# How to extend the right plots down to y = 0?"
   ]
  },
  {
   "cell_type": "markdown",
   "metadata": {},
   "source": [
    "## Luminous merger rates\n",
    "The rate of luminous mergers as a function of redshift, subdivided according to z=0 halo mass"
   ]
  },
  {
   "cell_type": "code",
   "execution_count": null,
   "metadata": {},
   "outputs": [],
   "source": [
    "sim = haccytrees.Simulation.simulations['LastJourney']\n",
    "zsteps = sim.step2z(np.array(sim.cosmotools_steps))\n",
    "dz = zsteps[:-1] - zsteps[1:]\n",
    "\n",
    "for i, (this_mask, this_forest, this_progenitor_array) in enumerate(zip([halo_masks[0], fg_masks[0]], [forest, fg_forest], [progenitor_array, fg_progenitor_array])):\n",
    "    this_idx = np.nonzero(this_mask)[0]\n",
    "    mainbranch_index, mainbranch_mass = help_func_haccytrees.get_branches(this_idx, this_forest)\n",
    "    mergers_table = help_func_haccytrees.mainbranch_mergers(this_forest, this_progenitor_array, mainbranch_index)\n",
    "    luminous_mergers_table = help_func_haccytrees.get_binned_major_mergers(mergers_table)\n",
    "    "
   ]
  }
 ],
 "metadata": {
  "kernelspec": {
   "display_name": "fossil_groups_env",
   "language": "python",
   "name": "fossil_groups_env"
  },
  "language_info": {
   "codemirror_mode": {
    "name": "ipython",
    "version": 3
   },
   "file_extension": ".py",
   "mimetype": "text/x-python",
   "name": "python",
   "nbconvert_exporter": "python",
   "pygments_lexer": "ipython3",
   "version": "3.7.9"
  }
 },
 "nbformat": 4,
 "nbformat_minor": 4
}
