{
 "cells": [
  {
   "cell_type": "code",
   "execution_count": 1,
   "metadata": {},
   "outputs": [],
   "source": [
    "import numpy as np"
   ]
  },
  {
   "cell_type": "code",
   "execution_count": 11,
   "metadata": {},
   "outputs": [],
   "source": [
    "def find_halos(quant, sn, extremum, forest_table):\n",
    "        \n",
    "    masses_sn = np.array((2.7*10**9)*(forest_table.mass.loc[forest_table.snap_num == sn]))\n",
    "    halos_sn = np.array(forest_table.halo_id.loc[forest_table.snap_num== sn])\n",
    "\n",
    "    # Sort ft_masses_sn in order of decreasing extremum\n",
    "    sorted_masses = np.argsort(masses_sn) # Smallest to largest values\n",
    "    sorted_halo_ids = halos_sn[sorted_masses]\n",
    "\n",
    "    # Save only the desired values\n",
    "    if extremum == 'min':\n",
    "        halo_idx = sorted_halo_ids[:quant]\n",
    "\n",
    "    elif extremum == 'max':\n",
    "        halo_idx = sorted_halo_ids[-quant:]\n",
    "    \n",
    "    return halo_idx"
   ]
  },
  {
   "cell_type": "code",
   "execution_count": 9,
   "metadata": {},
   "outputs": [],
   "source": [
    "def old_find_halos(quant, sn, extremum, forest_table):\n",
    "        \n",
    "    ft_masses_sn = (2.7*10**9)*np.array(forest_table.mass.loc[forest_table.snap_num == sn]) #proxy for masses, changes throughout loop\n",
    "    shift = len(np.array(forest_table['mass'])) - len(ft_masses_sn)\n",
    "    halo_idx = np.empty(0)\n",
    "    halo_values = np.empty(0) \n",
    "    \n",
    "        #Find the minimum, add it to lists, rm from ft_masses_x, repeat\n",
    "    for i in np.arange(quant):\n",
    "        if extremum == 'max':\n",
    "            current_idx = np.argmax(ft_masses_sn)\n",
    "        elif extremum == 'min':\n",
    "            current_idx = np.argmin(ft_masses_sn)\n",
    "        halo_idx = np.append(halo_idx, np.int(current_idx + shift))\n",
    "        halo_values = np.append(halo_values, ft_masses_sn[current_idx])\n",
    "        ft_masses_sn = np.delete(ft_masses_sn, current_idx, None)\n",
    "        i = i + 1\n",
    "        \n",
    "        return halo_idx, halo_values"
   ]
  },
  {
   "cell_type": "code",
   "execution_count": null,
   "metadata": {},
   "outputs": [],
   "source": []
  }
 ],
 "metadata": {
  "kernelspec": {
   "display_name": "Python 3",
   "language": "python",
   "name": "python3"
  },
  "language_info": {
   "codemirror_mode": {
    "name": "ipython",
    "version": 3
   },
   "file_extension": ".py",
   "mimetype": "text/x-python",
   "name": "python",
   "nbconvert_exporter": "python",
   "pygments_lexer": "ipython3",
   "version": "3.8.3"
  }
 },
 "nbformat": 4,
 "nbformat_minor": 4
}
